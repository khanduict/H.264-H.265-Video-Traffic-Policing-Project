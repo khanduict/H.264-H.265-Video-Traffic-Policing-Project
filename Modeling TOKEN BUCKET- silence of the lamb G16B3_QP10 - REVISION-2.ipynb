{
 "cells": [
  {
   "cell_type": "code",
   "execution_count": null,
   "id": "792aeeb9",
   "metadata": {},
   "outputs": [],
   "source": []
  },
  {
   "cell_type": "code",
   "execution_count": 1,
   "id": "7b355191",
   "metadata": {},
   "outputs": [],
   "source": [
    "#import keras\n",
    "import tensorflow as tf\n",
    "import numpy as np\n",
    "import pandas as pd\n",
    "from sklearn.preprocessing import LabelEncoder\n",
    "\n",
    "from sklearn.preprocessing import MinMaxScaler\n",
    "from scipy.stats.distributions import gamma, pearson3\n",
    "from scipy.stats.distributions import poisson\n",
    "from scipy.stats.distributions import expon\n",
    "\n",
    "import statistics\n",
    "from scipy.stats import norm\n",
    "from scipy import stats\n",
    "import scipy.stats\n",
    "\n",
    "from tensorflow.keras.optimizers import Adam\n",
    "from tensorflow.keras.models import Sequential\n",
    "from tensorflow.keras.layers import LSTM, Dropout, Dense, SimpleRNN\n",
    "\n",
    "import matplotlib.pyplot as plt\n",
    "\n",
    "from sklearn.model_selection import train_test_split\n",
    "from sklearn.metrics import mean_squared_error\n",
    "from sklearn.preprocessing import RobustScaler\n",
    "from tensorflow.keras.callbacks import EarlyStopping, ModelCheckpoint, TensorBoard, ReduceLROnPlateau\n",
    "\n",
    "import seaborn as sns\n",
    "from fitter import Fitter, get_common_distributions, get_distributions\n",
    "from sklearn.neural_network import MLPClassifier\n",
    "\n",
    "\n",
    "from sklearn.preprocessing import LabelEncoder\n",
    "from keras.utils import to_categorical\n",
    "from tensorflow.keras.layers import Conv1D, Conv2D\n",
    "from tensorflow.keras.layers import MaxPooling1D, Dropout, Flatten\n",
    "from tensorflow.keras import  regularizers"
   ]
  },
  {
   "cell_type": "code",
   "execution_count": 2,
   "id": "e666c17e",
   "metadata": {},
   "outputs": [],
   "source": [
    "\n",
    "#import data\n",
    "data = pd.read_csv(\"../MODELING TOKEN BUCKET USING MACHINE LEARNING MODELS/H264-data/silence_of_the_lamb_G16B3_QP10.csv\",infer_datetime_format=True,\n",
    "                  parse_dates=['arrival_time'], index_col='arrival_time', \n",
    "                   names=['decoded_frame','arrival_time', 'video_frame', \n",
    "                                         'frame_size', 'x', 'y', 'z'])"
   ]
  },
  {
   "cell_type": "code",
   "execution_count": 3,
   "id": "43ada90f",
   "metadata": {},
   "outputs": [
    {
     "data": {
      "text/html": [
       "<div>\n",
       "<style scoped>\n",
       "    .dataframe tbody tr th:only-of-type {\n",
       "        vertical-align: middle;\n",
       "    }\n",
       "\n",
       "    .dataframe tbody tr th {\n",
       "        vertical-align: top;\n",
       "    }\n",
       "\n",
       "    .dataframe thead th {\n",
       "        text-align: right;\n",
       "    }\n",
       "</style>\n",
       "<table border=\"1\" class=\"dataframe\">\n",
       "  <thead>\n",
       "    <tr style=\"text-align: right;\">\n",
       "      <th></th>\n",
       "      <th>decoded_frame</th>\n",
       "      <th>video_frame</th>\n",
       "      <th>frame_size</th>\n",
       "      <th>x</th>\n",
       "      <th>y</th>\n",
       "      <th>z</th>\n",
       "    </tr>\n",
       "    <tr>\n",
       "      <th>arrival_time</th>\n",
       "      <th></th>\n",
       "      <th></th>\n",
       "      <th></th>\n",
       "      <th></th>\n",
       "      <th></th>\n",
       "      <th></th>\n",
       "    </tr>\n",
       "  </thead>\n",
       "  <tbody>\n",
       "    <tr>\n",
       "      <th>0.00000</th>\n",
       "      <td>0</td>\n",
       "      <td>I</td>\n",
       "      <td>536</td>\n",
       "      <td>98.19</td>\n",
       "      <td>92.17</td>\n",
       "      <td>92.17</td>\n",
       "    </tr>\n",
       "    <tr>\n",
       "      <th>133.33333</th>\n",
       "      <td>4</td>\n",
       "      <td>P</td>\n",
       "      <td>152</td>\n",
       "      <td>98.19</td>\n",
       "      <td>92.17</td>\n",
       "      <td>92.17</td>\n",
       "    </tr>\n",
       "    <tr>\n",
       "      <th>33.33333</th>\n",
       "      <td>1</td>\n",
       "      <td>B</td>\n",
       "      <td>136</td>\n",
       "      <td>98.19</td>\n",
       "      <td>92.17</td>\n",
       "      <td>92.17</td>\n",
       "    </tr>\n",
       "    <tr>\n",
       "      <th>66.66667</th>\n",
       "      <td>2</td>\n",
       "      <td>B</td>\n",
       "      <td>136</td>\n",
       "      <td>98.19</td>\n",
       "      <td>92.17</td>\n",
       "      <td>92.17</td>\n",
       "    </tr>\n",
       "    <tr>\n",
       "      <th>100.00000</th>\n",
       "      <td>3</td>\n",
       "      <td>B</td>\n",
       "      <td>136</td>\n",
       "      <td>98.19</td>\n",
       "      <td>92.17</td>\n",
       "      <td>92.17</td>\n",
       "    </tr>\n",
       "  </tbody>\n",
       "</table>\n",
       "</div>"
      ],
      "text/plain": [
       "              decoded_frame video_frame  frame_size      x      y      z\n",
       "arrival_time                                                            \n",
       "0.00000                   0           I         536  98.19  92.17  92.17\n",
       "133.33333                 4           P         152  98.19  92.17  92.17\n",
       "33.33333                  1           B         136  98.19  92.17  92.17\n",
       "66.66667                  2           B         136  98.19  92.17  92.17\n",
       "100.00000                 3           B         136  98.19  92.17  92.17"
      ]
     },
     "execution_count": 3,
     "metadata": {},
     "output_type": "execute_result"
    }
   ],
   "source": [
    "data.head()"
   ]
  },
  {
   "cell_type": "code",
   "execution_count": 4,
   "id": "practical-convertible",
   "metadata": {},
   "outputs": [
    {
     "data": {
      "text/plain": [
       "(53997, 6)"
      ]
     },
     "execution_count": 4,
     "metadata": {},
     "output_type": "execute_result"
    }
   ],
   "source": [
    "data.shape"
   ]
  },
  {
   "cell_type": "code",
   "execution_count": 5,
   "id": "80682d22",
   "metadata": {},
   "outputs": [],
   "source": [
    "#drop decoded frame column\n",
    "data.drop(('decoded_frame'), axis=1, inplace=True)\n",
    "\n",
    "data.drop(('x'), axis=1, inplace=True)\n",
    "data.drop(('y'), axis=1, inplace=True)\n",
    "data.drop(('z'), axis=1, inplace=True)"
   ]
  },
  {
   "cell_type": "code",
   "execution_count": 6,
   "id": "5287d5d1",
   "metadata": {},
   "outputs": [
    {
     "name": "stdout",
     "output_type": "stream",
     "text": [
      "['B', 'I', 'P']\n"
     ]
    }
   ],
   "source": [
    "# Label encoding of species column numerically\n",
    "le = LabelEncoder()\n",
    "le.fit(data['video_frame'])\n",
    "print(list(le.classes_))\n",
    "data['video_frame'] = le.transform(data['video_frame'])"
   ]
  },
  {
   "cell_type": "code",
   "execution_count": 7,
   "id": "790baa7b",
   "metadata": {},
   "outputs": [
    {
     "data": {
      "text/html": [
       "<div>\n",
       "<style scoped>\n",
       "    .dataframe tbody tr th:only-of-type {\n",
       "        vertical-align: middle;\n",
       "    }\n",
       "\n",
       "    .dataframe tbody tr th {\n",
       "        vertical-align: top;\n",
       "    }\n",
       "\n",
       "    .dataframe thead th {\n",
       "        text-align: right;\n",
       "    }\n",
       "</style>\n",
       "<table border=\"1\" class=\"dataframe\">\n",
       "  <thead>\n",
       "    <tr style=\"text-align: right;\">\n",
       "      <th></th>\n",
       "      <th>video_frame</th>\n",
       "      <th>frame_size</th>\n",
       "    </tr>\n",
       "    <tr>\n",
       "      <th>arrival_time</th>\n",
       "      <th></th>\n",
       "      <th></th>\n",
       "    </tr>\n",
       "  </thead>\n",
       "  <tbody>\n",
       "    <tr>\n",
       "      <th>0.00000</th>\n",
       "      <td>1</td>\n",
       "      <td>536</td>\n",
       "    </tr>\n",
       "    <tr>\n",
       "      <th>133.33333</th>\n",
       "      <td>2</td>\n",
       "      <td>152</td>\n",
       "    </tr>\n",
       "    <tr>\n",
       "      <th>33.33333</th>\n",
       "      <td>0</td>\n",
       "      <td>136</td>\n",
       "    </tr>\n",
       "    <tr>\n",
       "      <th>66.66667</th>\n",
       "      <td>0</td>\n",
       "      <td>136</td>\n",
       "    </tr>\n",
       "    <tr>\n",
       "      <th>100.00000</th>\n",
       "      <td>0</td>\n",
       "      <td>136</td>\n",
       "    </tr>\n",
       "  </tbody>\n",
       "</table>\n",
       "</div>"
      ],
      "text/plain": [
       "              video_frame  frame_size\n",
       "arrival_time                         \n",
       "0.00000                 1         536\n",
       "133.33333               2         152\n",
       "33.33333                0         136\n",
       "66.66667                0         136\n",
       "100.00000               0         136"
      ]
     },
     "execution_count": 7,
     "metadata": {},
     "output_type": "execute_result"
    }
   ],
   "source": [
    "data.head()"
   ]
  },
  {
   "cell_type": "code",
   "execution_count": 8,
   "id": "83889e1e",
   "metadata": {},
   "outputs": [],
   "source": [
    "data.frame_size.dropna(0,inplace= True)"
   ]
  },
  {
   "cell_type": "code",
   "execution_count": 9,
   "id": "4fce9ebb",
   "metadata": {},
   "outputs": [],
   "source": [
    "data.reset_index(inplace=True)"
   ]
  },
  {
   "cell_type": "code",
   "execution_count": 10,
   "id": "f97f0f7d",
   "metadata": {},
   "outputs": [
    {
     "data": {
      "text/html": [
       "<div>\n",
       "<style scoped>\n",
       "    .dataframe tbody tr th:only-of-type {\n",
       "        vertical-align: middle;\n",
       "    }\n",
       "\n",
       "    .dataframe tbody tr th {\n",
       "        vertical-align: top;\n",
       "    }\n",
       "\n",
       "    .dataframe thead th {\n",
       "        text-align: right;\n",
       "    }\n",
       "</style>\n",
       "<table border=\"1\" class=\"dataframe\">\n",
       "  <thead>\n",
       "    <tr style=\"text-align: right;\">\n",
       "      <th></th>\n",
       "      <th>arrival_time</th>\n",
       "      <th>video_frame</th>\n",
       "      <th>frame_size</th>\n",
       "    </tr>\n",
       "  </thead>\n",
       "  <tbody>\n",
       "    <tr>\n",
       "      <th>0</th>\n",
       "      <td>0.00000</td>\n",
       "      <td>1</td>\n",
       "      <td>536</td>\n",
       "    </tr>\n",
       "    <tr>\n",
       "      <th>1</th>\n",
       "      <td>133.33333</td>\n",
       "      <td>2</td>\n",
       "      <td>152</td>\n",
       "    </tr>\n",
       "    <tr>\n",
       "      <th>2</th>\n",
       "      <td>33.33333</td>\n",
       "      <td>0</td>\n",
       "      <td>136</td>\n",
       "    </tr>\n",
       "    <tr>\n",
       "      <th>3</th>\n",
       "      <td>66.66667</td>\n",
       "      <td>0</td>\n",
       "      <td>136</td>\n",
       "    </tr>\n",
       "    <tr>\n",
       "      <th>4</th>\n",
       "      <td>100.00000</td>\n",
       "      <td>0</td>\n",
       "      <td>136</td>\n",
       "    </tr>\n",
       "  </tbody>\n",
       "</table>\n",
       "</div>"
      ],
      "text/plain": [
       "   arrival_time  video_frame  frame_size\n",
       "0       0.00000            1         536\n",
       "1     133.33333            2         152\n",
       "2      33.33333            0         136\n",
       "3      66.66667            0         136\n",
       "4     100.00000            0         136"
      ]
     },
     "execution_count": 10,
     "metadata": {},
     "output_type": "execute_result"
    }
   ],
   "source": [
    "\n",
    "data.head()"
   ]
  },
  {
   "cell_type": "code",
   "execution_count": 11,
   "id": "3d5691ee",
   "metadata": {},
   "outputs": [],
   "source": [
    "data.sort_values('arrival_time', inplace=True)\n",
    "data.reset_index(drop=True, inplace=True)"
   ]
  },
  {
   "cell_type": "code",
   "execution_count": 12,
   "id": "4aa24849",
   "metadata": {},
   "outputs": [
    {
     "data": {
      "text/html": [
       "<div>\n",
       "<style scoped>\n",
       "    .dataframe tbody tr th:only-of-type {\n",
       "        vertical-align: middle;\n",
       "    }\n",
       "\n",
       "    .dataframe tbody tr th {\n",
       "        vertical-align: top;\n",
       "    }\n",
       "\n",
       "    .dataframe thead th {\n",
       "        text-align: right;\n",
       "    }\n",
       "</style>\n",
       "<table border=\"1\" class=\"dataframe\">\n",
       "  <thead>\n",
       "    <tr style=\"text-align: right;\">\n",
       "      <th></th>\n",
       "      <th>arrival_time</th>\n",
       "      <th>video_frame</th>\n",
       "      <th>frame_size</th>\n",
       "    </tr>\n",
       "  </thead>\n",
       "  <tbody>\n",
       "    <tr>\n",
       "      <th>0</th>\n",
       "      <td>0.00000</td>\n",
       "      <td>1</td>\n",
       "      <td>536</td>\n",
       "    </tr>\n",
       "    <tr>\n",
       "      <th>1</th>\n",
       "      <td>33.33333</td>\n",
       "      <td>0</td>\n",
       "      <td>136</td>\n",
       "    </tr>\n",
       "    <tr>\n",
       "      <th>2</th>\n",
       "      <td>66.66667</td>\n",
       "      <td>0</td>\n",
       "      <td>136</td>\n",
       "    </tr>\n",
       "    <tr>\n",
       "      <th>3</th>\n",
       "      <td>100.00000</td>\n",
       "      <td>0</td>\n",
       "      <td>136</td>\n",
       "    </tr>\n",
       "    <tr>\n",
       "      <th>4</th>\n",
       "      <td>133.33333</td>\n",
       "      <td>2</td>\n",
       "      <td>152</td>\n",
       "    </tr>\n",
       "  </tbody>\n",
       "</table>\n",
       "</div>"
      ],
      "text/plain": [
       "   arrival_time  video_frame  frame_size\n",
       "0       0.00000            1         536\n",
       "1      33.33333            0         136\n",
       "2      66.66667            0         136\n",
       "3     100.00000            0         136\n",
       "4     133.33333            2         152"
      ]
     },
     "execution_count": 12,
     "metadata": {},
     "output_type": "execute_result"
    }
   ],
   "source": [
    "data.head()"
   ]
  },
  {
   "cell_type": "code",
   "execution_count": 13,
   "id": "f505dbf6",
   "metadata": {},
   "outputs": [
    {
     "data": {
      "text/plain": [
       "arrival_time    0\n",
       "video_frame     0\n",
       "frame_size      0\n",
       "dtype: int64"
      ]
     },
     "execution_count": 13,
     "metadata": {},
     "output_type": "execute_result"
    }
   ],
   "source": [
    "data.isnull().sum()"
   ]
  },
  {
   "cell_type": "code",
   "execution_count": null,
   "id": "quiet-technician",
   "metadata": {},
   "outputs": [],
   "source": []
  },
  {
   "cell_type": "markdown",
   "id": "aggregate-elevation",
   "metadata": {},
   "source": [
    "# LSTM model"
   ]
  },
  {
   "cell_type": "code",
   "execution_count": 14,
   "id": "chinese-laundry",
   "metadata": {},
   "outputs": [],
   "source": [
    "data.frame_size.dropna(0, inplace=True)"
   ]
  },
  {
   "cell_type": "code",
   "execution_count": 15,
   "id": "encouraging-vertical",
   "metadata": {},
   "outputs": [
    {
     "data": {
      "text/plain": [
       "(53997,)"
      ]
     },
     "execution_count": 15,
     "metadata": {},
     "output_type": "execute_result"
    }
   ],
   "source": [
    "dataset = data.frame_size.values #numpy.ndarray\n",
    "#dataset = dataset.astype('float32')\n",
    "dataset.shape"
   ]
  },
  {
   "cell_type": "code",
   "execution_count": 16,
   "id": "fixed-finance",
   "metadata": {},
   "outputs": [
    {
     "name": "stdout",
     "output_type": "stream",
     "text": [
      "(53997, 1)\n"
     ]
    }
   ],
   "source": [
    "dataset = pd.DataFrame(dataset)\n",
    "print(dataset.shape)"
   ]
  },
  {
   "cell_type": "code",
   "execution_count": 17,
   "id": "human-progressive",
   "metadata": {},
   "outputs": [],
   "source": [
    "# *****************split into train and test sets********************\n",
    "\n",
    "test_split = int(len(dataset) * 0.8)\n",
    "\n",
    "train = dataset[:test_split]\n",
    "test = dataset[test_split:]"
   ]
  },
  {
   "cell_type": "code",
   "execution_count": 18,
   "id": "nutritional-radar",
   "metadata": {},
   "outputs": [],
   "source": [
    "#********Data normalization**************************\n",
    "\n",
    "scaler = MinMaxScaler(feature_range=(-1, 1))\n",
    "\n",
    "train = scaler.fit_transform(train)\n",
    "test = scaler.transform(test)"
   ]
  },
  {
   "cell_type": "code",
   "execution_count": 19,
   "id": "featured-internet",
   "metadata": {},
   "outputs": [
    {
     "name": "stdout",
     "output_type": "stream",
     "text": [
      "(43193, 3) (43193,)\n",
      "(10796, 3) (10796,)\n"
     ]
    }
   ],
   "source": [
    "# ******************frame a lagged sequence problem*************\n",
    "\n",
    "def create_dataset(dataset, look_back=1):\n",
    "    X, Y = [], []\n",
    "    for i in range(len(dataset)-look_back-1):\n",
    "        a = dataset[i:(i+look_back), 0]\n",
    "        X.append(a)\n",
    "        Y.append(dataset[i + look_back, 0])\n",
    "    return np.array(X), np.array(Y)\n",
    "    \n",
    "look_back = 3\n",
    "X_train, y_train = create_dataset(train, look_back)\n",
    "X_test, y_test = create_dataset(test, look_back)\n",
    "\n",
    "print(X_train.shape, y_train.shape)\n",
    "print(X_test.shape, y_test.shape)"
   ]
  },
  {
   "cell_type": "code",
   "execution_count": 20,
   "id": "economic-honor",
   "metadata": {},
   "outputs": [
    {
     "name": "stdout",
     "output_type": "stream",
     "text": [
      "X_train (43193, 3, 1)\n",
      "X_test (10796, 3, 1)\n"
     ]
    }
   ],
   "source": [
    "#*******Reshape from[samples, timesteps] into [samples, timesteps, features]*************\n",
    "\n",
    "# reshape input to be [samples, time steps, features]\n",
    "X_train = np.reshape(X_train, (X_train.shape[0], X_train.shape[1], 1))\n",
    "X_test = np.reshape(X_test, (X_test.shape[0], X_test.shape[1], 1))\n",
    "\n",
    "print('X_train',X_train.shape)\n",
    "print('X_test', X_test.shape)\n",
    "\n",
    "# convert 1 D to 2D array\n",
    "#test_y = test_y.reshape((test_y.shape[0], 1))\n",
    "#print(test_y.shape)"
   ]
  },
  {
   "cell_type": "code",
   "execution_count": 21,
   "id": "detected-beauty",
   "metadata": {},
   "outputs": [],
   "source": [
    "#********************Build Model****************************\n",
    "\n",
    "def lstm_model():\n",
    "    \n",
    "    model = tf.keras.models.Sequential()\n",
    "    model.add(LSTM(128, input_shape=(look_back,1),kernel_regularizer=regularizers.l2(0.001)\n",
    "                ))\n",
    "    model.add(tf.keras.layers.Dropout(rate=0.50))\n",
    "    \n",
    "    #model.add(LSTM(128, kernel_initializer='glorot_uniform',activation='relu'))\n",
    "    model.add(Dense(1))\n",
    "    model.summary()\n",
    "    \n",
    "     #optimizer = tf.keras.optimizers.Adam(lr=0.0001)\n",
    "    model.compile(optimizer= 'adam', loss='mse')\n",
    "      \n",
    "    return model"
   ]
  },
  {
   "cell_type": "code",
   "execution_count": 22,
   "id": "applied-hunter",
   "metadata": {},
   "outputs": [
    {
     "name": "stdout",
     "output_type": "stream",
     "text": [
      "Model: \"sequential\"\n",
      "_________________________________________________________________\n",
      "Layer (type)                 Output Shape              Param #   \n",
      "=================================================================\n",
      "lstm (LSTM)                  (None, 128)               66560     \n",
      "_________________________________________________________________\n",
      "dropout (Dropout)            (None, 128)               0         \n",
      "_________________________________________________________________\n",
      "dense (Dense)                (None, 1)                 129       \n",
      "=================================================================\n",
      "Total params: 66,689\n",
      "Trainable params: 66,689\n",
      "Non-trainable params: 0\n",
      "_________________________________________________________________\n",
      "Epoch 1/100\n",
      "1080/1080 [==============================] - 6s 4ms/step - loss: 0.1102 - val_loss: 0.0431\n",
      "Epoch 2/100\n",
      "1080/1080 [==============================] - 3s 3ms/step - loss: 0.0670 - val_loss: 0.0447\n",
      "Epoch 3/100\n",
      "1080/1080 [==============================] - 3s 3ms/step - loss: 0.0662 - val_loss: 0.0464\n",
      "Epoch 4/100\n",
      "1080/1080 [==============================] - 3s 3ms/step - loss: 0.0668 - val_loss: 0.0470\n",
      "Epoch 5/100\n",
      "1080/1080 [==============================] - 3s 3ms/step - loss: 0.0672 - val_loss: 0.0490\n",
      "Epoch 6/100\n",
      "1080/1080 [==============================] - 3s 3ms/step - loss: 0.0673 - val_loss: 0.0513\n",
      "Epoch 7/100\n",
      "1080/1080 [==============================] - 3s 3ms/step - loss: 0.0674 - val_loss: 0.0515\n",
      "Epoch 8/100\n",
      "1080/1080 [==============================] - 3s 3ms/step - loss: 0.0670 - val_loss: 0.0518\n",
      "Epoch 9/100\n",
      "1080/1080 [==============================] - 3s 3ms/step - loss: 0.0666 - val_loss: 0.0515\n",
      "Epoch 10/100\n",
      "1080/1080 [==============================] - 3s 2ms/step - loss: 0.0661 - val_loss: 0.0514\n",
      "Epoch 11/100\n",
      "1080/1080 [==============================] - 3s 2ms/step - loss: 0.0659 - val_loss: 0.0507\n",
      "Epoch 12/100\n",
      "1080/1080 [==============================] - 3s 2ms/step - loss: 0.0653 - val_loss: 0.0481\n",
      "Epoch 13/100\n",
      "1080/1080 [==============================] - 3s 2ms/step - loss: 0.0645 - val_loss: 0.0459\n",
      "Epoch 14/100\n",
      "1080/1080 [==============================] - 3s 3ms/step - loss: 0.0640 - val_loss: 0.0446\n",
      "Epoch 15/100\n",
      "1080/1080 [==============================] - 3s 3ms/step - loss: 0.0635 - val_loss: 0.0439\n",
      "Epoch 16/100\n",
      "1080/1080 [==============================] - 3s 3ms/step - loss: 0.0631 - val_loss: 0.0433\n",
      "Epoch 17/100\n",
      "1080/1080 [==============================] - 3s 3ms/step - loss: 0.0627 - val_loss: 0.0428\n",
      "Epoch 18/100\n",
      "1080/1080 [==============================] - 3s 3ms/step - loss: 0.0625 - val_loss: 0.0424\n",
      "Epoch 19/100\n",
      "1080/1080 [==============================] - 3s 3ms/step - loss: 0.0622 - val_loss: 0.0423\n",
      "Epoch 20/100\n",
      "1080/1080 [==============================] - 3s 3ms/step - loss: 0.0624 - val_loss: 0.0419\n",
      "Epoch 21/100\n",
      "1080/1080 [==============================] - 3s 3ms/step - loss: 0.0620 - val_loss: 0.0419\n",
      "Epoch 22/100\n",
      "1080/1080 [==============================] - 3s 3ms/step - loss: 0.0623 - val_loss: 0.0415\n",
      "Epoch 23/100\n",
      "1080/1080 [==============================] - 3s 3ms/step - loss: 0.0622 - val_loss: 0.0413\n",
      "Epoch 24/100\n",
      "1080/1080 [==============================] - 3s 3ms/step - loss: 0.0618 - val_loss: 0.0413\n",
      "Epoch 25/100\n",
      "1080/1080 [==============================] - 3s 3ms/step - loss: 0.0620 - val_loss: 0.0410\n",
      "Epoch 26/100\n",
      "1080/1080 [==============================] - 3s 2ms/step - loss: 0.0619 - val_loss: 0.0410\n",
      "Epoch 27/100\n",
      "1080/1080 [==============================] - 3s 2ms/step - loss: 0.0617 - val_loss: 0.0411\n",
      "Epoch 28/100\n",
      "1080/1080 [==============================] - 3s 3ms/step - loss: 0.0618 - val_loss: 0.0409\n",
      "Epoch 29/100\n",
      "1080/1080 [==============================] - 3s 2ms/step - loss: 0.0616 - val_loss: 0.0408\n",
      "Epoch 30/100\n",
      "1080/1080 [==============================] - 3s 3ms/step - loss: 0.0615 - val_loss: 0.0409\n",
      "Epoch 31/100\n",
      "1080/1080 [==============================] - 3s 3ms/step - loss: 0.0618 - val_loss: 0.0408\n",
      "Epoch 32/100\n",
      "1080/1080 [==============================] - 3s 3ms/step - loss: 0.0615 - val_loss: 0.0406\n",
      "Epoch 33/100\n",
      "1080/1080 [==============================] - 3s 2ms/step - loss: 0.0615 - val_loss: 0.0405\n",
      "Epoch 34/100\n",
      "1080/1080 [==============================] - 3s 2ms/step - loss: 0.0613 - val_loss: 0.0405\n",
      "Epoch 35/100\n",
      "1080/1080 [==============================] - 3s 2ms/step - loss: 0.0613 - val_loss: 0.0403\n",
      "Epoch 36/100\n",
      "1080/1080 [==============================] - 3s 2ms/step - loss: 0.0610 - val_loss: 0.0403\n",
      "Epoch 37/100\n",
      "1080/1080 [==============================] - 3s 2ms/step - loss: 0.0612 - val_loss: 0.0404\n",
      "Epoch 38/100\n",
      "1080/1080 [==============================] - 3s 2ms/step - loss: 0.0611 - val_loss: 0.0404\n",
      "Epoch 39/100\n",
      "1080/1080 [==============================] - 3s 2ms/step - loss: 0.0611 - val_loss: 0.0402\n",
      "Epoch 40/100\n",
      "1080/1080 [==============================] - 3s 3ms/step - loss: 0.0610 - val_loss: 0.0403\n",
      "Epoch 41/100\n",
      "1080/1080 [==============================] - 3s 3ms/step - loss: 0.0611 - val_loss: 0.0400\n",
      "Epoch 42/100\n",
      "1080/1080 [==============================] - 3s 3ms/step - loss: 0.0609 - val_loss: 0.0400\n",
      "Epoch 43/100\n",
      "1080/1080 [==============================] - 3s 2ms/step - loss: 0.0609 - val_loss: 0.0399\n",
      "Epoch 44/100\n",
      "1080/1080 [==============================] - 3s 2ms/step - loss: 0.0608 - val_loss: 0.0399\n",
      "Epoch 45/100\n",
      "1080/1080 [==============================] - 3s 2ms/step - loss: 0.0606 - val_loss: 0.0398\n",
      "Epoch 46/100\n",
      "1080/1080 [==============================] - 3s 2ms/step - loss: 0.0607 - val_loss: 0.0398\n",
      "Epoch 47/100\n",
      "1080/1080 [==============================] - 3s 2ms/step - loss: 0.0608 - val_loss: 0.0396\n",
      "Epoch 48/100\n",
      "1080/1080 [==============================] - 3s 2ms/step - loss: 0.0606 - val_loss: 0.0397\n",
      "Epoch 49/100\n",
      "1080/1080 [==============================] - 3s 3ms/step - loss: 0.0608 - val_loss: 0.0396\n",
      "Epoch 50/100\n",
      "1080/1080 [==============================] - 3s 3ms/step - loss: 0.0605 - val_loss: 0.0395\n",
      "Epoch 51/100\n",
      "1080/1080 [==============================] - 3s 3ms/step - loss: 0.0605 - val_loss: 0.0394\n",
      "Epoch 52/100\n",
      "1080/1080 [==============================] - 3s 3ms/step - loss: 0.0604 - val_loss: 0.0394\n",
      "Epoch 53/100\n",
      "1080/1080 [==============================] - 3s 3ms/step - loss: 0.0605 - val_loss: 0.0392\n",
      "Epoch 54/100\n",
      "1080/1080 [==============================] - 3s 3ms/step - loss: 0.0604 - val_loss: 0.0392\n",
      "Epoch 55/100\n",
      "1080/1080 [==============================] - 3s 3ms/step - loss: 0.0602 - val_loss: 0.0390\n",
      "Epoch 56/100\n",
      "1080/1080 [==============================] - 3s 3ms/step - loss: 0.0600 - val_loss: 0.0390\n",
      "Epoch 57/100\n",
      "1080/1080 [==============================] - 3s 3ms/step - loss: 0.0601 - val_loss: 0.0389\n",
      "Epoch 58/100\n",
      "1080/1080 [==============================] - 3s 3ms/step - loss: 0.0600 - val_loss: 0.0388\n",
      "Epoch 59/100\n",
      "1080/1080 [==============================] - 3s 3ms/step - loss: 0.0598 - val_loss: 0.0386\n",
      "Epoch 60/100\n",
      "1080/1080 [==============================] - 3s 3ms/step - loss: 0.0597 - val_loss: 0.0387\n",
      "Epoch 61/100\n",
      "1080/1080 [==============================] - 3s 3ms/step - loss: 0.0598 - val_loss: 0.0386\n",
      "Epoch 62/100\n",
      "1080/1080 [==============================] - 3s 3ms/step - loss: 0.0599 - val_loss: 0.0384\n",
      "Epoch 63/100\n",
      "1080/1080 [==============================] - 3s 3ms/step - loss: 0.0595 - val_loss: 0.0385\n",
      "Epoch 64/100\n",
      "1080/1080 [==============================] - 3s 3ms/step - loss: 0.0596 - val_loss: 0.0383\n",
      "Epoch 65/100\n",
      "1080/1080 [==============================] - 3s 3ms/step - loss: 0.0597 - val_loss: 0.0383\n",
      "Epoch 66/100\n",
      "1080/1080 [==============================] - 3s 3ms/step - loss: 0.0596 - val_loss: 0.0382\n",
      "Epoch 67/100\n",
      "1080/1080 [==============================] - 3s 3ms/step - loss: 0.0596 - val_loss: 0.0383\n",
      "Epoch 68/100\n",
      "1080/1080 [==============================] - 3s 3ms/step - loss: 0.0596 - val_loss: 0.0381\n",
      "Epoch 69/100\n",
      "1080/1080 [==============================] - 3s 3ms/step - loss: 0.0595 - val_loss: 0.0381\n",
      "Epoch 70/100\n",
      "1080/1080 [==============================] - 3s 3ms/step - loss: 0.0594 - val_loss: 0.0380\n",
      "Epoch 71/100\n",
      "1080/1080 [==============================] - 3s 3ms/step - loss: 0.0594 - val_loss: 0.0379\n",
      "Epoch 72/100\n",
      "1080/1080 [==============================] - 3s 3ms/step - loss: 0.0593 - val_loss: 0.0379\n",
      "Epoch 73/100\n",
      "1080/1080 [==============================] - 3s 3ms/step - loss: 0.0594 - val_loss: 0.0379\n",
      "Epoch 74/100\n",
      "1080/1080 [==============================] - 3s 3ms/step - loss: 0.0593 - val_loss: 0.0379\n",
      "Epoch 75/100\n",
      "1080/1080 [==============================] - 3s 3ms/step - loss: 0.0594 - val_loss: 0.0379\n",
      "Epoch 76/100\n",
      "1080/1080 [==============================] - 3s 3ms/step - loss: 0.0594 - val_loss: 0.0379\n",
      "Epoch 77/100\n",
      "1080/1080 [==============================] - 3s 3ms/step - loss: 0.0593 - val_loss: 0.0378\n",
      "Epoch 78/100\n",
      "1080/1080 [==============================] - 3s 3ms/step - loss: 0.0593 - val_loss: 0.0378\n",
      "Epoch 79/100\n",
      "1080/1080 [==============================] - 3s 3ms/step - loss: 0.0593 - val_loss: 0.0378\n",
      "Epoch 80/100\n",
      "1080/1080 [==============================] - 3s 3ms/step - loss: 0.0594 - val_loss: 0.0378\n",
      "Epoch 81/100\n",
      "1080/1080 [==============================] - 3s 3ms/step - loss: 0.0593 - val_loss: 0.0379\n",
      "Epoch 82/100\n",
      "1080/1080 [==============================] - 3s 3ms/step - loss: 0.0595 - val_loss: 0.0380\n",
      "Epoch 83/100\n",
      "1080/1080 [==============================] - 3s 3ms/step - loss: 0.0595 - val_loss: 0.0379\n",
      "Epoch 84/100\n",
      "1080/1080 [==============================] - 3s 3ms/step - loss: 0.0595 - val_loss: 0.0378\n",
      "Epoch 85/100\n",
      "1080/1080 [==============================] - 3s 3ms/step - loss: 0.0595 - val_loss: 0.0381\n",
      "Epoch 86/100\n",
      "1080/1080 [==============================] - 3s 3ms/step - loss: 0.0596 - val_loss: 0.0384\n",
      "Epoch 87/100\n",
      "1080/1080 [==============================] - 3s 3ms/step - loss: 0.0596 - val_loss: 0.0383\n",
      "Epoch 88/100\n",
      "1080/1080 [==============================] - 3s 3ms/step - loss: 0.0597 - val_loss: 0.0379\n",
      "Epoch 89/100\n",
      "1080/1080 [==============================] - 3s 2ms/step - loss: 0.0595 - val_loss: 0.0389\n",
      "Epoch 90/100\n",
      "1080/1080 [==============================] - 3s 3ms/step - loss: 0.0598 - val_loss: 0.0387\n",
      "Epoch 91/100\n",
      "1080/1080 [==============================] - 3s 3ms/step - loss: 0.0600 - val_loss: 0.0388\n",
      "Epoch 92/100\n",
      "1080/1080 [==============================] - 3s 3ms/step - loss: 0.0598 - val_loss: 0.0387\n",
      "Epoch 93/100\n",
      "1080/1080 [==============================] - 3s 3ms/step - loss: 0.0599 - val_loss: 0.0390\n",
      "Epoch 94/100\n",
      "1080/1080 [==============================] - 3s 3ms/step - loss: 0.0599 - val_loss: 0.0390\n",
      "Epoch 95/100\n",
      "1080/1080 [==============================] - 3s 3ms/step - loss: 0.0600 - val_loss: 0.0388\n",
      "Epoch 96/100\n",
      "1080/1080 [==============================] - 3s 3ms/step - loss: 0.0599 - val_loss: 0.0388\n",
      "Epoch 97/100\n",
      "1080/1080 [==============================] - 3s 3ms/step - loss: 0.0599 - val_loss: 0.0393\n",
      "Epoch 98/100\n",
      "1080/1080 [==============================] - 3s 3ms/step - loss: 0.0599 - val_loss: 0.0390\n",
      "Epoch 99/100\n",
      "1080/1080 [==============================] - 3s 3ms/step - loss: 0.0600 - val_loss: 0.0387\n",
      "Epoch 100/100\n",
      "1080/1080 [==============================] - 3s 2ms/step - loss: 0.0599 - val_loss: 0.0389\n"
     ]
    }
   ],
   "source": [
    "#*******************Train the model******************************\n",
    "\n",
    "callback_early_stopping = EarlyStopping(monitor='val_loss', patience=1000, verbose=1)\n",
    "callbacks = [callback_early_stopping]\n",
    "\n",
    "model_lstm =lstm_model()\n",
    "\n",
    "\n",
    "history_lstm = model_lstm.fit(X_train, y_train, batch_size = 32,validation_split=0.2, epochs = 100, verbose=1,\n",
    "                    callbacks=callbacks, shuffle=False)"
   ]
  },
  {
   "cell_type": "code",
   "execution_count": 23,
   "id": "extended-impression",
   "metadata": {},
   "outputs": [
    {
     "data": {
      "image/png": "[encoded data removed]",
      "text/plain": [
       "<Figure size 432x288 with 1 Axes>"
      ]
     },
     "metadata": {
      "needs_background": "light"
     },
     "output_type": "display_data"
    }
   ],
   "source": [
    "#***************************************Model validation loss*****************************************\n",
    "plt.figure()\n",
    "plt.plot(history_lstm.history['loss'])\n",
    "plt.plot(history_lstm.history['val_loss'])\n",
    "plt.title('Model Loss')\n",
    "plt.ylabel('Validation loss')\n",
    "plt.xlabel('Epoch')\n",
    "plt.legend(['Training data loss', 'Validation data loss'], loc='upper right')\n",
    "plt.show()"
   ]
  },
  {
   "cell_type": "code",
   "execution_count": 24,
   "id": "prepared-retrieval",
   "metadata": {},
   "outputs": [],
   "source": [
    "# convert 1 D to 2D array\n",
    "y_train = y_train.reshape((y_train.shape[0], 1))\n",
    "#print(test_y.shape)\n",
    "\n",
    "# convert 1 D to 2D array\n",
    "y_test = y_test.reshape((y_test.shape[0], 1))\n",
    "#print(test_y.shape)"
   ]
  },
  {
   "cell_type": "code",
   "execution_count": 25,
   "id": "injured-jungle",
   "metadata": {},
   "outputs": [],
   "source": [
    "# Data frame for evaluation metrics\n",
    "\n",
    "models = pd.DataFrame(index=['RPE'], \n",
    "                      columns=['KNN', 'Bagging', 'RandomForest','Linear Regression', \"LSTM\"])\n"
   ]
  },
  {
   "cell_type": "code",
   "execution_count": 26,
   "id": "desirable-liabilities",
   "metadata": {},
   "outputs": [],
   "source": [
    "# Relative Percentage Error\n",
    "def mean_relative_percentage_error(y_pred, y_true): \n",
    "    y_true, y_pred = np.array(y_pred), np.array(y_true)\n",
    "    return np.mean(np.abs((y_pred - y_true) / y_true)) * 100"
   ]
  },
  {
   "cell_type": "code",
   "execution_count": 27,
   "id": "unknown-sunrise",
   "metadata": {},
   "outputs": [],
   "source": [
    "\n",
    "yhat_lstm = model_lstm.predict(X_test)\n",
    "rpe_lstm = mean_relative_percentage_error(yhat_lstm, y_test)\n",
    "mse_lstm = mean_squared_error(y_test, yhat_lstm)\n",
    "#rmse_lstm = sqrt(mse_lstm)\n",
    "\n",
    "#rpe_rnn = mean_relative_percentage_error(y_test, yhat)\n",
    "models.loc['RPE','LSTM'] = mean_relative_percentage_error(yhat_lstm, y_test)\n",
    "#models.loc['rmse','LSTM'] = np.sqrt(mse_lstm)"
   ]
  },
  {
   "cell_type": "code",
   "execution_count": null,
   "id": "utility-sender",
   "metadata": {},
   "outputs": [],
   "source": []
  },
  {
   "cell_type": "markdown",
   "id": "cardiac-vegetarian",
   "metadata": {},
   "source": [
    "# Machine learning models"
   ]
  },
  {
   "cell_type": "code",
   "execution_count": 28,
   "id": "1cdd0346",
   "metadata": {},
   "outputs": [],
   "source": [
    "dataset= pd.DataFrame(data.frame_size)"
   ]
  },
  {
   "cell_type": "code",
   "execution_count": 29,
   "id": "3566b6c8",
   "metadata": {},
   "outputs": [
    {
     "data": {
      "text/plain": [
       "(53997, 1)"
      ]
     },
     "execution_count": 29,
     "metadata": {},
     "output_type": "execute_result"
    }
   ],
   "source": [
    "dataset.shape"
   ]
  },
  {
   "cell_type": "code",
   "execution_count": 30,
   "id": "ef48f856",
   "metadata": {},
   "outputs": [],
   "source": [
    "test_split = int(len(dataset) * 0.80)\n",
    "X_train = dataset[:test_split]\n",
    "y_train = dataset [:test_split]\n",
    "X_test = dataset [test_split:]\n",
    "y_test = dataset [test_split:]"
   ]
  },
  {
   "cell_type": "code",
   "execution_count": 31,
   "id": "a19e33b9",
   "metadata": {},
   "outputs": [
    {
     "name": "stdout",
     "output_type": "stream",
     "text": [
      "(43197, 1) (43197, 1) (10800, 1) (10800, 1)\n"
     ]
    }
   ],
   "source": [
    "print(X_train.shape, y_train.shape, X_test.shape, y_test.shape)"
   ]
  },
  {
   "cell_type": "code",
   "execution_count": 32,
   "id": "b7c72e36",
   "metadata": {},
   "outputs": [],
   "source": [
    "# ********Normalize the data******************\n",
    "\n",
    "robust_scaler = RobustScaler()\n",
    "X_train = robust_scaler.fit_transform(X_train)\n",
    "X_test = robust_scaler.transform(X_test)"
   ]
  },
  {
   "cell_type": "code",
   "execution_count": 33,
   "id": "acquired-telling",
   "metadata": {},
   "outputs": [
    {
     "data": {
      "text/plain": [
       "(43197, 1)"
      ]
     },
     "execution_count": 33,
     "metadata": {},
     "output_type": "execute_result"
    }
   ],
   "source": [
    "y_train.shape"
   ]
  },
  {
   "cell_type": "code",
   "execution_count": 34,
   "id": "spiritual-certificate",
   "metadata": {},
   "outputs": [],
   "source": [
    "y_train = np.array(y_train)\n",
    "y_train = y_train.reshape(y_train.shape[0])"
   ]
  },
  {
   "cell_type": "markdown",
   "id": "sudden-rhythm",
   "metadata": {},
   "source": [
    "# KNN Model"
   ]
  },
  {
   "cell_type": "code",
   "execution_count": 35,
   "id": "domestic-growing",
   "metadata": {},
   "outputs": [],
   "source": [
    "# 1. Import the estimator object (model)\n",
    "from sklearn.neighbors import KNeighborsRegressor\n",
    "\n",
    "# 2. Create an instance of the estimator\n",
    "knn = KNeighborsRegressor(n_neighbors=20, weights='distance', metric='euclidean', n_jobs=-1)\n",
    "\n",
    "# 3. Use the trainning data to train the estimator\n",
    "knn.fit(X_train, y_train)\n",
    "knn_pred= knn.predict(X_test)\n",
    "\n",
    "# 4. Evaluate the model\n",
    "#models.loc['train_mse','KNN'] = mean_squared_error(y_pred=knn.predict(X_train), \n",
    "                                                   # y_true=y_train)\n",
    "\n",
    "#models.loc['RMSE','KNN'] = np.sqrt(mean_squared_error(y_pred=knn.predict(X_test), \n",
    "                                                 #  y_true=y_test))\n",
    "models.loc['RPE','KNN'] = mean_relative_percentage_error(y_pred=knn.predict(X_test), \n",
    "                                                   y_true=y_test)"
   ]
  },
  {
   "cell_type": "markdown",
   "id": "sporting-press",
   "metadata": {},
   "source": [
    "# Bagging Model"
   ]
  },
  {
   "cell_type": "code",
   "execution_count": 36,
   "id": "moral-development",
   "metadata": {},
   "outputs": [
    {
     "data": {
      "text/plain": [
       "(43197,)"
      ]
     },
     "execution_count": 36,
     "metadata": {},
     "output_type": "execute_result"
    }
   ],
   "source": [
    "y_train.shape"
   ]
  },
  {
   "cell_type": "code",
   "execution_count": null,
   "id": "irish-antibody",
   "metadata": {},
   "outputs": [],
   "source": []
  },
  {
   "cell_type": "code",
   "execution_count": 37,
   "id": "solar-charm",
   "metadata": {},
   "outputs": [],
   "source": [
    "# 1. Import the estimator object (model)\n",
    "from sklearn.ensemble import BaggingRegressor\n",
    "# 2. Create an instance of the estimator\n",
    "knn_for_bagging = KNeighborsRegressor(n_neighbors=20, weights='distance', metric='euclidean')\n",
    "\n",
    "bagging = BaggingRegressor(base_estimator=knn_for_bagging, n_estimators=15, max_features=0.75, \n",
    "                            random_state=55, n_jobs=-1)\n",
    "# 3. Use the trainning data to train the estimator\n",
    "\n",
    "bagging.fit(X_train, y_train)\n",
    "\n",
    "bagging_pred = bagging.predict(X_test)\n",
    "# 4. Evaluate the model\n",
    "#models.loc['train_mse','Bagging'] = mean_squared_error(y_pred=bagging.predict(X_train), \n",
    "                                                   # y_true=y_train)\n",
    "\n",
    "#models.loc['RMSE','Bagging'] = np.sqrt(mean_squared_error(y_pred=bagging.predict(X_test), \n",
    "                                                 #  y_true=y_test))\n",
    "models.loc['RPE','Bagging'] = mean_relative_percentage_error(y_pred=bagging.predict(X_test), \n",
    "                                                   y_true=y_test)"
   ]
  },
  {
   "cell_type": "markdown",
   "id": "recognized-pipeline",
   "metadata": {},
   "source": [
    "# Random Forest"
   ]
  },
  {
   "cell_type": "code",
   "execution_count": 38,
   "id": "specialized-patrick",
   "metadata": {},
   "outputs": [],
   "source": [
    "# 1. Import the estimator object (model)\n",
    "from sklearn.ensemble import RandomForestRegressor\n",
    "\n",
    "# 2. Create an instance of the estimator\n",
    "RF = RandomForestRegressor(n_estimators=50, max_depth=16, random_state=55, n_jobs=-1)\n",
    "\n",
    "# 3. Use the trainning data to train the estimator\n",
    "RF.fit(X_train, y_train)\n",
    "\n",
    "RF_pred = RF.predict(X_test)\n",
    "# 4. Evaluate the model\n",
    "#models.loc['train_mse','RandomForest'] = mean_squared_error(y_pred=RF.predict(X_train), \n",
    "                                                  #  y_true=y_train)\n",
    "\n",
    "#models.loc['RMSE','RandomForest'] = np.sqrt(mean_squared_error(y_pred=RF.predict(X_test), y_true=y_test))\n",
    "models.loc['RPE','RandomForest'] = mean_relative_percentage_error(y_pred=RF.predict(X_test), y_true=y_test)"
   ]
  },
  {
   "cell_type": "markdown",
   "id": "julian-devon",
   "metadata": {},
   "source": [
    "# Boosting Model"
   ]
  },
  {
   "cell_type": "raw",
   "id": "continent-thought",
   "metadata": {},
   "source": [
    "# 1. Import the estimator object (model)\n",
    "from sklearn.ensemble import AdaBoostRegressor\n",
    "# 2. Create an instance of the estimator\n",
    "boosting = AdaBoostRegressor(n_estimators=50, learning_rate=0.05, random_state=55)                             \n",
    "# 3. Use the trainning data to train the estimator\n",
    "boosting.fit(X_train, y_train)\n",
    "\n",
    "boosting_pred= boosting.predict(X_test)\n",
    "# 4. Evaluate the model\n",
    "#models.loc['train_mse','Boosting'] = mean_squared_error(y_pred=boosting.predict(X_train), \n",
    "                                                 #   y_true=y_train)\n",
    "\n",
    "\n",
    "#models.loc['RMSE','Boosting'] = np.sqrt(mean_squared_error(y_pred=boosting.predict(X_test), \n",
    "                                                #y_true=y_test))\n",
    "models.loc['RPE','Boosting'] = mean_relative_percentage_error(y_pred=boosting.predict(X_test), \n",
    "                                                y_true=y_test)"
   ]
  },
  {
   "cell_type": "markdown",
   "id": "advance-albany",
   "metadata": {},
   "source": [
    "# Linear Regression model"
   ]
  },
  {
   "cell_type": "code",
   "execution_count": 39,
   "id": "forced-tuition",
   "metadata": {},
   "outputs": [],
   "source": [
    "\n",
    "# 1. Import the estimator object (model)\n",
    "from sklearn.linear_model import LinearRegression\n",
    "# 2. Create an instance of the estimator\n",
    "linear_regression = LinearRegression()\n",
    "# 3. Use the trainning data to train the estimator\n",
    "linear_regression.fit(X_train, y_train)\n",
    "\n",
    "# 4. Prediction\n",
    "lr_pred = linear_regression.predict(X_test)\n",
    "\n",
    "# 5. Evaluate the model\n",
    "#y_pred=linear_regression.predict(X_test)\n",
    "\n",
    "#models.loc['RMSE','Regression'] = np.sqrt(mean_squared_error(y_pred=linear_regression.predict(X_test), y_true=y_test))\n",
    "\n",
    "#models.loc['RMSE','LR'] = np.sqrt(mean_squared_error(y_pred=linear_regression.predict(X_test), \n",
    "                                              #  y_true=y_test))\n",
    "\n",
    "models.loc['RPE','Linear Regression'] = mean_relative_percentage_error(y_pred=linear_regression.predict(X_test), \n",
    "                                                y_true=y_test)"
   ]
  },
  {
   "cell_type": "code",
   "execution_count": null,
   "id": "usual-anchor",
   "metadata": {},
   "outputs": [],
   "source": []
  },
  {
   "cell_type": "code",
   "execution_count": 40,
   "id": "mineral-choice",
   "metadata": {},
   "outputs": [
    {
     "data": {
      "text/html": [
       "<div>\n",
       "<style scoped>\n",
       "    .dataframe tbody tr th:only-of-type {\n",
       "        vertical-align: middle;\n",
       "    }\n",
       "\n",
       "    .dataframe tbody tr th {\n",
       "        vertical-align: top;\n",
       "    }\n",
       "\n",
       "    .dataframe thead th {\n",
       "        text-align: right;\n",
       "    }\n",
       "</style>\n",
       "<table border=\"1\" class=\"dataframe\">\n",
       "  <thead>\n",
       "    <tr style=\"text-align: right;\">\n",
       "      <th></th>\n",
       "      <th>KNN</th>\n",
       "      <th>Bagging</th>\n",
       "      <th>RandomForest</th>\n",
       "      <th>Linear Regression</th>\n",
       "      <th>LSTM</th>\n",
       "    </tr>\n",
       "  </thead>\n",
       "  <tbody>\n",
       "    <tr>\n",
       "      <th>RPE</th>\n",
       "      <td>1537.363387</td>\n",
       "      <td>1537.263584</td>\n",
       "      <td>1537.313969</td>\n",
       "      <td>1537.34828</td>\n",
       "      <td>19.501488</td>\n",
       "    </tr>\n",
       "  </tbody>\n",
       "</table>\n",
       "</div>"
      ],
      "text/plain": [
       "             KNN      Bagging RandomForest Linear Regression       LSTM\n",
       "RPE  1537.363387  1537.263584  1537.313969        1537.34828  19.501488"
      ]
     },
     "execution_count": 40,
     "metadata": {},
     "output_type": "execute_result"
    }
   ],
   "source": [
    "models"
   ]
  },
  {
   "cell_type": "code",
   "execution_count": 41,
   "id": "military-flooring",
   "metadata": {},
   "outputs": [
    {
     "data": {
      "image/png": "[encoded data removed]",
      "text/plain": [
       "<Figure size 432x216 with 1 Axes>"
      ]
     },
     "metadata": {},
     "output_type": "display_data"
    }
   ],
   "source": [
    "import seaborn as sns\n",
    "sns.set_style(\"dark\")\n",
    "\n",
    "\n",
    "models.plot(kind='bar', width=0.8, figsize=(6,3))\n",
    "plt.xticks(rotation=30, horizontalalignment=\"center\")\n",
    "plt.title('NBC news G16B3_QP28');\n",
    "plt.xlabel('Models')\n",
    "plt.ylabel('Metrics')\n",
    "#ax2.set_ylabel('mape')\n",
    "\n",
    "plt.show()"
   ]
  },
  {
   "cell_type": "code",
   "execution_count": 42,
   "id": "another-south",
   "metadata": {},
   "outputs": [
    {
     "data": {
      "image/png": "[encoded data removed]",
      "text/plain": [
       "<Figure size 360x216 with 1 Axes>"
      ]
     },
     "metadata": {},
     "output_type": "display_data"
    }
   ],
   "source": [
    "fig, ax = plt.subplots(figsize=(5,3))\n",
    "bar_width = 0.15\n",
    "\n",
    "#models.loc['rmse'].sort_values().plot(kind='bar', ax=ax, alpha=0.9)\n",
    "models.loc['RPE'].sort_values().plot(kind='bar', ax=ax, alpha=0.9)\n",
    "ax.set_title('RPE value for G16B3_QP28_verbose');"
   ]
  },
  {
   "cell_type": "code",
   "execution_count": 43,
   "id": "random-fiction",
   "metadata": {},
   "outputs": [
    {
     "data": {
      "text/plain": [
       "Text(0, 0.5, 'Models')"
      ]
     },
     "execution_count": 43,
     "metadata": {},
     "output_type": "execute_result"
    },
    {
     "data": {
      "image/png": "[encoded data removed]",
      "text/plain": [
       "<Figure size 432x288 with 1 Axes>"
      ]
     },
     "metadata": {},
     "output_type": "display_data"
    }
   ],
   "source": [
    "fig, ax = plt.subplots(figsize=(6,4))\n",
    "models.loc['RPE'].sort_values().plot(kind='barh', ax=ax)\n",
    "#ax.set_title('RPE value for G16B3_QP28_verbose');\n",
    "plt.xlabel('Performance metrics')\n",
    "plt.ylabel('Models')"
   ]
  },
  {
   "cell_type": "code",
   "execution_count": null,
   "id": "looking-minutes",
   "metadata": {},
   "outputs": [],
   "source": []
  },
  {
   "cell_type": "code",
   "execution_count": null,
   "id": "chicken-quick",
   "metadata": {},
   "outputs": [],
   "source": []
  },
  {
   "cell_type": "markdown",
   "id": "empty-polymer",
   "metadata": {},
   "source": [
    "# Best performing model"
   ]
  },
  {
   "cell_type": "code",
   "execution_count": 45,
   "id": "severe-supply",
   "metadata": {},
   "outputs": [],
   "source": [
    "\n",
    "# 4. Evaluate the model\n",
    "#y_pred_RF = RF.predict(X_test)\n",
    "\n",
    "#boosting_pred= boosting.predict(X_test)\n",
    "\n",
    "knn_pred= knn.predict(X_test)\n",
    "\n",
    "# 4. Prediction\n",
    "#lr_pred = linear_regression.predict(X_test)"
   ]
  },
  {
   "cell_type": "code",
   "execution_count": 46,
   "id": "aware-desperate",
   "metadata": {},
   "outputs": [],
   "source": [
    "X_test=robust_scaler.inverse_transform(X_test)"
   ]
  },
  {
   "cell_type": "code",
   "execution_count": 47,
   "id": "geographic-limit",
   "metadata": {},
   "outputs": [],
   "source": [
    "#print(y_pred_RF.shape)"
   ]
  },
  {
   "cell_type": "code",
   "execution_count": 48,
   "id": "surprised-glance",
   "metadata": {},
   "outputs": [],
   "source": [
    "class_0=[]\n",
    "\n",
    "for x,p in zip(X_test, knn_pred):\n",
    "    class_0.append(x[0])\n"
   ]
  },
  {
   "cell_type": "code",
   "execution_count": 49,
   "id": "precise-dakota",
   "metadata": {},
   "outputs": [
    {
     "name": "stdout",
     "output_type": "stream",
     "text": [
      "10800\n"
     ]
    }
   ],
   "source": [
    "print(len(class_0))\n"
   ]
  },
  {
   "cell_type": "code",
   "execution_count": 50,
   "id": "placed-television",
   "metadata": {},
   "outputs": [
    {
     "name": "stdout",
     "output_type": "stream",
     "text": [
      "   class0_frameSize\n",
      "0           24312.0\n",
      "1           28872.0\n",
      "2           28920.0\n",
      "3          194096.0\n",
      "4             184.0\n"
     ]
    }
   ],
   "source": [
    "df0=pd.DataFrame(class_0, columns =['class0_frameSize'])\n",
    "print(df0.head())"
   ]
  },
  {
   "cell_type": "code",
   "execution_count": 51,
   "id": "communist-world",
   "metadata": {},
   "outputs": [
    {
     "name": "stdout",
     "output_type": "stream",
     "text": [
      "37089.48074074074\n"
     ]
    }
   ],
   "source": [
    "df0_mean = np.mean(df0.class0_frameSize)\n",
    "print(df0_mean)"
   ]
  },
  {
   "cell_type": "code",
   "execution_count": 52,
   "id": "associate-listing",
   "metadata": {},
   "outputs": [
    {
     "name": "stdout",
     "output_type": "stream",
     "text": [
      "37090.0\n"
     ]
    }
   ],
   "source": [
    "\n",
    "df0_mean = np.ceil(df0_mean)\n",
    "print(df0_mean)"
   ]
  },
  {
   "cell_type": "code",
   "execution_count": 53,
   "id": "cardiovascular-collaboration",
   "metadata": {},
   "outputs": [
    {
     "name": "stdout",
     "output_type": "stream",
     "text": [
      "53997\n",
      "3209958344\n"
     ]
    }
   ],
   "source": [
    "num_of_frames = data.shape[0]\n",
    "total = np.sum(data.frame_size)\n",
    "print(num_of_frames)\n",
    "print(total)"
   ]
  },
  {
   "cell_type": "code",
   "execution_count": 54,
   "id": "eleven-briefing",
   "metadata": {},
   "outputs": [
    {
     "name": "stdout",
     "output_type": "stream",
     "text": [
      "peak_frame 657824\n"
     ]
    }
   ],
   "source": [
    "peak_frame = max(data.frame_size)\n",
    "print ('peak_frame', peak_frame)"
   ]
  },
  {
   "cell_type": "code",
   "execution_count": 55,
   "id": "subtle-encounter",
   "metadata": {},
   "outputs": [],
   "source": [
    "peak_frame = max(data.frame_size)\n",
    "mean_val = np.mean(data.frame_size)\n",
    "var_val = np.var(data.frame_size)\n",
    "#num_of_frames = data.shape[0]\n",
    "total = np.sum(data.frame_size)"
   ]
  },
  {
   "cell_type": "code",
   "execution_count": 56,
   "id": "valid-might",
   "metadata": {},
   "outputs": [
    {
     "name": "stdout",
     "output_type": "stream",
     "text": [
      "100.0\n",
      "42.566395434818766\n",
      "41.994164457605805\n",
      "41.60507828695985\n",
      "41.258298023570866\n",
      "40.987395131131336\n",
      "40.7871839348704\n",
      "40.60274490590087\n",
      "40.4458309693255\n",
      "40.349143857924155\n"
     ]
    }
   ],
   "source": [
    "#Token Bucket algorithm using mean token generation rate\n",
    "\n",
    "for m in range(10):  # \n",
    "    byte_sent = 0   # incoming packet forwarded \n",
    "    deleted_bytes = 0\n",
    "    bucket_size = 0  #  token bucket_size\n",
    "    marked_bytes = 0  # non conforming packets marked\n",
    "    j = 0\n",
    "    l = 0\n",
    "    max_bucket_size = m * peak_frame  # maximum bucket size - we increased the bucket size to 2,3,4.. \n",
    "                                       # ...and 10 times peak value, keeping the token generation rate equal \n",
    "    \n",
    "    for i in range(data.shape[0]):\n",
    "        bucket_size += df0_mean  # number of token added to the bucket - Initially we assigned the token generation rate\n",
    "                                    #in the token bucket equal to the mean rate of each trace\n",
    "            \n",
    "            \n",
    "        if bucket_size > max_bucket_size: #  if the bucket size is greater than the maximum bucket size\n",
    "            bucket_size = max_bucket_size # assigned bucket size equal to the peak of the trace\n",
    "            #l += 1\n",
    "        \n",
    "        if data.loc[i, 'frame_size'] <= bucket_size:  # if incoming packets less than the number of token \n",
    "                                                        #available in the bucket\n",
    "            byte_sent += data.loc[i, 'frame_size']  # incoming packets is forwarded\n",
    "            bucket_size = (bucket_size - data.loc[i, 'frame_size'])  # reset bucket size = number of tokens\n",
    "                                                                      #in the bucket- packet forwarded\n",
    "            \n",
    "        else:\n",
    "            byte_sent += bucket_size  # if incoming packets is greater than the number of token available in the bucket\n",
    "            marked_bytes += (data.loc[i, 'frame_size'] - bucket_size)  # incoming packet is marked as non-conforming\n",
    "            bucket_size = 0  # resetting bucket size to 0\n",
    "            \n",
    "    percent = marked_bytes * 100 / total\n",
    "    print(percent)\n",
    "            \n"
   ]
  },
  {
   "cell_type": "code",
   "execution_count": null,
   "id": "under-publication",
   "metadata": {},
   "outputs": [],
   "source": []
  },
  {
   "cell_type": "code",
   "execution_count": 57,
   "id": "individual-gasoline",
   "metadata": {},
   "outputs": [],
   "source": [
    "mean_frame = np.mean(data.frame_size)"
   ]
  },
  {
   "cell_type": "code",
   "execution_count": 58,
   "id": "designed-bullet",
   "metadata": {},
   "outputs": [
    {
     "name": "stdout",
     "output_type": "stream",
     "text": [
      "100.0\n",
      "24.811321621714526\n",
      "24.13566456591133\n",
      "23.66802896775377\n",
      "23.31716117814644\n",
      "23.039520022093107\n",
      "22.773644225953436\n",
      "22.549380471776857\n",
      "22.347136625819235\n",
      "22.183950499238104\n"
     ]
    }
   ],
   "source": [
    "#Token Bucket algorithm using mean token generation rate\n",
    "\n",
    "for m in range(10):  # \n",
    "    byte_sent = 0   # incoming packet forwarded \n",
    "    deleted_bytes = 0\n",
    "    bucket_size = 0  #  token bucket_size\n",
    "    marked_bytes = 0  # non conforming packets marked\n",
    "    j = 0\n",
    "    l = 0\n",
    "    max_bucket_size = m * peak_frame  # maximum bucket size - we increased the bucket size to 2,3,4.. \n",
    "                                       # ...and 10 times peak value, keeping the token generation rate equal \n",
    "    \n",
    "    for i in range(data.shape[0]):\n",
    "        bucket_size += mean_frame  # number of token added to the bucket - Initially we assigned the token generation rate\n",
    "                                    #in the token bucket equal to the mean rate of each trace\n",
    "            \n",
    "            \n",
    "        if bucket_size > max_bucket_size: #  if the bucket size is greater than the maximum bucket size\n",
    "            bucket_size = max_bucket_size # assigned bucket size equal to the peak of the trace\n",
    "            #l += 1\n",
    "        \n",
    "        if data.loc[i, 'frame_size'] <= bucket_size:  # if incoming packets less than the number of token \n",
    "                                                        #available in the bucket\n",
    "            byte_sent += data.loc[i, 'frame_size']  # incoming packets is forwarded\n",
    "            bucket_size = (bucket_size - data.loc[i, 'frame_size'])  # reset bucket size = number of tokens\n",
    "                                                                      #in the bucket- packet forwarded\n",
    "            \n",
    "        else:\n",
    "            byte_sent += bucket_size  # if incoming packets is greater than the number of token available in the bucket\n",
    "            marked_bytes += (data.loc[i, 'frame_size'] - bucket_size)  # incoming packet is marked as non-conforming\n",
    "            bucket_size = 0  # resetting bucket size to 0\n",
    "            \n",
    "    percent = marked_bytes * 100 / total\n",
    "    print(percent)\n",
    "            \n"
   ]
  },
  {
   "cell_type": "code",
   "execution_count": null,
   "id": "sweet-leisure",
   "metadata": {},
   "outputs": [],
   "source": []
  },
  {
   "cell_type": "code",
   "execution_count": null,
   "id": "binding-neighbor",
   "metadata": {},
   "outputs": [],
   "source": []
  }
 ],
 "metadata": {
  "kernelspec": {
   "display_name": "Python 3",
   "language": "python",
   "name": "python3"
  },
  "language_info": {
   "codemirror_mode": {
    "name": "ipython",
    "version": 3
   },
   "file_extension": ".py",
   "mimetype": "text/x-python",
   "name": "python",
   "nbconvert_exporter": "python",
   "pygments_lexer": "ipython3",
   "version": "3.8.5"
  }
 },
 "nbformat": 4,
 "nbformat_minor": 5
}
