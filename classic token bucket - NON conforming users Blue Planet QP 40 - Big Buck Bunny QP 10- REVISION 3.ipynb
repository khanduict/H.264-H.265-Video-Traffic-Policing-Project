{
 "cells": [
  {
   "cell_type": "code",
   "execution_count": null,
   "id": "c9ba02c3",
   "metadata": {},
   "outputs": [],
   "source": []
  },
  {
   "cell_type": "code",
   "execution_count": 1,
   "id": "1c1b08cc",
   "metadata": {},
   "outputs": [],
   "source": [
    "#import keras\n",
    "import tensorflow as tf\n",
    "import numpy as np\n",
    "import pandas as pd\n",
    "from sklearn.preprocessing import LabelEncoder\n",
    "\n",
    "\n",
    "from scipy.stats.distributions import gamma\n",
    "from scipy.stats.distributions import poisson\n",
    "from scipy.stats.distributions import expon\n",
    "\n",
    "import statistics\n",
    "from scipy.stats import norm\n",
    "from scipy import stats\n",
    "import scipy.stats\n",
    "\n",
    "import matplotlib.pyplot as plt\n",
    "\n"
   ]
  },
  {
   "cell_type": "code",
   "execution_count": 2,
   "id": "5e7c87fb",
   "metadata": {},
   "outputs": [],
   "source": [
    "#import data\n",
    "data = pd.read_csv(\"../TOKEN BUCKET ALGORITHM/H265-data/BigBuckBunny/bigbuckbunny-QP 10.csv\",infer_datetime_format=True,\n",
    "                  parse_dates=['arrival_time'], index_col='arrival_time', \n",
    "                   names=['decoded_frame','arrival_time', 'video_frame', \n",
    "                                         'frame_size', 'x', 'y', 'z'])\n"
   ]
  },
  {
   "cell_type": "code",
   "execution_count": 3,
   "id": "4142f9de",
   "metadata": {},
   "outputs": [
    {
     "data": {
      "text/html": [
       "<div>\n",
       "<style scoped>\n",
       "    .dataframe tbody tr th:only-of-type {\n",
       "        vertical-align: middle;\n",
       "    }\n",
       "\n",
       "    .dataframe tbody tr th {\n",
       "        vertical-align: top;\n",
       "    }\n",
       "\n",
       "    .dataframe thead th {\n",
       "        text-align: right;\n",
       "    }\n",
       "</style>\n",
       "<table border=\"1\" class=\"dataframe\">\n",
       "  <thead>\n",
       "    <tr style=\"text-align: right;\">\n",
       "      <th></th>\n",
       "      <th>decoded_frame</th>\n",
       "      <th>video_frame</th>\n",
       "      <th>frame_size</th>\n",
       "      <th>x</th>\n",
       "      <th>y</th>\n",
       "      <th>z</th>\n",
       "    </tr>\n",
       "    <tr>\n",
       "      <th>arrival_time</th>\n",
       "      <th></th>\n",
       "      <th></th>\n",
       "      <th></th>\n",
       "      <th></th>\n",
       "      <th></th>\n",
       "      <th></th>\n",
       "    </tr>\n",
       "  </thead>\n",
       "  <tbody>\n",
       "    <tr>\n",
       "      <th>0.00000</th>\n",
       "      <td>0</td>\n",
       "      <td>I</td>\n",
       "      <td>686.0</td>\n",
       "      <td>99.9900</td>\n",
       "      <td>99.9900</td>\n",
       "      <td>99.9900</td>\n",
       "    </tr>\n",
       "    <tr>\n",
       "      <th>0.04167</th>\n",
       "      <td>1</td>\n",
       "      <td>B</td>\n",
       "      <td>29.0</td>\n",
       "      <td>99.9900</td>\n",
       "      <td>99.9900</td>\n",
       "      <td>99.9900</td>\n",
       "    </tr>\n",
       "    <tr>\n",
       "      <th>0.08333</th>\n",
       "      <td>2</td>\n",
       "      <td>B</td>\n",
       "      <td>29.0</td>\n",
       "      <td>99.9900</td>\n",
       "      <td>99.9900</td>\n",
       "      <td>99.9900</td>\n",
       "    </tr>\n",
       "    <tr>\n",
       "      <th>0.12500</th>\n",
       "      <td>3</td>\n",
       "      <td>B</td>\n",
       "      <td>29.0</td>\n",
       "      <td>53.5502</td>\n",
       "      <td>99.9900</td>\n",
       "      <td>99.9900</td>\n",
       "    </tr>\n",
       "    <tr>\n",
       "      <th>0.16667</th>\n",
       "      <td>4</td>\n",
       "      <td>B</td>\n",
       "      <td>1210.0</td>\n",
       "      <td>56.6828</td>\n",
       "      <td>100.5062</td>\n",
       "      <td>92.7247</td>\n",
       "    </tr>\n",
       "  </tbody>\n",
       "</table>\n",
       "</div>"
      ],
      "text/plain": [
       "             decoded_frame video_frame  frame_size        x         y        z\n",
       "arrival_time                                                                  \n",
       "0.00000                  0           I       686.0  99.9900   99.9900  99.9900\n",
       "0.04167                  1           B        29.0  99.9900   99.9900  99.9900\n",
       "0.08333                  2           B        29.0  99.9900   99.9900  99.9900\n",
       "0.12500                  3           B        29.0  53.5502   99.9900  99.9900\n",
       "0.16667                  4           B      1210.0  56.6828  100.5062  92.7247"
      ]
     },
     "execution_count": 3,
     "metadata": {},
     "output_type": "execute_result"
    }
   ],
   "source": [
    "data.head()"
   ]
  },
  {
   "cell_type": "code",
   "execution_count": 4,
   "id": "authentic-breath",
   "metadata": {},
   "outputs": [],
   "source": [
    "data.dropna(0, inplace=True)"
   ]
  },
  {
   "cell_type": "code",
   "execution_count": null,
   "id": "ideal-guarantee",
   "metadata": {},
   "outputs": [],
   "source": []
  },
  {
   "cell_type": "code",
   "execution_count": 5,
   "id": "841316a0",
   "metadata": {},
   "outputs": [],
   "source": [
    "#drop decoded frame column\n",
    "data.drop(('decoded_frame'), axis=1, inplace=True)\n",
    "\n",
    "data.drop(('x'), axis=1, inplace=True)\n",
    "data.drop(('y'), axis=1, inplace=True)\n",
    "data.drop(('z'), axis=1, inplace=True)"
   ]
  },
  {
   "cell_type": "code",
   "execution_count": 6,
   "id": "9fc0740c",
   "metadata": {},
   "outputs": [
    {
     "name": "stdout",
     "output_type": "stream",
     "text": [
      "['B', 'I', 'P']\n"
     ]
    }
   ],
   "source": [
    "# Label encoding of species column numerically\n",
    "le = LabelEncoder()\n",
    "le.fit(data['video_frame'])\n",
    "print(list(le.classes_))\n",
    "data['video_frame'] = le.transform(data['video_frame'])"
   ]
  },
  {
   "cell_type": "code",
   "execution_count": 7,
   "id": "3e1acaf3",
   "metadata": {},
   "outputs": [
    {
     "data": {
      "text/html": [
       "<div>\n",
       "<style scoped>\n",
       "    .dataframe tbody tr th:only-of-type {\n",
       "        vertical-align: middle;\n",
       "    }\n",
       "\n",
       "    .dataframe tbody tr th {\n",
       "        vertical-align: top;\n",
       "    }\n",
       "\n",
       "    .dataframe thead th {\n",
       "        text-align: right;\n",
       "    }\n",
       "</style>\n",
       "<table border=\"1\" class=\"dataframe\">\n",
       "  <thead>\n",
       "    <tr style=\"text-align: right;\">\n",
       "      <th></th>\n",
       "      <th>video_frame</th>\n",
       "      <th>frame_size</th>\n",
       "    </tr>\n",
       "    <tr>\n",
       "      <th>arrival_time</th>\n",
       "      <th></th>\n",
       "      <th></th>\n",
       "    </tr>\n",
       "  </thead>\n",
       "  <tbody>\n",
       "    <tr>\n",
       "      <th>0.00000</th>\n",
       "      <td>1</td>\n",
       "      <td>686.0</td>\n",
       "    </tr>\n",
       "    <tr>\n",
       "      <th>0.04167</th>\n",
       "      <td>0</td>\n",
       "      <td>29.0</td>\n",
       "    </tr>\n",
       "    <tr>\n",
       "      <th>0.08333</th>\n",
       "      <td>0</td>\n",
       "      <td>29.0</td>\n",
       "    </tr>\n",
       "    <tr>\n",
       "      <th>0.12500</th>\n",
       "      <td>0</td>\n",
       "      <td>29.0</td>\n",
       "    </tr>\n",
       "    <tr>\n",
       "      <th>0.16667</th>\n",
       "      <td>0</td>\n",
       "      <td>1210.0</td>\n",
       "    </tr>\n",
       "  </tbody>\n",
       "</table>\n",
       "</div>"
      ],
      "text/plain": [
       "              video_frame  frame_size\n",
       "arrival_time                         \n",
       "0.00000                 1       686.0\n",
       "0.04167                 0        29.0\n",
       "0.08333                 0        29.0\n",
       "0.12500                 0        29.0\n",
       "0.16667                 0      1210.0"
      ]
     },
     "execution_count": 7,
     "metadata": {},
     "output_type": "execute_result"
    }
   ],
   "source": [
    "data.head()"
   ]
  },
  {
   "cell_type": "code",
   "execution_count": 8,
   "id": "15ac87b9",
   "metadata": {},
   "outputs": [],
   "source": [
    "#Drop NA values\n",
    "data.frame_size.dropna(0,inplace= True)"
   ]
  },
  {
   "cell_type": "code",
   "execution_count": 9,
   "id": "5e463bbe",
   "metadata": {},
   "outputs": [],
   "source": [
    "data.reset_index(inplace=True)"
   ]
  },
  {
   "cell_type": "code",
   "execution_count": 10,
   "id": "b5381ffc",
   "metadata": {},
   "outputs": [
    {
     "data": {
      "text/html": [
       "<div>\n",
       "<style scoped>\n",
       "    .dataframe tbody tr th:only-of-type {\n",
       "        vertical-align: middle;\n",
       "    }\n",
       "\n",
       "    .dataframe tbody tr th {\n",
       "        vertical-align: top;\n",
       "    }\n",
       "\n",
       "    .dataframe thead th {\n",
       "        text-align: right;\n",
       "    }\n",
       "</style>\n",
       "<table border=\"1\" class=\"dataframe\">\n",
       "  <thead>\n",
       "    <tr style=\"text-align: right;\">\n",
       "      <th></th>\n",
       "      <th>arrival_time</th>\n",
       "      <th>video_frame</th>\n",
       "      <th>frame_size</th>\n",
       "    </tr>\n",
       "  </thead>\n",
       "  <tbody>\n",
       "    <tr>\n",
       "      <th>0</th>\n",
       "      <td>0.00000</td>\n",
       "      <td>1</td>\n",
       "      <td>686.0</td>\n",
       "    </tr>\n",
       "    <tr>\n",
       "      <th>1</th>\n",
       "      <td>0.04167</td>\n",
       "      <td>0</td>\n",
       "      <td>29.0</td>\n",
       "    </tr>\n",
       "    <tr>\n",
       "      <th>2</th>\n",
       "      <td>0.08333</td>\n",
       "      <td>0</td>\n",
       "      <td>29.0</td>\n",
       "    </tr>\n",
       "    <tr>\n",
       "      <th>3</th>\n",
       "      <td>0.12500</td>\n",
       "      <td>0</td>\n",
       "      <td>29.0</td>\n",
       "    </tr>\n",
       "    <tr>\n",
       "      <th>4</th>\n",
       "      <td>0.16667</td>\n",
       "      <td>0</td>\n",
       "      <td>1210.0</td>\n",
       "    </tr>\n",
       "  </tbody>\n",
       "</table>\n",
       "</div>"
      ],
      "text/plain": [
       "   arrival_time  video_frame  frame_size\n",
       "0       0.00000            1       686.0\n",
       "1       0.04167            0        29.0\n",
       "2       0.08333            0        29.0\n",
       "3       0.12500            0        29.0\n",
       "4       0.16667            0      1210.0"
      ]
     },
     "execution_count": 10,
     "metadata": {},
     "output_type": "execute_result"
    }
   ],
   "source": [
    "data.head()"
   ]
  },
  {
   "cell_type": "code",
   "execution_count": 11,
   "id": "23d637d2",
   "metadata": {},
   "outputs": [],
   "source": [
    "#Sort the arrival time \n",
    "\n",
    "data.sort_values('arrival_time', inplace=True)\n",
    "data.reset_index(drop=True, inplace=True)"
   ]
  },
  {
   "cell_type": "code",
   "execution_count": 12,
   "id": "c57cd471",
   "metadata": {},
   "outputs": [
    {
     "data": {
      "text/html": [
       "<div>\n",
       "<style scoped>\n",
       "    .dataframe tbody tr th:only-of-type {\n",
       "        vertical-align: middle;\n",
       "    }\n",
       "\n",
       "    .dataframe tbody tr th {\n",
       "        vertical-align: top;\n",
       "    }\n",
       "\n",
       "    .dataframe thead th {\n",
       "        text-align: right;\n",
       "    }\n",
       "</style>\n",
       "<table border=\"1\" class=\"dataframe\">\n",
       "  <thead>\n",
       "    <tr style=\"text-align: right;\">\n",
       "      <th></th>\n",
       "      <th>arrival_time</th>\n",
       "      <th>video_frame</th>\n",
       "      <th>frame_size</th>\n",
       "    </tr>\n",
       "  </thead>\n",
       "  <tbody>\n",
       "    <tr>\n",
       "      <th>0</th>\n",
       "      <td>0.00000</td>\n",
       "      <td>1</td>\n",
       "      <td>686.0</td>\n",
       "    </tr>\n",
       "    <tr>\n",
       "      <th>1</th>\n",
       "      <td>0.04167</td>\n",
       "      <td>0</td>\n",
       "      <td>29.0</td>\n",
       "    </tr>\n",
       "    <tr>\n",
       "      <th>2</th>\n",
       "      <td>0.08333</td>\n",
       "      <td>0</td>\n",
       "      <td>29.0</td>\n",
       "    </tr>\n",
       "    <tr>\n",
       "      <th>3</th>\n",
       "      <td>0.12500</td>\n",
       "      <td>0</td>\n",
       "      <td>29.0</td>\n",
       "    </tr>\n",
       "    <tr>\n",
       "      <th>4</th>\n",
       "      <td>0.16667</td>\n",
       "      <td>0</td>\n",
       "      <td>1210.0</td>\n",
       "    </tr>\n",
       "  </tbody>\n",
       "</table>\n",
       "</div>"
      ],
      "text/plain": [
       "   arrival_time  video_frame  frame_size\n",
       "0       0.00000            1       686.0\n",
       "1       0.04167            0        29.0\n",
       "2       0.08333            0        29.0\n",
       "3       0.12500            0        29.0\n",
       "4       0.16667            0      1210.0"
      ]
     },
     "execution_count": 12,
     "metadata": {},
     "output_type": "execute_result"
    }
   ],
   "source": [
    "data.head()"
   ]
  },
  {
   "cell_type": "code",
   "execution_count": 13,
   "id": "23290013",
   "metadata": {},
   "outputs": [
    {
     "data": {
      "text/plain": [
       "arrival_time    0\n",
       "video_frame     0\n",
       "frame_size      0\n",
       "dtype: int64"
      ]
     },
     "execution_count": 13,
     "metadata": {},
     "output_type": "execute_result"
    }
   ],
   "source": [
    "#Check for missing values\n",
    "\n",
    "data.isnull().sum()"
   ]
  },
  {
   "cell_type": "code",
   "execution_count": null,
   "id": "twelve-empire",
   "metadata": {},
   "outputs": [],
   "source": []
  },
  {
   "cell_type": "code",
   "execution_count": 14,
   "id": "similar-marking",
   "metadata": {},
   "outputs": [
    {
     "name": "stdout",
     "output_type": "stream",
     "text": [
      "mean_frame 65775.0\n",
      "peak_frame 1116494.0\n",
      "939258987.0\n"
     ]
    }
   ],
   "source": [
    "mean_frame = np.mean(data.frame_size)\n",
    "mean_frame = np.ceil(mean_frame)\n",
    "print('mean_frame', mean_frame)\n",
    "\n",
    "\n",
    "peak_frame = max(data.frame_size)\n",
    "print ('peak_frame', peak_frame)\n",
    "\n",
    "total = np.sum(data.frame_size)\n",
    "print(total)"
   ]
  },
  {
   "cell_type": "code",
   "execution_count": 15,
   "id": "controversial-identity",
   "metadata": {},
   "outputs": [
    {
     "data": {
      "text/plain": [
       "14280"
      ]
     },
     "execution_count": 15,
     "metadata": {},
     "output_type": "execute_result"
    }
   ],
   "source": [
    "len(data.frame_size)"
   ]
  },
  {
   "cell_type": "code",
   "execution_count": 16,
   "id": "knowing-pharmacology",
   "metadata": {},
   "outputs": [
    {
     "data": {
      "text/plain": [
       "14280"
      ]
     },
     "execution_count": 16,
     "metadata": {},
     "output_type": "execute_result"
    }
   ],
   "source": [
    "data.shape[0]"
   ]
  },
  {
   "cell_type": "code",
   "execution_count": null,
   "id": "civil-greensboro",
   "metadata": {},
   "outputs": [],
   "source": []
  },
  {
   "cell_type": "markdown",
   "id": "overhead-conviction",
   "metadata": {},
   "source": [
    "***m = 10***"
   ]
  },
  {
   "cell_type": "code",
   "execution_count": 17,
   "id": "4e27b2e9",
   "metadata": {},
   "outputs": [
    {
     "name": "stdout",
     "output_type": "stream",
     "text": [
      "100.0\n",
      "24.021876726530593\n",
      "21.818274920589076\n",
      "20.27154157003557\n",
      "18.988195851034217\n",
      "17.892565770041443\n",
      "17.115527796381894\n",
      "16.54519905062138\n",
      "16.06972039544616\n",
      "15.59424174027094\n"
     ]
    }
   ],
   "source": [
    "#Token Bucket algorithm\n",
    "\n",
    "for m in range(10):\n",
    "    byte_sent = 0   # byte_sent \n",
    "    deleted_bytes = 0\n",
    "    bucket_size = 0  # bucket_size\n",
    "    marked_bytes = 0  #\n",
    "    j = 0\n",
    "    l = 0\n",
    "    max_bucket_size = m * peak_frame  # maximum bucket size\n",
    "    \n",
    "    for i in range(data.shape[0]):\n",
    "        \n",
    "        bucket_size += mean_frame\n",
    "        \n",
    "        if bucket_size > max_bucket_size:\n",
    "            bucket_size = max_bucket_size\n",
    "            l += 1\n",
    "        \n",
    "        if data.loc[i, 'frame_size'] <= bucket_size:\n",
    "            byte_sent += data.loc[i, 'frame_size']\n",
    "            bucket_size = (bucket_size - data.loc[i, 'frame_size'])\n",
    "            \n",
    "        else:\n",
    "            byte_sent += bucket_size\n",
    "            marked_bytes += (data.loc[i, 'frame_size'] - bucket_size)\n",
    "            bucket_size = 0\n",
    "            \n",
    "    percent = marked_bytes * 100 / total\n",
    "    print(percent)\n",
    "            \n",
    "\n"
   ]
  },
  {
   "cell_type": "code",
   "execution_count": null,
   "id": "surprised-president",
   "metadata": {},
   "outputs": [],
   "source": []
  },
  {
   "cell_type": "code",
   "execution_count": null,
   "id": "fleet-kennedy",
   "metadata": {},
   "outputs": [],
   "source": []
  },
  {
   "cell_type": "code",
   "execution_count": 18,
   "id": "apparent-lincoln",
   "metadata": {},
   "outputs": [],
   "source": [
    "\n",
    "\n",
    "#import data\n",
    "dataset = pd.read_csv(\"../TOKEN BUCKET ALGORITHM/H265-data/BluePlanet/blueplanet-QP 40.csv\",infer_datetime_format=True,\n",
    "                  parse_dates=['arrival_time'], index_col='arrival_time', \n",
    "                   names=['decoded_frame','arrival_time', 'video_frame', \n",
    "                                         'frame_size', 'x', 'y', 'z'])"
   ]
  },
  {
   "cell_type": "code",
   "execution_count": 19,
   "id": "polished-abuse",
   "metadata": {},
   "outputs": [
    {
     "data": {
      "text/html": [
       "<div>\n",
       "<style scoped>\n",
       "    .dataframe tbody tr th:only-of-type {\n",
       "        vertical-align: middle;\n",
       "    }\n",
       "\n",
       "    .dataframe tbody tr th {\n",
       "        vertical-align: top;\n",
       "    }\n",
       "\n",
       "    .dataframe thead th {\n",
       "        text-align: right;\n",
       "    }\n",
       "</style>\n",
       "<table border=\"1\" class=\"dataframe\">\n",
       "  <thead>\n",
       "    <tr style=\"text-align: right;\">\n",
       "      <th></th>\n",
       "      <th>decoded_frame</th>\n",
       "      <th>video_frame</th>\n",
       "      <th>frame_size</th>\n",
       "      <th>x</th>\n",
       "      <th>y</th>\n",
       "      <th>z</th>\n",
       "    </tr>\n",
       "    <tr>\n",
       "      <th>arrival_time</th>\n",
       "      <th></th>\n",
       "      <th></th>\n",
       "      <th></th>\n",
       "      <th></th>\n",
       "      <th></th>\n",
       "      <th></th>\n",
       "    </tr>\n",
       "  </thead>\n",
       "  <tbody>\n",
       "    <tr>\n",
       "      <th>0.00000</th>\n",
       "      <td>0</td>\n",
       "      <td>I</td>\n",
       "      <td>328.0</td>\n",
       "      <td>99.99</td>\n",
       "      <td>99.99</td>\n",
       "      <td>99.99</td>\n",
       "    </tr>\n",
       "    <tr>\n",
       "      <th>0.04167</th>\n",
       "      <td>1</td>\n",
       "      <td>B</td>\n",
       "      <td>23.0</td>\n",
       "      <td>99.99</td>\n",
       "      <td>99.99</td>\n",
       "      <td>99.99</td>\n",
       "    </tr>\n",
       "    <tr>\n",
       "      <th>0.08333</th>\n",
       "      <td>2</td>\n",
       "      <td>B</td>\n",
       "      <td>23.0</td>\n",
       "      <td>99.99</td>\n",
       "      <td>99.99</td>\n",
       "      <td>99.99</td>\n",
       "    </tr>\n",
       "    <tr>\n",
       "      <th>0.12500</th>\n",
       "      <td>3</td>\n",
       "      <td>B</td>\n",
       "      <td>23.0</td>\n",
       "      <td>99.99</td>\n",
       "      <td>99.99</td>\n",
       "      <td>99.99</td>\n",
       "    </tr>\n",
       "    <tr>\n",
       "      <th>0.16667</th>\n",
       "      <td>4</td>\n",
       "      <td>B</td>\n",
       "      <td>23.0</td>\n",
       "      <td>99.99</td>\n",
       "      <td>99.99</td>\n",
       "      <td>99.99</td>\n",
       "    </tr>\n",
       "  </tbody>\n",
       "</table>\n",
       "</div>"
      ],
      "text/plain": [
       "             decoded_frame video_frame  frame_size      x      y      z\n",
       "arrival_time                                                           \n",
       "0.00000                  0           I       328.0  99.99  99.99  99.99\n",
       "0.04167                  1           B        23.0  99.99  99.99  99.99\n",
       "0.08333                  2           B        23.0  99.99  99.99  99.99\n",
       "0.12500                  3           B        23.0  99.99  99.99  99.99\n",
       "0.16667                  4           B        23.0  99.99  99.99  99.99"
      ]
     },
     "execution_count": 19,
     "metadata": {},
     "output_type": "execute_result"
    }
   ],
   "source": [
    "dataset.head()"
   ]
  },
  {
   "cell_type": "code",
   "execution_count": 20,
   "id": "short-huntington",
   "metadata": {},
   "outputs": [],
   "source": [
    "dataset.dropna(0, inplace=True)"
   ]
  },
  {
   "cell_type": "code",
   "execution_count": 21,
   "id": "blank-sauce",
   "metadata": {},
   "outputs": [],
   "source": [
    "#drop decoded frame column\n",
    "dataset.drop(('decoded_frame'), axis=1, inplace=True)\n",
    "\n",
    "dataset.drop(('x'), axis=1, inplace=True)\n",
    "dataset.drop(('y'), axis=1, inplace=True)\n",
    "dataset.drop(('z'), axis=1, inplace=True)"
   ]
  },
  {
   "cell_type": "code",
   "execution_count": 22,
   "id": "surprising-dodge",
   "metadata": {},
   "outputs": [
    {
     "name": "stdout",
     "output_type": "stream",
     "text": [
      "['B', 'I', 'P']\n"
     ]
    }
   ],
   "source": [
    "# Label encoding of species column numerically\n",
    "le = LabelEncoder()\n",
    "le.fit(dataset['video_frame'])\n",
    "print(list(le.classes_))\n",
    "dataset['video_frame'] = le.transform(dataset['video_frame'])"
   ]
  },
  {
   "cell_type": "code",
   "execution_count": 23,
   "id": "comparable-instrumentation",
   "metadata": {},
   "outputs": [
    {
     "data": {
      "text/html": [
       "<div>\n",
       "<style scoped>\n",
       "    .dataframe tbody tr th:only-of-type {\n",
       "        vertical-align: middle;\n",
       "    }\n",
       "\n",
       "    .dataframe tbody tr th {\n",
       "        vertical-align: top;\n",
       "    }\n",
       "\n",
       "    .dataframe thead th {\n",
       "        text-align: right;\n",
       "    }\n",
       "</style>\n",
       "<table border=\"1\" class=\"dataframe\">\n",
       "  <thead>\n",
       "    <tr style=\"text-align: right;\">\n",
       "      <th></th>\n",
       "      <th>video_frame</th>\n",
       "      <th>frame_size</th>\n",
       "    </tr>\n",
       "    <tr>\n",
       "      <th>arrival_time</th>\n",
       "      <th></th>\n",
       "      <th></th>\n",
       "    </tr>\n",
       "  </thead>\n",
       "  <tbody>\n",
       "    <tr>\n",
       "      <th>0.00000</th>\n",
       "      <td>1</td>\n",
       "      <td>328.0</td>\n",
       "    </tr>\n",
       "    <tr>\n",
       "      <th>0.04167</th>\n",
       "      <td>0</td>\n",
       "      <td>23.0</td>\n",
       "    </tr>\n",
       "    <tr>\n",
       "      <th>0.08333</th>\n",
       "      <td>0</td>\n",
       "      <td>23.0</td>\n",
       "    </tr>\n",
       "    <tr>\n",
       "      <th>0.12500</th>\n",
       "      <td>0</td>\n",
       "      <td>23.0</td>\n",
       "    </tr>\n",
       "    <tr>\n",
       "      <th>0.16667</th>\n",
       "      <td>0</td>\n",
       "      <td>23.0</td>\n",
       "    </tr>\n",
       "  </tbody>\n",
       "</table>\n",
       "</div>"
      ],
      "text/plain": [
       "              video_frame  frame_size\n",
       "arrival_time                         \n",
       "0.00000                 1       328.0\n",
       "0.04167                 0        23.0\n",
       "0.08333                 0        23.0\n",
       "0.12500                 0        23.0\n",
       "0.16667                 0        23.0"
      ]
     },
     "execution_count": 23,
     "metadata": {},
     "output_type": "execute_result"
    }
   ],
   "source": [
    "dataset.head()"
   ]
  },
  {
   "cell_type": "code",
   "execution_count": 24,
   "id": "lasting-custody",
   "metadata": {},
   "outputs": [],
   "source": [
    "#Drop NA values\n",
    "dataset.frame_size.dropna(0,inplace= True)"
   ]
  },
  {
   "cell_type": "code",
   "execution_count": 25,
   "id": "resistant-heather",
   "metadata": {},
   "outputs": [],
   "source": [
    "dataset.reset_index(inplace=True)"
   ]
  },
  {
   "cell_type": "code",
   "execution_count": 26,
   "id": "concerned-incident",
   "metadata": {},
   "outputs": [
    {
     "data": {
      "text/html": [
       "<div>\n",
       "<style scoped>\n",
       "    .dataframe tbody tr th:only-of-type {\n",
       "        vertical-align: middle;\n",
       "    }\n",
       "\n",
       "    .dataframe tbody tr th {\n",
       "        vertical-align: top;\n",
       "    }\n",
       "\n",
       "    .dataframe thead th {\n",
       "        text-align: right;\n",
       "    }\n",
       "</style>\n",
       "<table border=\"1\" class=\"dataframe\">\n",
       "  <thead>\n",
       "    <tr style=\"text-align: right;\">\n",
       "      <th></th>\n",
       "      <th>arrival_time</th>\n",
       "      <th>video_frame</th>\n",
       "      <th>frame_size</th>\n",
       "    </tr>\n",
       "  </thead>\n",
       "  <tbody>\n",
       "    <tr>\n",
       "      <th>0</th>\n",
       "      <td>0.00000</td>\n",
       "      <td>1</td>\n",
       "      <td>328.0</td>\n",
       "    </tr>\n",
       "    <tr>\n",
       "      <th>1</th>\n",
       "      <td>0.04167</td>\n",
       "      <td>0</td>\n",
       "      <td>23.0</td>\n",
       "    </tr>\n",
       "    <tr>\n",
       "      <th>2</th>\n",
       "      <td>0.08333</td>\n",
       "      <td>0</td>\n",
       "      <td>23.0</td>\n",
       "    </tr>\n",
       "    <tr>\n",
       "      <th>3</th>\n",
       "      <td>0.12500</td>\n",
       "      <td>0</td>\n",
       "      <td>23.0</td>\n",
       "    </tr>\n",
       "    <tr>\n",
       "      <th>4</th>\n",
       "      <td>0.16667</td>\n",
       "      <td>0</td>\n",
       "      <td>23.0</td>\n",
       "    </tr>\n",
       "  </tbody>\n",
       "</table>\n",
       "</div>"
      ],
      "text/plain": [
       "   arrival_time  video_frame  frame_size\n",
       "0       0.00000            1       328.0\n",
       "1       0.04167            0        23.0\n",
       "2       0.08333            0        23.0\n",
       "3       0.12500            0        23.0\n",
       "4       0.16667            0        23.0"
      ]
     },
     "execution_count": 26,
     "metadata": {},
     "output_type": "execute_result"
    }
   ],
   "source": [
    "dataset.head()"
   ]
  },
  {
   "cell_type": "code",
   "execution_count": 27,
   "id": "detailed-macro",
   "metadata": {},
   "outputs": [],
   "source": [
    "#Sort the arrival time \n",
    "\n",
    "dataset.sort_values('arrival_time', inplace=True)\n",
    "dataset.reset_index(drop=True, inplace=True)"
   ]
  },
  {
   "cell_type": "code",
   "execution_count": 28,
   "id": "correct-independence",
   "metadata": {},
   "outputs": [
    {
     "data": {
      "text/plain": [
       "arrival_time    0\n",
       "video_frame     0\n",
       "frame_size      0\n",
       "dtype: int64"
      ]
     },
     "execution_count": 28,
     "metadata": {},
     "output_type": "execute_result"
    }
   ],
   "source": [
    "#Check for missing values\n",
    "\n",
    "dataset.isnull().sum()"
   ]
  },
  {
   "cell_type": "code",
   "execution_count": 29,
   "id": "clear-forge",
   "metadata": {},
   "outputs": [
    {
     "name": "stdout",
     "output_type": "stream",
     "text": [
      "mean_frame_data2 899.0\n",
      "peak_data2 72118.0\n",
      "total 939258987.0\n"
     ]
    }
   ],
   "source": [
    "dataset_mean= np.mean(dataset.frame_size)\n",
    "\n",
    "mean_frame_data2= np.ceil(dataset_mean)\n",
    "print('mean_frame_data2', mean_frame_data2)\n",
    "\n",
    "peak_data2 = np.max(dataset.frame_size)\n",
    "print('peak_data2', peak_data2)\n",
    "\n",
    "total = np.sum(data.frame_size)\n",
    "print('total', total)"
   ]
  },
  {
   "cell_type": "code",
   "execution_count": null,
   "id": "excellent-newman",
   "metadata": {},
   "outputs": [],
   "source": []
  },
  {
   "cell_type": "code",
   "execution_count": 30,
   "id": "infectious-polish",
   "metadata": {},
   "outputs": [
    {
     "name": "stdout",
     "output_type": "stream",
     "text": [
      "100.0\n",
      "98.6332076479775\n",
      "98.6332076479775\n",
      "98.6332076479775\n",
      "98.6332076479775\n",
      "98.6332076479775\n",
      "98.6332076479775\n",
      "98.6332076479775\n",
      "98.6332076479775\n",
      "98.6332076479775\n"
     ]
    }
   ],
   "source": [
    "#Token Bucket algorithm\n",
    "\n",
    "for m in range(10):\n",
    "    byte_sent = 0   # byte_sent \n",
    "    deleted_bytes = 0\n",
    "    bucket_size = 0  # bucket_size\n",
    "    marked_bytes = 0  #\n",
    "    j = 0\n",
    "    l = 0\n",
    "    max_bucket_size = m * peak_data2  # maximum bucket size\n",
    "    \n",
    "    for i in range(data.shape[0]):\n",
    "        \n",
    "        bucket_size += mean_frame_data2\n",
    "        \n",
    "        if bucket_size > max_bucket_size:\n",
    "            bucket_size = max_bucket_size\n",
    "            l += 1\n",
    "        \n",
    "        if data.loc[i, 'frame_size'] <= bucket_size:\n",
    "            byte_sent += data.loc[i, 'frame_size']\n",
    "            bucket_size = (bucket_size - data.loc[i, 'frame_size'])\n",
    "            \n",
    "        else:\n",
    "            byte_sent += bucket_size\n",
    "            marked_bytes += (data.loc[i, 'frame_size'] - bucket_size)\n",
    "            bucket_size = 0\n",
    "            \n",
    "    percent = marked_bytes * 100 / total\n",
    "    print(percent)\n",
    "            \n"
   ]
  },
  {
   "cell_type": "code",
   "execution_count": 31,
   "id": "checked-legislation",
   "metadata": {},
   "outputs": [
    {
     "name": "stdout",
     "output_type": "stream",
     "text": [
      "100.0\n",
      "98.6332076479775\n",
      "98.6332076479775\n",
      "98.6332076479775\n",
      "98.6332076479775\n",
      "98.6332076479775\n",
      "98.6332076479775\n",
      "98.6332076479775\n",
      "98.6332076479775\n",
      "98.6332076479775\n"
     ]
    }
   ],
   "source": [
    "#Token Bucket algorithm\n",
    "\n",
    "for m in range(10):\n",
    "    byte_sent = 0   # byte_sent \n",
    "    deleted_bytes = 0\n",
    "    bucket_size = 0  # bucket_size\n",
    "    marked_bytes = 0  #\n",
    "    j = 0\n",
    "    l = 0\n",
    "    max_bucket_size = m * peak_frame  # maximum bucket size\n",
    "    \n",
    "    for i in range(data.shape[0]):\n",
    "        \n",
    "        bucket_size += mean_frame_data2\n",
    "        \n",
    "        if bucket_size > max_bucket_size:\n",
    "            bucket_size = max_bucket_size\n",
    "            l += 1\n",
    "        \n",
    "        if data.loc[i, 'frame_size'] <= bucket_size:\n",
    "            byte_sent += data.loc[i, 'frame_size']\n",
    "            bucket_size = (bucket_size - data.loc[i, 'frame_size'])\n",
    "            \n",
    "        else:\n",
    "            byte_sent += bucket_size\n",
    "            marked_bytes += (data.loc[i, 'frame_size'] - bucket_size)\n",
    "            bucket_size = 0\n",
    "            \n",
    "    percent = marked_bytes * 100 / total\n",
    "    print(percent)\n",
    "            \n"
   ]
  },
  {
   "cell_type": "code",
   "execution_count": null,
   "id": "decimal-explosion",
   "metadata": {},
   "outputs": [],
   "source": []
  }
 ],
 "metadata": {
  "kernelspec": {
   "display_name": "Python 3",
   "language": "python",
   "name": "python3"
  },
  "language_info": {
   "codemirror_mode": {
    "name": "ipython",
    "version": 3
   },
   "file_extension": ".py",
   "mimetype": "text/x-python",
   "name": "python",
   "nbconvert_exporter": "python",
   "pygments_lexer": "ipython3",
   "version": "3.8.5"
  }
 },
 "nbformat": 4,
 "nbformat_minor": 5
}
