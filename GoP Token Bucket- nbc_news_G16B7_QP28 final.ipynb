{
 "cells": [
  {
   "cell_type": "code",
   "execution_count": null,
   "id": "c9ba02c3",
   "metadata": {},
   "outputs": [],
   "source": [
    "#Example\n",
    "windowsize =3\n",
    "listA = [3,2,5,9,4,6,3,8,7,9]\n",
    "listB=[max(listA[i:i+ windowsize]) for i in range(0,len(listA), windowsize)]\n",
    "print (listB)\n"
   ]
  },
  {
   "cell_type": "code",
   "execution_count": null,
   "id": "trained-garbage",
   "metadata": {},
   "outputs": [],
   "source": [
    "#Example\n",
    "max1 = [max(listA[i:i+ windowsize]) for i in range(0, len(listA), windowsize)]\n",
    "print(max1)"
   ]
  },
  {
   "cell_type": "code",
   "execution_count": null,
   "id": "positive-pillow",
   "metadata": {},
   "outputs": [],
   "source": [
    "#use this\n",
    "for i in range(0, len(listA),  windowsize):\n",
    "    max_frame1 = list(listA[i:i+ windowsize])\n",
    "    print('Jumping window', max_frame1)\n",
    "    max_frame2 = max(max_frame1)\n",
    "    print('max_frame', max_frame2)"
   ]
  },
  {
   "cell_type": "code",
   "execution_count": null,
   "id": "noted-university",
   "metadata": {},
   "outputs": [],
   "source": [
    "#GoP based Token bucket\n",
    "\n",
    "listA = [3,2,5,9,4,6,3,8,7,9]\n",
    "k=0\n",
    "for i in range(0, len(listA), windowsize):\n",
    "    GoP_pattern = list(listA[i:i+windowsize])\n",
    "    print('GoP based pattern', GoP_pattern)\n",
    "    \n",
    "    GoP_mean = sum(GoP_pattern)/3\n",
    "    print('mean', GoP_mean)\n"
   ]
  },
  {
   "cell_type": "code",
   "execution_count": null,
   "id": "changing-track",
   "metadata": {},
   "outputs": [],
   "source": []
  },
  {
   "cell_type": "code",
   "execution_count": null,
   "id": "formal-insured",
   "metadata": {},
   "outputs": [],
   "source": []
  },
  {
   "cell_type": "code",
   "execution_count": null,
   "id": "tight-olympus",
   "metadata": {},
   "outputs": [],
   "source": []
  },
  {
   "cell_type": "code",
   "execution_count": 1,
   "id": "1c1b08cc",
   "metadata": {},
   "outputs": [],
   "source": [
    "#import keras\n",
    "import tensorflow as tf\n",
    "import numpy as np\n",
    "import pandas as pd\n",
    "from sklearn.preprocessing import LabelEncoder\n",
    "\n",
    "\n",
    "from scipy.stats.distributions import gamma\n",
    "from scipy.stats.distributions import poisson\n",
    "from scipy.stats.distributions import expon\n",
    "\n",
    "import statistics\n",
    "from scipy.stats import norm\n",
    "from scipy import stats\n",
    "import scipy.stats\n",
    "\n",
    "import matplotlib.pyplot as plt\n",
    "\n"
   ]
  },
  {
   "cell_type": "code",
   "execution_count": 2,
   "id": "5e7c87fb",
   "metadata": {},
   "outputs": [],
   "source": [
    "#import data\n",
    "data = pd.read_csv(\"../GoP based TOKEN BUCKET algorithm/H264-data/nbc_news_G16B7_QP28.csv\",infer_datetime_format=True,\n",
    "                  parse_dates=['arrival_time'], index_col='arrival_time', \n",
    "                   names=['decoded_frame','arrival_time', 'video_frame', \n",
    "                                         'frame_size', 'x', 'y', 'z'])"
   ]
  },
  {
   "cell_type": "code",
   "execution_count": 3,
   "id": "4142f9de",
   "metadata": {},
   "outputs": [
    {
     "data": {
      "text/html": [
       "<div>\n",
       "<style scoped>\n",
       "    .dataframe tbody tr th:only-of-type {\n",
       "        vertical-align: middle;\n",
       "    }\n",
       "\n",
       "    .dataframe tbody tr th {\n",
       "        vertical-align: top;\n",
       "    }\n",
       "\n",
       "    .dataframe thead th {\n",
       "        text-align: right;\n",
       "    }\n",
       "</style>\n",
       "<table border=\"1\" class=\"dataframe\">\n",
       "  <thead>\n",
       "    <tr style=\"text-align: right;\">\n",
       "      <th></th>\n",
       "      <th>decoded_frame</th>\n",
       "      <th>video_frame</th>\n",
       "      <th>frame_size</th>\n",
       "      <th>x</th>\n",
       "      <th>y</th>\n",
       "      <th>z</th>\n",
       "    </tr>\n",
       "    <tr>\n",
       "      <th>arrival_time</th>\n",
       "      <th></th>\n",
       "      <th></th>\n",
       "      <th></th>\n",
       "      <th></th>\n",
       "      <th></th>\n",
       "      <th></th>\n",
       "    </tr>\n",
       "  </thead>\n",
       "  <tbody>\n",
       "    <tr>\n",
       "      <th>0.00000</th>\n",
       "      <td>0</td>\n",
       "      <td>I</td>\n",
       "      <td>8752</td>\n",
       "      <td>40.420</td>\n",
       "      <td>45.968</td>\n",
       "      <td>47.559</td>\n",
       "    </tr>\n",
       "    <tr>\n",
       "      <th>266.66667</th>\n",
       "      <td>8</td>\n",
       "      <td>P</td>\n",
       "      <td>1096</td>\n",
       "      <td>40.185</td>\n",
       "      <td>46.050</td>\n",
       "      <td>47.023</td>\n",
       "    </tr>\n",
       "    <tr>\n",
       "      <th>33.33333</th>\n",
       "      <td>1</td>\n",
       "      <td>B</td>\n",
       "      <td>128</td>\n",
       "      <td>40.107</td>\n",
       "      <td>45.591</td>\n",
       "      <td>45.966</td>\n",
       "    </tr>\n",
       "    <tr>\n",
       "      <th>66.66667</th>\n",
       "      <td>2</td>\n",
       "      <td>B</td>\n",
       "      <td>128</td>\n",
       "      <td>40.102</td>\n",
       "      <td>46.047</td>\n",
       "      <td>46.251</td>\n",
       "    </tr>\n",
       "    <tr>\n",
       "      <th>100.00000</th>\n",
       "      <td>3</td>\n",
       "      <td>B</td>\n",
       "      <td>128</td>\n",
       "      <td>40.131</td>\n",
       "      <td>45.922</td>\n",
       "      <td>46.705</td>\n",
       "    </tr>\n",
       "  </tbody>\n",
       "</table>\n",
       "</div>"
      ],
      "text/plain": [
       "              decoded_frame video_frame  frame_size       x       y       z\n",
       "arrival_time                                                               \n",
       "0.00000                   0           I        8752  40.420  45.968  47.559\n",
       "266.66667                 8           P        1096  40.185  46.050  47.023\n",
       "33.33333                  1           B         128  40.107  45.591  45.966\n",
       "66.66667                  2           B         128  40.102  46.047  46.251\n",
       "100.00000                 3           B         128  40.131  45.922  46.705"
      ]
     },
     "execution_count": 3,
     "metadata": {},
     "output_type": "execute_result"
    }
   ],
   "source": [
    "data.head()"
   ]
  },
  {
   "cell_type": "code",
   "execution_count": 4,
   "id": "841316a0",
   "metadata": {},
   "outputs": [],
   "source": [
    "#drop decoded frame column\n",
    "data.drop(('decoded_frame'), axis=1, inplace=True)\n",
    "\n",
    "data.drop(('x'), axis=1, inplace=True)\n",
    "data.drop(('y'), axis=1, inplace=True)\n",
    "data.drop(('z'), axis=1, inplace=True)"
   ]
  },
  {
   "cell_type": "code",
   "execution_count": 5,
   "id": "9fc0740c",
   "metadata": {},
   "outputs": [
    {
     "name": "stdout",
     "output_type": "stream",
     "text": [
      "['B', 'I', 'P']\n"
     ]
    }
   ],
   "source": [
    "# Label encoding of species column numerically\n",
    "le = LabelEncoder()\n",
    "le.fit(data['video_frame'])\n",
    "print(list(le.classes_))\n",
    "data['video_frame'] = le.transform(data['video_frame'])"
   ]
  },
  {
   "cell_type": "code",
   "execution_count": 6,
   "id": "3e1acaf3",
   "metadata": {},
   "outputs": [
    {
     "data": {
      "text/html": [
       "<div>\n",
       "<style scoped>\n",
       "    .dataframe tbody tr th:only-of-type {\n",
       "        vertical-align: middle;\n",
       "    }\n",
       "\n",
       "    .dataframe tbody tr th {\n",
       "        vertical-align: top;\n",
       "    }\n",
       "\n",
       "    .dataframe thead th {\n",
       "        text-align: right;\n",
       "    }\n",
       "</style>\n",
       "<table border=\"1\" class=\"dataframe\">\n",
       "  <thead>\n",
       "    <tr style=\"text-align: right;\">\n",
       "      <th></th>\n",
       "      <th>video_frame</th>\n",
       "      <th>frame_size</th>\n",
       "    </tr>\n",
       "    <tr>\n",
       "      <th>arrival_time</th>\n",
       "      <th></th>\n",
       "      <th></th>\n",
       "    </tr>\n",
       "  </thead>\n",
       "  <tbody>\n",
       "    <tr>\n",
       "      <th>0.00000</th>\n",
       "      <td>1</td>\n",
       "      <td>8752</td>\n",
       "    </tr>\n",
       "    <tr>\n",
       "      <th>266.66667</th>\n",
       "      <td>2</td>\n",
       "      <td>1096</td>\n",
       "    </tr>\n",
       "    <tr>\n",
       "      <th>33.33333</th>\n",
       "      <td>0</td>\n",
       "      <td>128</td>\n",
       "    </tr>\n",
       "    <tr>\n",
       "      <th>66.66667</th>\n",
       "      <td>0</td>\n",
       "      <td>128</td>\n",
       "    </tr>\n",
       "    <tr>\n",
       "      <th>100.00000</th>\n",
       "      <td>0</td>\n",
       "      <td>128</td>\n",
       "    </tr>\n",
       "  </tbody>\n",
       "</table>\n",
       "</div>"
      ],
      "text/plain": [
       "              video_frame  frame_size\n",
       "arrival_time                         \n",
       "0.00000                 1        8752\n",
       "266.66667               2        1096\n",
       "33.33333                0         128\n",
       "66.66667                0         128\n",
       "100.00000               0         128"
      ]
     },
     "execution_count": 6,
     "metadata": {},
     "output_type": "execute_result"
    }
   ],
   "source": [
    "data.head()"
   ]
  },
  {
   "cell_type": "code",
   "execution_count": 7,
   "id": "15ac87b9",
   "metadata": {},
   "outputs": [],
   "source": [
    "data.frame_size.dropna(0,inplace= True)"
   ]
  },
  {
   "cell_type": "code",
   "execution_count": 8,
   "id": "5e463bbe",
   "metadata": {},
   "outputs": [],
   "source": [
    "data.reset_index(inplace=True)"
   ]
  },
  {
   "cell_type": "code",
   "execution_count": 9,
   "id": "b5381ffc",
   "metadata": {},
   "outputs": [
    {
     "data": {
      "text/html": [
       "<div>\n",
       "<style scoped>\n",
       "    .dataframe tbody tr th:only-of-type {\n",
       "        vertical-align: middle;\n",
       "    }\n",
       "\n",
       "    .dataframe tbody tr th {\n",
       "        vertical-align: top;\n",
       "    }\n",
       "\n",
       "    .dataframe thead th {\n",
       "        text-align: right;\n",
       "    }\n",
       "</style>\n",
       "<table border=\"1\" class=\"dataframe\">\n",
       "  <thead>\n",
       "    <tr style=\"text-align: right;\">\n",
       "      <th></th>\n",
       "      <th>arrival_time</th>\n",
       "      <th>video_frame</th>\n",
       "      <th>frame_size</th>\n",
       "    </tr>\n",
       "  </thead>\n",
       "  <tbody>\n",
       "    <tr>\n",
       "      <th>0</th>\n",
       "      <td>0.00000</td>\n",
       "      <td>1</td>\n",
       "      <td>8752</td>\n",
       "    </tr>\n",
       "    <tr>\n",
       "      <th>1</th>\n",
       "      <td>266.66667</td>\n",
       "      <td>2</td>\n",
       "      <td>1096</td>\n",
       "    </tr>\n",
       "    <tr>\n",
       "      <th>2</th>\n",
       "      <td>33.33333</td>\n",
       "      <td>0</td>\n",
       "      <td>128</td>\n",
       "    </tr>\n",
       "    <tr>\n",
       "      <th>3</th>\n",
       "      <td>66.66667</td>\n",
       "      <td>0</td>\n",
       "      <td>128</td>\n",
       "    </tr>\n",
       "    <tr>\n",
       "      <th>4</th>\n",
       "      <td>100.00000</td>\n",
       "      <td>0</td>\n",
       "      <td>128</td>\n",
       "    </tr>\n",
       "  </tbody>\n",
       "</table>\n",
       "</div>"
      ],
      "text/plain": [
       "   arrival_time  video_frame  frame_size\n",
       "0       0.00000            1        8752\n",
       "1     266.66667            2        1096\n",
       "2      33.33333            0         128\n",
       "3      66.66667            0         128\n",
       "4     100.00000            0         128"
      ]
     },
     "execution_count": 9,
     "metadata": {},
     "output_type": "execute_result"
    }
   ],
   "source": [
    "data.head()"
   ]
  },
  {
   "cell_type": "code",
   "execution_count": 10,
   "id": "23d637d2",
   "metadata": {},
   "outputs": [],
   "source": [
    "#Sort the arrival time\n",
    "\n",
    "data.sort_values('arrival_time', inplace=True)\n",
    "data.reset_index(drop=True, inplace=True)"
   ]
  },
  {
   "cell_type": "code",
   "execution_count": 11,
   "id": "c57cd471",
   "metadata": {},
   "outputs": [
    {
     "data": {
      "text/html": [
       "<div>\n",
       "<style scoped>\n",
       "    .dataframe tbody tr th:only-of-type {\n",
       "        vertical-align: middle;\n",
       "    }\n",
       "\n",
       "    .dataframe tbody tr th {\n",
       "        vertical-align: top;\n",
       "    }\n",
       "\n",
       "    .dataframe thead th {\n",
       "        text-align: right;\n",
       "    }\n",
       "</style>\n",
       "<table border=\"1\" class=\"dataframe\">\n",
       "  <thead>\n",
       "    <tr style=\"text-align: right;\">\n",
       "      <th></th>\n",
       "      <th>arrival_time</th>\n",
       "      <th>video_frame</th>\n",
       "      <th>frame_size</th>\n",
       "    </tr>\n",
       "  </thead>\n",
       "  <tbody>\n",
       "    <tr>\n",
       "      <th>0</th>\n",
       "      <td>0.00000</td>\n",
       "      <td>1</td>\n",
       "      <td>8752</td>\n",
       "    </tr>\n",
       "    <tr>\n",
       "      <th>1</th>\n",
       "      <td>33.33333</td>\n",
       "      <td>0</td>\n",
       "      <td>128</td>\n",
       "    </tr>\n",
       "    <tr>\n",
       "      <th>2</th>\n",
       "      <td>66.66667</td>\n",
       "      <td>0</td>\n",
       "      <td>128</td>\n",
       "    </tr>\n",
       "    <tr>\n",
       "      <th>3</th>\n",
       "      <td>100.00000</td>\n",
       "      <td>0</td>\n",
       "      <td>128</td>\n",
       "    </tr>\n",
       "    <tr>\n",
       "      <th>4</th>\n",
       "      <td>133.33333</td>\n",
       "      <td>0</td>\n",
       "      <td>128</td>\n",
       "    </tr>\n",
       "  </tbody>\n",
       "</table>\n",
       "</div>"
      ],
      "text/plain": [
       "   arrival_time  video_frame  frame_size\n",
       "0       0.00000            1        8752\n",
       "1      33.33333            0         128\n",
       "2      66.66667            0         128\n",
       "3     100.00000            0         128\n",
       "4     133.33333            0         128"
      ]
     },
     "execution_count": 11,
     "metadata": {},
     "output_type": "execute_result"
    }
   ],
   "source": [
    "data.head()"
   ]
  },
  {
   "cell_type": "code",
   "execution_count": 12,
   "id": "23290013",
   "metadata": {},
   "outputs": [
    {
     "data": {
      "text/plain": [
       "arrival_time    0\n",
       "video_frame     0\n",
       "frame_size      0\n",
       "dtype: int64"
      ]
     },
     "execution_count": 12,
     "metadata": {},
     "output_type": "execute_result"
    }
   ],
   "source": [
    "#Check missing values\n",
    "\n",
    "data.isnull().sum()"
   ]
  },
  {
   "cell_type": "code",
   "execution_count": 13,
   "id": "convertible-plain",
   "metadata": {},
   "outputs": [
    {
     "name": "stdout",
     "output_type": "stream",
     "text": [
      "peak_frame 1650666.667\n",
      "mean_val 15080.51436764201\n",
      "var_val 467122350.54288137\n",
      "alpha 0.48685727267888457\n",
      "beta 30975.2266504369\n"
     ]
    }
   ],
   "source": [
    "#Define the parameters\n",
    "\n",
    "peak_frame = max(data.arrival_time)\n",
    "print ('peak_frame', peak_frame)\n",
    "\n",
    "mean_val = np.mean(data.frame_size)\n",
    "var_val = np.var(data.frame_size)\n",
    "print('mean_val', mean_val)\n",
    "print('var_val', var_val)\n",
    "\n",
    "alpha = mean_val**2 / var_val\n",
    "beta = var_val / mean_val\n",
    "print('alpha', alpha)\n",
    "print('beta', beta)"
   ]
  },
  {
   "cell_type": "code",
   "execution_count": 14,
   "id": "superior-solid",
   "metadata": {},
   "outputs": [
    {
     "name": "stdout",
     "output_type": "stream",
     "text": [
      "mean_frame 15081.0\n",
      "49521\n",
      "746802152\n"
     ]
    }
   ],
   "source": [
    "mean_frame = np.mean(data.frame_size)\n",
    "mean_frame = np.ceil(mean_frame)\n",
    "print('mean_frame', mean_frame)\n",
    "\n",
    "num_of_frames = data.shape[0]\n",
    "total = np.sum(data.frame_size)\n",
    "print(num_of_frames)\n",
    "print(total)"
   ]
  },
  {
   "cell_type": "code",
   "execution_count": 15,
   "id": "focal-retrieval",
   "metadata": {},
   "outputs": [
    {
     "data": {
      "text/plain": [
       "49521"
      ]
     },
     "execution_count": 15,
     "metadata": {},
     "output_type": "execute_result"
    }
   ],
   "source": [
    "len(data.frame_size)"
   ]
  },
  {
   "cell_type": "code",
   "execution_count": 16,
   "id": "proper-supplier",
   "metadata": {},
   "outputs": [
    {
     "data": {
      "text/plain": [
       "49521"
      ]
     },
     "execution_count": 16,
     "metadata": {},
     "output_type": "execute_result"
    }
   ],
   "source": [
    "data.shape[0]"
   ]
  },
  {
   "cell_type": "code",
   "execution_count": 17,
   "id": "median-bargain",
   "metadata": {},
   "outputs": [
    {
     "data": {
      "text/html": [
       "<div>\n",
       "<style scoped>\n",
       "    .dataframe tbody tr th:only-of-type {\n",
       "        vertical-align: middle;\n",
       "    }\n",
       "\n",
       "    .dataframe tbody tr th {\n",
       "        vertical-align: top;\n",
       "    }\n",
       "\n",
       "    .dataframe thead th {\n",
       "        text-align: right;\n",
       "    }\n",
       "</style>\n",
       "<table border=\"1\" class=\"dataframe\">\n",
       "  <thead>\n",
       "    <tr style=\"text-align: right;\">\n",
       "      <th></th>\n",
       "      <th>arrival_time</th>\n",
       "      <th>video_frame</th>\n",
       "      <th>frame_size</th>\n",
       "    </tr>\n",
       "  </thead>\n",
       "  <tbody>\n",
       "    <tr>\n",
       "      <th>0</th>\n",
       "      <td>0.00000</td>\n",
       "      <td>1</td>\n",
       "      <td>8752</td>\n",
       "    </tr>\n",
       "    <tr>\n",
       "      <th>1</th>\n",
       "      <td>33.33333</td>\n",
       "      <td>0</td>\n",
       "      <td>128</td>\n",
       "    </tr>\n",
       "    <tr>\n",
       "      <th>2</th>\n",
       "      <td>66.66667</td>\n",
       "      <td>0</td>\n",
       "      <td>128</td>\n",
       "    </tr>\n",
       "    <tr>\n",
       "      <th>3</th>\n",
       "      <td>100.00000</td>\n",
       "      <td>0</td>\n",
       "      <td>128</td>\n",
       "    </tr>\n",
       "    <tr>\n",
       "      <th>4</th>\n",
       "      <td>133.33333</td>\n",
       "      <td>0</td>\n",
       "      <td>128</td>\n",
       "    </tr>\n",
       "    <tr>\n",
       "      <th>5</th>\n",
       "      <td>166.66667</td>\n",
       "      <td>0</td>\n",
       "      <td>128</td>\n",
       "    </tr>\n",
       "    <tr>\n",
       "      <th>6</th>\n",
       "      <td>200.00000</td>\n",
       "      <td>0</td>\n",
       "      <td>128</td>\n",
       "    </tr>\n",
       "    <tr>\n",
       "      <th>7</th>\n",
       "      <td>233.33333</td>\n",
       "      <td>0</td>\n",
       "      <td>128</td>\n",
       "    </tr>\n",
       "    <tr>\n",
       "      <th>8</th>\n",
       "      <td>266.66667</td>\n",
       "      <td>2</td>\n",
       "      <td>1096</td>\n",
       "    </tr>\n",
       "    <tr>\n",
       "      <th>9</th>\n",
       "      <td>300.00000</td>\n",
       "      <td>0</td>\n",
       "      <td>312</td>\n",
       "    </tr>\n",
       "    <tr>\n",
       "      <th>10</th>\n",
       "      <td>333.33333</td>\n",
       "      <td>0</td>\n",
       "      <td>256</td>\n",
       "    </tr>\n",
       "    <tr>\n",
       "      <th>11</th>\n",
       "      <td>366.66667</td>\n",
       "      <td>0</td>\n",
       "      <td>296</td>\n",
       "    </tr>\n",
       "    <tr>\n",
       "      <th>12</th>\n",
       "      <td>400.00000</td>\n",
       "      <td>0</td>\n",
       "      <td>408</td>\n",
       "    </tr>\n",
       "    <tr>\n",
       "      <th>13</th>\n",
       "      <td>433.33333</td>\n",
       "      <td>0</td>\n",
       "      <td>2136</td>\n",
       "    </tr>\n",
       "    <tr>\n",
       "      <th>14</th>\n",
       "      <td>466.66667</td>\n",
       "      <td>0</td>\n",
       "      <td>2544</td>\n",
       "    </tr>\n",
       "    <tr>\n",
       "      <th>15</th>\n",
       "      <td>500.00000</td>\n",
       "      <td>0</td>\n",
       "      <td>2288</td>\n",
       "    </tr>\n",
       "    <tr>\n",
       "      <th>16</th>\n",
       "      <td>533.33333</td>\n",
       "      <td>1</td>\n",
       "      <td>19264</td>\n",
       "    </tr>\n",
       "    <tr>\n",
       "      <th>17</th>\n",
       "      <td>566.66667</td>\n",
       "      <td>0</td>\n",
       "      <td>4080</td>\n",
       "    </tr>\n",
       "    <tr>\n",
       "      <th>18</th>\n",
       "      <td>600.00000</td>\n",
       "      <td>0</td>\n",
       "      <td>9064</td>\n",
       "    </tr>\n",
       "    <tr>\n",
       "      <th>19</th>\n",
       "      <td>633.33333</td>\n",
       "      <td>0</td>\n",
       "      <td>9200</td>\n",
       "    </tr>\n",
       "  </tbody>\n",
       "</table>\n",
       "</div>"
      ],
      "text/plain": [
       "    arrival_time  video_frame  frame_size\n",
       "0        0.00000            1        8752\n",
       "1       33.33333            0         128\n",
       "2       66.66667            0         128\n",
       "3      100.00000            0         128\n",
       "4      133.33333            0         128\n",
       "5      166.66667            0         128\n",
       "6      200.00000            0         128\n",
       "7      233.33333            0         128\n",
       "8      266.66667            2        1096\n",
       "9      300.00000            0         312\n",
       "10     333.33333            0         256\n",
       "11     366.66667            0         296\n",
       "12     400.00000            0         408\n",
       "13     433.33333            0        2136\n",
       "14     466.66667            0        2544\n",
       "15     500.00000            0        2288\n",
       "16     533.33333            1       19264\n",
       "17     566.66667            0        4080\n",
       "18     600.00000            0        9064\n",
       "19     633.33333            0        9200"
      ]
     },
     "execution_count": 17,
     "metadata": {},
     "output_type": "execute_result"
    }
   ],
   "source": [
    "data.head(20)"
   ]
  },
  {
   "cell_type": "markdown",
   "id": "neutral-correlation",
   "metadata": {},
   "source": [
    "***window size = 5***"
   ]
  },
  {
   "cell_type": "code",
   "execution_count": 18,
   "id": "eastern-monkey",
   "metadata": {},
   "outputs": [
    {
     "name": "stdout",
     "output_type": "stream",
     "text": [
      "24.8830804119054\n"
     ]
    }
   ],
   "source": [
    "#Final Jumping window algorithm\n",
    "\n",
    "windowSize = 5\n",
    "addition =0\n",
    "max_frame= 0\n",
    "k= 0\n",
    "\n",
    "for i in range(0, len(data['frame_size']),  windowSize):\n",
    "    byte_sent = 0\n",
    "    deleted_bytes = 0\n",
    "    bucket_size = 0\n",
    "    marked_bytes = 0\n",
    "    #j = 0\n",
    "    #l = 0\n",
    "    \n",
    "    #Define GoP pattern\n",
    "    if(k < len(data['frame_size']) and k+16 < len(data['frame_size'])):\n",
    "        GoP_pattern = data['frame_size'][k:k+16]\n",
    "        k += 16\n",
    "        GoP_mean = sum(GoP_pattern)/16\n",
    "    else:\n",
    "        GoP_mean = sum(data['frame_size'][0:16])\n",
    "    \n",
    "    #print(GoP_pattern)\n",
    "    #print(GoP_mean)\n",
    "    \n",
    "    max_bucket_size = windowSize * GoP_mean\n",
    "    \n",
    "    for j in range(i, i+windowSize):\n",
    "        \n",
    "        bucket_size += mean_frame\n",
    "        \n",
    "        if bucket_size > max_bucket_size:\n",
    "            bucket_size = max_bucket_size\n",
    "        \n",
    "        \n",
    "        if data.loc[i, 'frame_size'] <= bucket_size:            \n",
    "            byte_sent += data.loc[i, 'frame_size']\n",
    "            bucket_size = (bucket_size - data.loc[i, 'frame_size'])\n",
    "            \n",
    "        else:\n",
    "            byte_sent += bucket_size\n",
    "            marked_bytes += (data.loc[i, 'frame_size'] - bucket_size)\n",
    "        \n",
    "            \n",
    "    addition += abs(marked_bytes)        \n",
    "            \n",
    "percent = addition * 100 / total\n",
    "print(percent)"
   ]
  },
  {
   "cell_type": "markdown",
   "id": "similar-blair",
   "metadata": {},
   "source": [
    "***window size = 10***"
   ]
  },
  {
   "cell_type": "code",
   "execution_count": 19,
   "id": "occasional-respondent",
   "metadata": {},
   "outputs": [
    {
     "name": "stdout",
     "output_type": "stream",
     "text": [
      "36.64237311946043\n"
     ]
    }
   ],
   "source": [
    "#Final Jumping window algorithm\n",
    "\n",
    "windowSize = 10\n",
    "addition =0\n",
    "max_frame= 0\n",
    "k= 0\n",
    "\n",
    "for i in range(0, len(data['frame_size']),  windowSize):\n",
    "    byte_sent = 0\n",
    "    deleted_bytes = 0\n",
    "    bucket_size = 0\n",
    "    marked_bytes = 0\n",
    "    #j = 0\n",
    "    #l = 0\n",
    "    \n",
    "    #Define GoP pattern\n",
    "    if(k < len(data['frame_size']) and k+16 < len(data['frame_size'])):\n",
    "        GoP_pattern = data['frame_size'][k:k+16]\n",
    "        k += 16\n",
    "        GoP_mean = sum(GoP_pattern)/16\n",
    "    else:\n",
    "        GoP_mean = sum(data['frame_size'][0:16])\n",
    "    \n",
    "    #print(GoP_pattern)\n",
    "    #print(GoP_mean)\n",
    "    \n",
    "    max_bucket_size = windowSize * GoP_mean\n",
    "    \n",
    "    for j in range(i, i+windowSize):\n",
    "        \n",
    "        bucket_size += mean_frame\n",
    "        \n",
    "        if bucket_size > max_bucket_size:\n",
    "            bucket_size = max_bucket_size\n",
    "        \n",
    "        \n",
    "        if data.loc[i, 'frame_size'] <= bucket_size:            \n",
    "            byte_sent += data.loc[i, 'frame_size']\n",
    "            bucket_size = (bucket_size - data.loc[i, 'frame_size'])\n",
    "            \n",
    "        else:\n",
    "            byte_sent += bucket_size\n",
    "            marked_bytes += (data.loc[i, 'frame_size'] - bucket_size)\n",
    "        \n",
    "            \n",
    "    addition += abs(marked_bytes)        \n",
    "            \n",
    "percent = addition * 100 / total\n",
    "print(percent)"
   ]
  },
  {
   "cell_type": "markdown",
   "id": "hearing-berkeley",
   "metadata": {},
   "source": [
    "***window size = 15***"
   ]
  },
  {
   "cell_type": "code",
   "execution_count": 20,
   "id": "silver-battlefield",
   "metadata": {},
   "outputs": [
    {
     "name": "stdout",
     "output_type": "stream",
     "text": [
      "18.93376888662206\n"
     ]
    }
   ],
   "source": [
    "#Final Jumping window algorithm\n",
    "\n",
    "windowSize = 15\n",
    "addition =0\n",
    "max_frame= 0\n",
    "k= 0\n",
    "\n",
    "for i in range(0, len(data['frame_size']),  windowSize):\n",
    "    byte_sent = 0\n",
    "    deleted_bytes = 0\n",
    "    bucket_size = 0\n",
    "    marked_bytes = 0\n",
    "    #j = 0\n",
    "    #l = 0\n",
    "    \n",
    "    #Define GoP pattern\n",
    "    if(k < len(data['frame_size']) and k+16 < len(data['frame_size'])):\n",
    "        GoP_pattern = data['frame_size'][k:k+16]\n",
    "        k += 16\n",
    "        GoP_mean = sum(GoP_pattern)/16\n",
    "    else:\n",
    "        GoP_mean = sum(data['frame_size'][0:16])\n",
    "    \n",
    "    #print(GoP_pattern)\n",
    "    #print(GoP_mean)\n",
    "    \n",
    "    max_bucket_size = windowSize * GoP_mean\n",
    "    \n",
    "    for j in range(i, i+windowSize):\n",
    "        \n",
    "        bucket_size += mean_frame\n",
    "        \n",
    "        if bucket_size > max_bucket_size:\n",
    "            bucket_size = max_bucket_size\n",
    "        \n",
    "        \n",
    "        if data.loc[i, 'frame_size'] <= bucket_size:            \n",
    "            byte_sent += data.loc[i, 'frame_size']\n",
    "            bucket_size = (bucket_size - data.loc[i, 'frame_size'])\n",
    "            \n",
    "        else:\n",
    "            byte_sent += bucket_size\n",
    "            marked_bytes += (data.loc[i, 'frame_size'] - bucket_size)\n",
    "        \n",
    "            \n",
    "    addition += abs(marked_bytes)        \n",
    "            \n",
    "percent = addition * 100 / total\n",
    "print(percent)"
   ]
  },
  {
   "cell_type": "markdown",
   "id": "killing-relief",
   "metadata": {},
   "source": [
    "***window size = 20***"
   ]
  },
  {
   "cell_type": "code",
   "execution_count": 21,
   "id": "instant-writing",
   "metadata": {},
   "outputs": [
    {
     "name": "stdout",
     "output_type": "stream",
     "text": [
      "60.56520000494053\n"
     ]
    }
   ],
   "source": [
    "#Final Jumping window algorithm\n",
    "\n",
    "windowSize = 20\n",
    "addition =0\n",
    "max_frame= 0\n",
    "k= 0\n",
    "\n",
    "for i in range(0, len(data['frame_size']),  windowSize):\n",
    "    byte_sent = 0\n",
    "    deleted_bytes = 0\n",
    "    bucket_size = 0\n",
    "    marked_bytes = 0\n",
    "    #j = 0\n",
    "    #l = 0\n",
    "    \n",
    "    #Define GoP pattern\n",
    "    if(k < len(data['frame_size']) and k+16 < len(data['frame_size'])):\n",
    "        GoP_pattern = data['frame_size'][k:k+16]\n",
    "        k += 16\n",
    "        GoP_mean = sum(GoP_pattern)/16\n",
    "    else:\n",
    "        GoP_mean = sum(data['frame_size'][0:16])\n",
    "    \n",
    "    #print(GoP_pattern)\n",
    "    #print(GoP_mean)\n",
    "    \n",
    "    max_bucket_size = windowSize * GoP_mean\n",
    "    \n",
    "    for j in range(i, i+windowSize):\n",
    "        \n",
    "        bucket_size += mean_frame\n",
    "        \n",
    "        if bucket_size > max_bucket_size:\n",
    "            bucket_size = max_bucket_size\n",
    "        \n",
    "        \n",
    "        if data.loc[i, 'frame_size'] <= bucket_size:            \n",
    "            byte_sent += data.loc[i, 'frame_size']\n",
    "            bucket_size = (bucket_size - data.loc[i, 'frame_size'])\n",
    "            \n",
    "        else:\n",
    "            byte_sent += bucket_size\n",
    "            marked_bytes += (data.loc[i, 'frame_size'] - bucket_size)\n",
    "        \n",
    "            \n",
    "    addition += abs(marked_bytes)        \n",
    "            \n",
    "percent = addition * 100 / total\n",
    "print(percent)"
   ]
  },
  {
   "cell_type": "markdown",
   "id": "formal-railway",
   "metadata": {},
   "source": [
    "***window size = 25***"
   ]
  },
  {
   "cell_type": "code",
   "execution_count": 22,
   "id": "according-catalyst",
   "metadata": {},
   "outputs": [
    {
     "name": "stdout",
     "output_type": "stream",
     "text": [
      "17.508846975041926\n"
     ]
    }
   ],
   "source": [
    "#Final Jumping window algorithm\n",
    "\n",
    "windowSize = 25\n",
    "addition =0\n",
    "max_frame= 0\n",
    "k= 0\n",
    "\n",
    "for i in range(0, len(data['frame_size']),  windowSize):\n",
    "    byte_sent = 0\n",
    "    deleted_bytes = 0\n",
    "    bucket_size = 0\n",
    "    marked_bytes = 0\n",
    "    #j = 0\n",
    "    #l = 0\n",
    "    \n",
    "    #Define GoP pattern\n",
    "    if(k < len(data['frame_size']) and k+16 < len(data['frame_size'])):\n",
    "        GoP_pattern = data['frame_size'][k:k+16]\n",
    "        k += 16\n",
    "        GoP_mean = sum(GoP_pattern)/16\n",
    "    else:\n",
    "        GoP_mean = sum(data['frame_size'][0:16])\n",
    "    \n",
    "    #print(GoP_pattern)\n",
    "    #print(GoP_mean)\n",
    "    \n",
    "    max_bucket_size = windowSize * GoP_mean\n",
    "    \n",
    "    for j in range(i, i+windowSize):\n",
    "        \n",
    "        bucket_size += mean_frame\n",
    "        \n",
    "        if bucket_size > max_bucket_size:\n",
    "            bucket_size = max_bucket_size\n",
    "        \n",
    "        \n",
    "        if data.loc[i, 'frame_size'] <= bucket_size:            \n",
    "            byte_sent += data.loc[i, 'frame_size']\n",
    "            bucket_size = (bucket_size - data.loc[i, 'frame_size'])\n",
    "            \n",
    "        else:\n",
    "            byte_sent += bucket_size\n",
    "            marked_bytes += (data.loc[i, 'frame_size'] - bucket_size)\n",
    "        \n",
    "            \n",
    "    addition += abs(marked_bytes)        \n",
    "            \n",
    "percent = addition * 100 / total\n",
    "print(percent)"
   ]
  },
  {
   "cell_type": "markdown",
   "id": "engaged-warrior",
   "metadata": {},
   "source": [
    "***window size = 30***"
   ]
  },
  {
   "cell_type": "code",
   "execution_count": 23,
   "id": "driven-tunisia",
   "metadata": {},
   "outputs": [
    {
     "name": "stdout",
     "output_type": "stream",
     "text": [
      "31.710797078688653\n"
     ]
    }
   ],
   "source": [
    "#Final Jumping window algorithm\n",
    "\n",
    "windowSize = 30\n",
    "addition =0\n",
    "max_frame= 0\n",
    "k= 0\n",
    "\n",
    "for i in range(0, len(data['frame_size']),  windowSize):\n",
    "    byte_sent = 0\n",
    "    deleted_bytes = 0\n",
    "    bucket_size = 0\n",
    "    marked_bytes = 0\n",
    "    #j = 0\n",
    "    #l = 0\n",
    "    \n",
    "    #Define GoP pattern\n",
    "    if(k < len(data['frame_size']) and k+16 < len(data['frame_size'])):\n",
    "        GoP_pattern = data['frame_size'][k:k+16]\n",
    "        k += 16\n",
    "        GoP_mean = sum(GoP_pattern)/16\n",
    "    else:\n",
    "        GoP_mean = sum(data['frame_size'][0:16])\n",
    "    \n",
    "    #print(GoP_pattern)\n",
    "    #print(GoP_mean)\n",
    "    \n",
    "    max_bucket_size = windowSize * GoP_mean\n",
    "    \n",
    "    for j in range(i, i+windowSize):\n",
    "        \n",
    "        bucket_size += mean_frame\n",
    "        \n",
    "        if bucket_size > max_bucket_size:\n",
    "            bucket_size = max_bucket_size\n",
    "        \n",
    "        \n",
    "        if data.loc[i, 'frame_size'] <= bucket_size:            \n",
    "            byte_sent += data.loc[i, 'frame_size']\n",
    "            bucket_size = (bucket_size - data.loc[i, 'frame_size'])\n",
    "            \n",
    "        else:\n",
    "            byte_sent += bucket_size\n",
    "            marked_bytes += (data.loc[i, 'frame_size'] - bucket_size)\n",
    "        \n",
    "            \n",
    "    addition += abs(marked_bytes)        \n",
    "            \n",
    "percent = addition * 100 / total\n",
    "print(percent)"
   ]
  },
  {
   "cell_type": "markdown",
   "id": "mechanical-patrick",
   "metadata": {},
   "source": [
    "***window size = 35***"
   ]
  },
  {
   "cell_type": "code",
   "execution_count": 24,
   "id": "different-firmware",
   "metadata": {},
   "outputs": [
    {
     "name": "stdout",
     "output_type": "stream",
     "text": [
      "17.34270859465868\n"
     ]
    }
   ],
   "source": [
    "#Final Jumping window algorithm\n",
    "\n",
    "windowSize = 35\n",
    "addition =0\n",
    "max_frame= 0\n",
    "k= 0\n",
    "\n",
    "for i in range(0, len(data['frame_size']),  windowSize):\n",
    "    byte_sent = 0\n",
    "    deleted_bytes = 0\n",
    "    bucket_size = 0\n",
    "    marked_bytes = 0\n",
    "    #j = 0\n",
    "    #l = 0\n",
    "    \n",
    "    #Define GoP pattern\n",
    "    if(k < len(data['frame_size']) and k+16 < len(data['frame_size'])):\n",
    "        GoP_pattern = data['frame_size'][k:k+16]\n",
    "        k += 16\n",
    "        GoP_mean = sum(GoP_pattern)/16\n",
    "    else:\n",
    "        GoP_mean = sum(data['frame_size'][0:16])\n",
    "    \n",
    "    #print(GoP_pattern)\n",
    "    #print(GoP_mean)\n",
    "    \n",
    "    max_bucket_size = windowSize * GoP_mean\n",
    "    \n",
    "    for j in range(i, i+windowSize):\n",
    "        \n",
    "        bucket_size += mean_frame\n",
    "        \n",
    "        if bucket_size > max_bucket_size:\n",
    "            bucket_size = max_bucket_size\n",
    "        \n",
    "        \n",
    "        if data.loc[i, 'frame_size'] <= bucket_size:            \n",
    "            byte_sent += data.loc[i, 'frame_size']\n",
    "            bucket_size = (bucket_size - data.loc[i, 'frame_size'])\n",
    "            \n",
    "        else:\n",
    "            byte_sent += bucket_size\n",
    "            marked_bytes += (data.loc[i, 'frame_size'] - bucket_size)\n",
    "        \n",
    "            \n",
    "    addition += abs(marked_bytes)        \n",
    "            \n",
    "percent = addition * 100 / total\n",
    "print(percent)"
   ]
  },
  {
   "cell_type": "markdown",
   "id": "understood-moisture",
   "metadata": {},
   "source": [
    "***window size = 40***"
   ]
  },
  {
   "cell_type": "code",
   "execution_count": 25,
   "id": "compatible-scott",
   "metadata": {},
   "outputs": [
    {
     "name": "stdout",
     "output_type": "stream",
     "text": [
      "111.36288785091772\n"
     ]
    }
   ],
   "source": [
    "#Final Jumping window algorithm\n",
    "\n",
    "windowSize = 40\n",
    "addition =0\n",
    "max_frame= 0\n",
    "k= 0\n",
    "\n",
    "for i in range(0, len(data['frame_size']),  windowSize):\n",
    "    byte_sent = 0\n",
    "    deleted_bytes = 0\n",
    "    bucket_size = 0\n",
    "    marked_bytes = 0\n",
    "    #j = 0\n",
    "    #l = 0\n",
    "    \n",
    "    #Define GoP pattern\n",
    "    if(k < len(data['frame_size']) and k+16 < len(data['frame_size'])):\n",
    "        GoP_pattern = data['frame_size'][k:k+16]\n",
    "        k += 16\n",
    "        GoP_mean = sum(GoP_pattern)/16\n",
    "    else:\n",
    "        GoP_mean = sum(data['frame_size'][0:16])\n",
    "    \n",
    "    #print(GoP_pattern)\n",
    "    #print(GoP_mean)\n",
    "    \n",
    "    max_bucket_size = windowSize * GoP_mean\n",
    "    \n",
    "    for j in range(i, i+windowSize):\n",
    "        \n",
    "        bucket_size += mean_frame\n",
    "        \n",
    "        if bucket_size > max_bucket_size:\n",
    "            bucket_size = max_bucket_size\n",
    "        \n",
    "        \n",
    "        if data.loc[i, 'frame_size'] <= bucket_size:            \n",
    "            byte_sent += data.loc[i, 'frame_size']\n",
    "            bucket_size = (bucket_size - data.loc[i, 'frame_size'])\n",
    "            \n",
    "        else:\n",
    "            byte_sent += bucket_size\n",
    "            marked_bytes += (data.loc[i, 'frame_size'] - bucket_size)\n",
    "        \n",
    "            \n",
    "    addition += abs(marked_bytes)        \n",
    "            \n",
    "percent = addition * 100 / total\n",
    "print(percent)"
   ]
  },
  {
   "cell_type": "markdown",
   "id": "moderate-diving",
   "metadata": {},
   "source": [
    "***window size = 45***"
   ]
  },
  {
   "cell_type": "code",
   "execution_count": 26,
   "id": "widespread-rover",
   "metadata": {},
   "outputs": [
    {
     "name": "stdout",
     "output_type": "stream",
     "text": [
      "17.100252276723488\n"
     ]
    }
   ],
   "source": [
    "#Final Jumping window algorithm\n",
    "\n",
    "windowSize = 45\n",
    "addition =0\n",
    "max_frame= 0\n",
    "k= 0\n",
    "\n",
    "for i in range(0, len(data['frame_size']),  windowSize):\n",
    "    byte_sent = 0\n",
    "    deleted_bytes = 0\n",
    "    bucket_size = 0\n",
    "    marked_bytes = 0\n",
    "    #j = 0\n",
    "    #l = 0\n",
    "    \n",
    "    #Define GoP pattern\n",
    "    if(k < len(data['frame_size']) and k+16 < len(data['frame_size'])):\n",
    "        GoP_pattern = data['frame_size'][k:k+16]\n",
    "        k += 16\n",
    "        GoP_mean = sum(GoP_pattern)/16\n",
    "    else:\n",
    "        GoP_mean = sum(data['frame_size'][0:16])\n",
    "    \n",
    "    #print(GoP_pattern)\n",
    "    #print(GoP_mean)\n",
    "    \n",
    "    max_bucket_size = windowSize * GoP_mean\n",
    "    \n",
    "    for j in range(i, i+windowSize):\n",
    "        \n",
    "        bucket_size += mean_frame\n",
    "        \n",
    "        if bucket_size > max_bucket_size:\n",
    "            bucket_size = max_bucket_size\n",
    "        \n",
    "        \n",
    "        if data.loc[i, 'frame_size'] <= bucket_size:            \n",
    "            byte_sent += data.loc[i, 'frame_size']\n",
    "            bucket_size = (bucket_size - data.loc[i, 'frame_size'])\n",
    "            \n",
    "        else:\n",
    "            byte_sent += bucket_size\n",
    "            marked_bytes += (data.loc[i, 'frame_size'] - bucket_size)\n",
    "        \n",
    "            \n",
    "    addition += abs(marked_bytes)        \n",
    "            \n",
    "percent = addition * 100 / total\n",
    "print(percent)"
   ]
  },
  {
   "cell_type": "markdown",
   "id": "lesbian-suite",
   "metadata": {},
   "source": [
    "***window size = 50***"
   ]
  },
  {
   "cell_type": "code",
   "execution_count": 27,
   "id": "middle-peter",
   "metadata": {},
   "outputs": [
    {
     "name": "stdout",
     "output_type": "stream",
     "text": [
      "30.122195737861237\n"
     ]
    }
   ],
   "source": [
    "#Final Jumping window algorithm\n",
    "\n",
    "windowSize = 50\n",
    "addition =0\n",
    "max_frame= 0\n",
    "k= 0\n",
    "\n",
    "for i in range(0, len(data['frame_size']),  windowSize):\n",
    "    byte_sent = 0\n",
    "    deleted_bytes = 0\n",
    "    bucket_size = 0\n",
    "    marked_bytes = 0\n",
    "    #j = 0\n",
    "    #l = 0\n",
    "    \n",
    "    #Define GoP pattern\n",
    "    if(k < len(data['frame_size']) and k+16 < len(data['frame_size'])):\n",
    "        GoP_pattern = data['frame_size'][k:k+16]\n",
    "        k += 16\n",
    "        GoP_mean = sum(GoP_pattern)/16\n",
    "    else:\n",
    "        GoP_mean = sum(data['frame_size'][0:16])\n",
    "    \n",
    "    #print(GoP_pattern)\n",
    "    #print(GoP_mean)\n",
    "    \n",
    "    max_bucket_size = windowSize * GoP_mean\n",
    "    \n",
    "    for j in range(i, i+windowSize):\n",
    "        \n",
    "        bucket_size += mean_frame\n",
    "        \n",
    "        if bucket_size > max_bucket_size:\n",
    "            bucket_size = max_bucket_size\n",
    "        \n",
    "        \n",
    "        if data.loc[i, 'frame_size'] <= bucket_size:            \n",
    "            byte_sent += data.loc[i, 'frame_size']\n",
    "            bucket_size = (bucket_size - data.loc[i, 'frame_size'])\n",
    "            \n",
    "        else:\n",
    "            byte_sent += bucket_size\n",
    "            marked_bytes += (data.loc[i, 'frame_size'] - bucket_size)\n",
    "        \n",
    "            \n",
    "    addition += abs(marked_bytes)        \n",
    "            \n",
    "percent = addition * 100 / total\n",
    "print(percent)"
   ]
  },
  {
   "cell_type": "code",
   "execution_count": null,
   "id": "universal-clinton",
   "metadata": {},
   "outputs": [],
   "source": []
  },
  {
   "cell_type": "code",
   "execution_count": null,
   "id": "selected-cotton",
   "metadata": {},
   "outputs": [],
   "source": []
  },
  {
   "cell_type": "code",
   "execution_count": null,
   "id": "helpful-enclosure",
   "metadata": {},
   "outputs": [],
   "source": []
  },
  {
   "cell_type": "code",
   "execution_count": null,
   "id": "breeding-playback",
   "metadata": {},
   "outputs": [],
   "source": []
  },
  {
   "cell_type": "code",
   "execution_count": null,
   "id": "faced-parameter",
   "metadata": {},
   "outputs": [],
   "source": []
  },
  {
   "cell_type": "code",
   "execution_count": null,
   "id": "4fb2652e",
   "metadata": {},
   "outputs": [],
   "source": []
  }
 ],
 "metadata": {
  "kernelspec": {
   "display_name": "Python 3",
   "language": "python",
   "name": "python3"
  },
  "language_info": {
   "codemirror_mode": {
    "name": "ipython",
    "version": 3
   },
   "file_extension": ".py",
   "mimetype": "text/x-python",
   "name": "python",
   "nbconvert_exporter": "python",
   "pygments_lexer": "ipython3",
   "version": "3.8.5"
  }
 },
 "nbformat": 4,
 "nbformat_minor": 5
}
