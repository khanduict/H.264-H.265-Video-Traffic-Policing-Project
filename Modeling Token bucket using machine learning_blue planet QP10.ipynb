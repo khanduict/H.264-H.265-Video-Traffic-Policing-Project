{
 "cells": [
  {
   "cell_type": "code",
   "execution_count": null,
   "id": "qCT5bvh2iHDW",
   "metadata": {
    "colab": {
     "base_uri": "https://localhost:8080/"
    },
    "executionInfo": {
     "elapsed": 35529,
     "status": "ok",
     "timestamp": 1629621458207,
     "user": {
      "displayName": "Ali Hamza",
      "photoUrl": "https://lh3.googleusercontent.com/a-/AOh14GgTtc9bErtsdwKu3TR6igekmFPdDVDvs6sUKQoyCQ=s64",
      "userId": "04189544690877235856"
     },
     "user_tz": -300
    },
    "id": "qCT5bvh2iHDW",
    "outputId": "76786929-a9fc-43ae-e990-69043477b1da"
   },
   "outputs": [],
   "source": [
    "from google.colab import drive\n",
    "drive.mount('/content/drive')"
   ]
  },
  {
   "cell_type": "code",
   "execution_count": 1,
   "id": "cultural-evidence",
   "metadata": {
    "executionInfo": {
     "elapsed": 3219,
     "status": "ok",
     "timestamp": 1629621466154,
     "user": {
      "displayName": "Ali Hamza",
      "photoUrl": "https://lh3.googleusercontent.com/a-/AOh14GgTtc9bErtsdwKu3TR6igekmFPdDVDvs6sUKQoyCQ=s64",
      "userId": "04189544690877235856"
     },
     "user_tz": -300
    },
    "id": "cultural-evidence"
   },
   "outputs": [],
   "source": [
    "import pandas as pd\n",
    "from sklearn import datasets #import dataset from scikit-learn\n",
    "from sklearn.model_selection import train_test_split\n",
    "from sklearn import model_selection\n",
    "from sklearn.preprocessing import StandardScaler\n",
    "from sklearn.neural_network import MLPClassifier\n",
    "from sklearn.metrics import accuracy_score\n",
    "\n",
    "\n",
    "#import keras\n",
    "import tensorflow as tf\n",
    "import numpy as np\n",
    "import pandas as pd\n",
    "from sklearn.preprocessing import LabelEncoder\n",
    "\n",
    "\n",
    "from scipy.stats.distributions import gamma\n",
    "from scipy.stats.distributions import poisson\n",
    "from scipy.stats.distributions import expon\n",
    "\n",
    "import statistics\n",
    "from scipy.stats import norm\n",
    "from scipy import stats\n",
    "import scipy.stats\n",
    "\n",
    "import matplotlib.pyplot as plt\n",
    "\n",
    "from sklearn.model_selection import train_test_split\n",
    "from sklearn.metrics import accuracy_score, precision_score, recall_score, confusion_matrix, precision_recall_curve\n",
    "import seaborn as sns"
   ]
  },
  {
   "cell_type": "code",
   "execution_count": 2,
   "id": "transparent-feedback",
   "metadata": {},
   "outputs": [],
   "source": [
    "#import data\n",
    "data = pd.read_csv(\"../MODELING TOKEN BUCKET USING CLASSIFICATION MODELS/H265-data/BluePlanet/blueplanet-QP 10.csv\",\n",
    "                   names=['decoded_frame','arrival_time', 'video_frame', \n",
    "                                         'frame_size', 'x', 'y', 'z'])\n"
   ]
  },
  {
   "cell_type": "code",
   "execution_count": 3,
   "id": "swiss-oxide",
   "metadata": {
    "colab": {
     "base_uri": "https://localhost:8080/",
     "height": 234
    },
    "executionInfo": {
     "elapsed": 96,
     "status": "ok",
     "timestamp": 1629621467089,
     "user": {
      "displayName": "Ali Hamza",
      "photoUrl": "https://lh3.googleusercontent.com/a-/AOh14GgTtc9bErtsdwKu3TR6igekmFPdDVDvs6sUKQoyCQ=s64",
      "userId": "04189544690877235856"
     },
     "user_tz": -300
    },
    "id": "swiss-oxide",
    "outputId": "a287c189-eac9-4f6e-bb6e-7ab35055f28c"
   },
   "outputs": [
    {
     "data": {
      "text/html": [
       "<div>\n",
       "<style scoped>\n",
       "    .dataframe tbody tr th:only-of-type {\n",
       "        vertical-align: middle;\n",
       "    }\n",
       "\n",
       "    .dataframe tbody tr th {\n",
       "        vertical-align: top;\n",
       "    }\n",
       "\n",
       "    .dataframe thead th {\n",
       "        text-align: right;\n",
       "    }\n",
       "</style>\n",
       "<table border=\"1\" class=\"dataframe\">\n",
       "  <thead>\n",
       "    <tr style=\"text-align: right;\">\n",
       "      <th></th>\n",
       "      <th>decoded_frame</th>\n",
       "      <th>arrival_time</th>\n",
       "      <th>video_frame</th>\n",
       "      <th>frame_size</th>\n",
       "      <th>x</th>\n",
       "      <th>y</th>\n",
       "      <th>z</th>\n",
       "    </tr>\n",
       "  </thead>\n",
       "  <tbody>\n",
       "    <tr>\n",
       "      <th>0</th>\n",
       "      <td>0</td>\n",
       "      <td>0.00000</td>\n",
       "      <td>I</td>\n",
       "      <td>686.0</td>\n",
       "      <td>99.99</td>\n",
       "      <td>99.99</td>\n",
       "      <td>99.99</td>\n",
       "    </tr>\n",
       "    <tr>\n",
       "      <th>1</th>\n",
       "      <td>1</td>\n",
       "      <td>0.04167</td>\n",
       "      <td>B</td>\n",
       "      <td>29.0</td>\n",
       "      <td>99.99</td>\n",
       "      <td>99.99</td>\n",
       "      <td>99.99</td>\n",
       "    </tr>\n",
       "    <tr>\n",
       "      <th>2</th>\n",
       "      <td>2</td>\n",
       "      <td>0.08333</td>\n",
       "      <td>B</td>\n",
       "      <td>30.0</td>\n",
       "      <td>99.99</td>\n",
       "      <td>99.99</td>\n",
       "      <td>99.99</td>\n",
       "    </tr>\n",
       "    <tr>\n",
       "      <th>3</th>\n",
       "      <td>3</td>\n",
       "      <td>0.12500</td>\n",
       "      <td>B</td>\n",
       "      <td>29.0</td>\n",
       "      <td>99.99</td>\n",
       "      <td>99.99</td>\n",
       "      <td>99.99</td>\n",
       "    </tr>\n",
       "    <tr>\n",
       "      <th>4</th>\n",
       "      <td>4</td>\n",
       "      <td>0.16667</td>\n",
       "      <td>B</td>\n",
       "      <td>30.0</td>\n",
       "      <td>99.99</td>\n",
       "      <td>99.99</td>\n",
       "      <td>99.99</td>\n",
       "    </tr>\n",
       "  </tbody>\n",
       "</table>\n",
       "</div>"
      ],
      "text/plain": [
       "  decoded_frame  arrival_time video_frame  frame_size      x      y      z\n",
       "0             0       0.00000           I       686.0  99.99  99.99  99.99\n",
       "1             1       0.04167           B        29.0  99.99  99.99  99.99\n",
       "2             2       0.08333           B        30.0  99.99  99.99  99.99\n",
       "3             3       0.12500           B        29.0  99.99  99.99  99.99\n",
       "4             4       0.16667           B        30.0  99.99  99.99  99.99"
      ]
     },
     "execution_count": 3,
     "metadata": {},
     "output_type": "execute_result"
    }
   ],
   "source": [
    "data.head()"
   ]
  },
  {
   "cell_type": "code",
   "execution_count": 4,
   "id": "periodic-debut",
   "metadata": {},
   "outputs": [],
   "source": [
    "#Drop NA values\n",
    "data.dropna(0,inplace= True)"
   ]
  },
  {
   "cell_type": "code",
   "execution_count": 5,
   "id": "hairy-relative",
   "metadata": {
    "executionInfo": {
     "elapsed": 84,
     "status": "ok",
     "timestamp": 1629621467092,
     "user": {
      "displayName": "Ali Hamza",
      "photoUrl": "https://lh3.googleusercontent.com/a-/AOh14GgTtc9bErtsdwKu3TR6igekmFPdDVDvs6sUKQoyCQ=s64",
      "userId": "04189544690877235856"
     },
     "user_tz": -300
    },
    "id": "hairy-relative"
   },
   "outputs": [],
   "source": [
    "#drop decoded frame column\n",
    "data.drop(('decoded_frame'), axis=1, inplace=True)\n",
    "\n",
    "data.drop(('x'), axis=1, inplace=True)\n",
    "data.drop(('y'), axis=1, inplace=True)\n",
    "data.drop(('z'), axis=1, inplace=True)"
   ]
  },
  {
   "cell_type": "code",
   "execution_count": 6,
   "id": "sunset-letter",
   "metadata": {
    "colab": {
     "base_uri": "https://localhost:8080/"
    },
    "executionInfo": {
     "elapsed": 85,
     "status": "ok",
     "timestamp": 1629621467095,
     "user": {
      "displayName": "Ali Hamza",
      "photoUrl": "https://lh3.googleusercontent.com/a-/AOh14GgTtc9bErtsdwKu3TR6igekmFPdDVDvs6sUKQoyCQ=s64",
      "userId": "04189544690877235856"
     },
     "user_tz": -300
    },
    "id": "sunset-letter",
    "outputId": "b1ffc559-b3ed-41ed-d832-a4eb3c1fe7ae"
   },
   "outputs": [
    {
     "name": "stdout",
     "output_type": "stream",
     "text": [
      "['B', 'I', 'P']\n"
     ]
    }
   ],
   "source": [
    "# Label encoding of species column numerically\n",
    "le = LabelEncoder()\n",
    "le.fit(data['video_frame'])\n",
    "print(list(le.classes_))\n",
    "data['video_frame'] = le.transform(data['video_frame'])"
   ]
  },
  {
   "cell_type": "code",
   "execution_count": 7,
   "id": "going-yacht",
   "metadata": {
    "colab": {
     "base_uri": "https://localhost:8080/",
     "height": 234
    },
    "executionInfo": {
     "elapsed": 75,
     "status": "ok",
     "timestamp": 1629621467101,
     "user": {
      "displayName": "Ali Hamza",
      "photoUrl": "https://lh3.googleusercontent.com/a-/AOh14GgTtc9bErtsdwKu3TR6igekmFPdDVDvs6sUKQoyCQ=s64",
      "userId": "04189544690877235856"
     },
     "user_tz": -300
    },
    "id": "going-yacht",
    "outputId": "c5983f42-bf06-4162-b202-aa18edc77d75"
   },
   "outputs": [
    {
     "data": {
      "text/html": [
       "<div>\n",
       "<style scoped>\n",
       "    .dataframe tbody tr th:only-of-type {\n",
       "        vertical-align: middle;\n",
       "    }\n",
       "\n",
       "    .dataframe tbody tr th {\n",
       "        vertical-align: top;\n",
       "    }\n",
       "\n",
       "    .dataframe thead th {\n",
       "        text-align: right;\n",
       "    }\n",
       "</style>\n",
       "<table border=\"1\" class=\"dataframe\">\n",
       "  <thead>\n",
       "    <tr style=\"text-align: right;\">\n",
       "      <th></th>\n",
       "      <th>arrival_time</th>\n",
       "      <th>video_frame</th>\n",
       "      <th>frame_size</th>\n",
       "    </tr>\n",
       "  </thead>\n",
       "  <tbody>\n",
       "    <tr>\n",
       "      <th>0</th>\n",
       "      <td>0.00000</td>\n",
       "      <td>1</td>\n",
       "      <td>686.0</td>\n",
       "    </tr>\n",
       "    <tr>\n",
       "      <th>1</th>\n",
       "      <td>0.04167</td>\n",
       "      <td>0</td>\n",
       "      <td>29.0</td>\n",
       "    </tr>\n",
       "    <tr>\n",
       "      <th>2</th>\n",
       "      <td>0.08333</td>\n",
       "      <td>0</td>\n",
       "      <td>30.0</td>\n",
       "    </tr>\n",
       "    <tr>\n",
       "      <th>3</th>\n",
       "      <td>0.12500</td>\n",
       "      <td>0</td>\n",
       "      <td>29.0</td>\n",
       "    </tr>\n",
       "    <tr>\n",
       "      <th>4</th>\n",
       "      <td>0.16667</td>\n",
       "      <td>0</td>\n",
       "      <td>30.0</td>\n",
       "    </tr>\n",
       "  </tbody>\n",
       "</table>\n",
       "</div>"
      ],
      "text/plain": [
       "   arrival_time  video_frame  frame_size\n",
       "0       0.00000            1       686.0\n",
       "1       0.04167            0        29.0\n",
       "2       0.08333            0        30.0\n",
       "3       0.12500            0        29.0\n",
       "4       0.16667            0        30.0"
      ]
     },
     "execution_count": 7,
     "metadata": {},
     "output_type": "execute_result"
    }
   ],
   "source": [
    "data.head()"
   ]
  },
  {
   "cell_type": "code",
   "execution_count": 8,
   "id": "excellent-livestock",
   "metadata": {
    "executionInfo": {
     "elapsed": 70,
     "status": "ok",
     "timestamp": 1629621467105,
     "user": {
      "displayName": "Ali Hamza",
      "photoUrl": "https://lh3.googleusercontent.com/a-/AOh14GgTtc9bErtsdwKu3TR6igekmFPdDVDvs6sUKQoyCQ=s64",
      "userId": "04189544690877235856"
     },
     "user_tz": -300
    },
    "id": "excellent-livestock"
   },
   "outputs": [],
   "source": [
    "#Drop NA values\n",
    "data.frame_size.dropna(0,inplace= True)"
   ]
  },
  {
   "cell_type": "code",
   "execution_count": 9,
   "id": "flexible-prior",
   "metadata": {
    "executionInfo": {
     "elapsed": 71,
     "status": "ok",
     "timestamp": 1629621467108,
     "user": {
      "displayName": "Ali Hamza",
      "photoUrl": "https://lh3.googleusercontent.com/a-/AOh14GgTtc9bErtsdwKu3TR6igekmFPdDVDvs6sUKQoyCQ=s64",
      "userId": "04189544690877235856"
     },
     "user_tz": -300
    },
    "id": "flexible-prior"
   },
   "outputs": [],
   "source": [
    "data.reset_index(inplace=True)"
   ]
  },
  {
   "cell_type": "code",
   "execution_count": 10,
   "id": "lonely-manual",
   "metadata": {
    "colab": {
     "base_uri": "https://localhost:8080/",
     "height": 203
    },
    "executionInfo": {
     "elapsed": 73,
     "status": "ok",
     "timestamp": 1629621467112,
     "user": {
      "displayName": "Ali Hamza",
      "photoUrl": "https://lh3.googleusercontent.com/a-/AOh14GgTtc9bErtsdwKu3TR6igekmFPdDVDvs6sUKQoyCQ=s64",
      "userId": "04189544690877235856"
     },
     "user_tz": -300
    },
    "id": "lonely-manual",
    "outputId": "662dd43e-30bb-4c03-9a74-3b396a153488"
   },
   "outputs": [
    {
     "data": {
      "text/html": [
       "<div>\n",
       "<style scoped>\n",
       "    .dataframe tbody tr th:only-of-type {\n",
       "        vertical-align: middle;\n",
       "    }\n",
       "\n",
       "    .dataframe tbody tr th {\n",
       "        vertical-align: top;\n",
       "    }\n",
       "\n",
       "    .dataframe thead th {\n",
       "        text-align: right;\n",
       "    }\n",
       "</style>\n",
       "<table border=\"1\" class=\"dataframe\">\n",
       "  <thead>\n",
       "    <tr style=\"text-align: right;\">\n",
       "      <th></th>\n",
       "      <th>index</th>\n",
       "      <th>arrival_time</th>\n",
       "      <th>video_frame</th>\n",
       "      <th>frame_size</th>\n",
       "    </tr>\n",
       "  </thead>\n",
       "  <tbody>\n",
       "    <tr>\n",
       "      <th>0</th>\n",
       "      <td>0</td>\n",
       "      <td>0.00000</td>\n",
       "      <td>1</td>\n",
       "      <td>686.0</td>\n",
       "    </tr>\n",
       "    <tr>\n",
       "      <th>1</th>\n",
       "      <td>1</td>\n",
       "      <td>0.04167</td>\n",
       "      <td>0</td>\n",
       "      <td>29.0</td>\n",
       "    </tr>\n",
       "    <tr>\n",
       "      <th>2</th>\n",
       "      <td>2</td>\n",
       "      <td>0.08333</td>\n",
       "      <td>0</td>\n",
       "      <td>30.0</td>\n",
       "    </tr>\n",
       "    <tr>\n",
       "      <th>3</th>\n",
       "      <td>3</td>\n",
       "      <td>0.12500</td>\n",
       "      <td>0</td>\n",
       "      <td>29.0</td>\n",
       "    </tr>\n",
       "    <tr>\n",
       "      <th>4</th>\n",
       "      <td>4</td>\n",
       "      <td>0.16667</td>\n",
       "      <td>0</td>\n",
       "      <td>30.0</td>\n",
       "    </tr>\n",
       "  </tbody>\n",
       "</table>\n",
       "</div>"
      ],
      "text/plain": [
       "   index  arrival_time  video_frame  frame_size\n",
       "0      0       0.00000            1       686.0\n",
       "1      1       0.04167            0        29.0\n",
       "2      2       0.08333            0        30.0\n",
       "3      3       0.12500            0        29.0\n",
       "4      4       0.16667            0        30.0"
      ]
     },
     "execution_count": 10,
     "metadata": {},
     "output_type": "execute_result"
    }
   ],
   "source": [
    "data.head()"
   ]
  },
  {
   "cell_type": "code",
   "execution_count": 11,
   "id": "dense-hearing",
   "metadata": {
    "executionInfo": {
     "elapsed": 19,
     "status": "ok",
     "timestamp": 1629621467902,
     "user": {
      "displayName": "Ali Hamza",
      "photoUrl": "https://lh3.googleusercontent.com/a-/AOh14GgTtc9bErtsdwKu3TR6igekmFPdDVDvs6sUKQoyCQ=s64",
      "userId": "04189544690877235856"
     },
     "user_tz": -300
    },
    "id": "dense-hearing"
   },
   "outputs": [],
   "source": [
    "#Sort the arrival time \n",
    "\n",
    "data.sort_values('arrival_time', inplace=True)\n",
    "data.reset_index(drop=True, inplace=True)"
   ]
  },
  {
   "cell_type": "code",
   "execution_count": 12,
   "id": "hired-venture",
   "metadata": {
    "colab": {
     "base_uri": "https://localhost:8080/",
     "height": 203
    },
    "executionInfo": {
     "elapsed": 28,
     "status": "ok",
     "timestamp": 1629621468291,
     "user": {
      "displayName": "Ali Hamza",
      "photoUrl": "https://lh3.googleusercontent.com/a-/AOh14GgTtc9bErtsdwKu3TR6igekmFPdDVDvs6sUKQoyCQ=s64",
      "userId": "04189544690877235856"
     },
     "user_tz": -300
    },
    "id": "hired-venture",
    "outputId": "64d4d49d-37c9-4bdf-bb5b-c27766dfe28b"
   },
   "outputs": [
    {
     "data": {
      "text/html": [
       "<div>\n",
       "<style scoped>\n",
       "    .dataframe tbody tr th:only-of-type {\n",
       "        vertical-align: middle;\n",
       "    }\n",
       "\n",
       "    .dataframe tbody tr th {\n",
       "        vertical-align: top;\n",
       "    }\n",
       "\n",
       "    .dataframe thead th {\n",
       "        text-align: right;\n",
       "    }\n",
       "</style>\n",
       "<table border=\"1\" class=\"dataframe\">\n",
       "  <thead>\n",
       "    <tr style=\"text-align: right;\">\n",
       "      <th></th>\n",
       "      <th>index</th>\n",
       "      <th>arrival_time</th>\n",
       "      <th>video_frame</th>\n",
       "      <th>frame_size</th>\n",
       "    </tr>\n",
       "  </thead>\n",
       "  <tbody>\n",
       "    <tr>\n",
       "      <th>0</th>\n",
       "      <td>0</td>\n",
       "      <td>0.00000</td>\n",
       "      <td>1</td>\n",
       "      <td>686.0</td>\n",
       "    </tr>\n",
       "    <tr>\n",
       "      <th>1</th>\n",
       "      <td>1</td>\n",
       "      <td>0.04167</td>\n",
       "      <td>0</td>\n",
       "      <td>29.0</td>\n",
       "    </tr>\n",
       "    <tr>\n",
       "      <th>2</th>\n",
       "      <td>2</td>\n",
       "      <td>0.08333</td>\n",
       "      <td>0</td>\n",
       "      <td>30.0</td>\n",
       "    </tr>\n",
       "    <tr>\n",
       "      <th>3</th>\n",
       "      <td>3</td>\n",
       "      <td>0.12500</td>\n",
       "      <td>0</td>\n",
       "      <td>29.0</td>\n",
       "    </tr>\n",
       "    <tr>\n",
       "      <th>4</th>\n",
       "      <td>4</td>\n",
       "      <td>0.16667</td>\n",
       "      <td>0</td>\n",
       "      <td>30.0</td>\n",
       "    </tr>\n",
       "  </tbody>\n",
       "</table>\n",
       "</div>"
      ],
      "text/plain": [
       "   index  arrival_time  video_frame  frame_size\n",
       "0      0       0.00000            1       686.0\n",
       "1      1       0.04167            0        29.0\n",
       "2      2       0.08333            0        30.0\n",
       "3      3       0.12500            0        29.0\n",
       "4      4       0.16667            0        30.0"
      ]
     },
     "execution_count": 12,
     "metadata": {},
     "output_type": "execute_result"
    }
   ],
   "source": [
    "data.head()"
   ]
  },
  {
   "cell_type": "raw",
   "id": "located-terrace",
   "metadata": {
    "colab": {
     "base_uri": "https://localhost:8080/",
     "height": 374
    },
    "executionInfo": {
     "elapsed": 10376,
     "status": "ok",
     "timestamp": 1629621484419,
     "user": {
      "displayName": "Ali Hamza",
      "photoUrl": "https://lh3.googleusercontent.com/a-/AOh14GgTtc9bErtsdwKu3TR6igekmFPdDVDvs6sUKQoyCQ=s64",
      "userId": "04189544690877235856"
     },
     "user_tz": -300
    },
    "id": "grave-roads",
    "outputId": "09915cd4-8966-4c51-f8f1-8ce45e994f92"
   },
   "source": [
    "\n",
    "# the pairplot function accepts only a DataFrame. \n",
    "# lesson, cannot have other kinds of data structures.\n",
    "sns.pairplot(data, hue='video_frame');\n",
    "\n",
    "plt.show()"
   ]
  },
  {
   "cell_type": "code",
   "execution_count": 13,
   "id": "given-electricity",
   "metadata": {
    "colab": {
     "base_uri": "https://localhost:8080/"
    },
    "executionInfo": {
     "elapsed": 20,
     "status": "ok",
     "timestamp": 1629621484421,
     "user": {
      "displayName": "Ali Hamza",
      "photoUrl": "https://lh3.googleusercontent.com/a-/AOh14GgTtc9bErtsdwKu3TR6igekmFPdDVDvs6sUKQoyCQ=s64",
      "userId": "04189544690877235856"
     },
     "user_tz": -300
    },
    "id": "given-electricity",
    "outputId": "b2a100e4-325e-4c7d-9e89-2ed689bec216"
   },
   "outputs": [
    {
     "data": {
      "text/plain": [
       "index           0\n",
       "arrival_time    0\n",
       "video_frame     0\n",
       "frame_size      0\n",
       "dtype: int64"
      ]
     },
     "execution_count": 13,
     "metadata": {},
     "output_type": "execute_result"
    }
   ],
   "source": [
    "#Check for missing values\n",
    "\n",
    "data.isnull().sum()"
   ]
  },
  {
   "cell_type": "code",
   "execution_count": 14,
   "id": "executive-species",
   "metadata": {
    "executionInfo": {
     "elapsed": 15,
     "status": "ok",
     "timestamp": 1629621484422,
     "user": {
      "displayName": "Ali Hamza",
      "photoUrl": "https://lh3.googleusercontent.com/a-/AOh14GgTtc9bErtsdwKu3TR6igekmFPdDVDvs6sUKQoyCQ=s64",
      "userId": "04189544690877235856"
     },
     "user_tz": -300
    },
    "id": "executive-species"
   },
   "outputs": [],
   "source": [
    "X = data.drop('video_frame', axis=1) # predictor\n",
    "Y = data['video_frame']  #response"
   ]
  },
  {
   "cell_type": "code",
   "execution_count": 15,
   "id": "noticed-christopher",
   "metadata": {
    "executionInfo": {
     "elapsed": 380,
     "status": "ok",
     "timestamp": 1629621507779,
     "user": {
      "displayName": "Ali Hamza",
      "photoUrl": "https://lh3.googleusercontent.com/a-/AOh14GgTtc9bErtsdwKu3TR6igekmFPdDVDvs6sUKQoyCQ=s64",
      "userId": "04189544690877235856"
     },
     "user_tz": -300
    },
    "id": "noticed-christopher"
   },
   "outputs": [],
   "source": [
    "#split the data\n",
    "#25% hold out for testing\n",
    "X_train, X_test, y_train, y_test = train_test_split(X, Y, test_size =0.25, random_state=25) "
   ]
  },
  {
   "cell_type": "code",
   "execution_count": 16,
   "id": "after-advance",
   "metadata": {
    "colab": {
     "base_uri": "https://localhost:8080/"
    },
    "executionInfo": {
     "elapsed": 12,
     "status": "ok",
     "timestamp": 1629621508339,
     "user": {
      "displayName": "Ali Hamza",
      "photoUrl": "https://lh3.googleusercontent.com/a-/AOh14GgTtc9bErtsdwKu3TR6igekmFPdDVDvs6sUKQoyCQ=s64",
      "userId": "04189544690877235856"
     },
     "user_tz": -300
    },
    "id": "after-advance",
    "outputId": "89dfbbed-ea45-4ad1-f50d-ba3186c0f5f4"
   },
   "outputs": [
    {
     "data": {
      "text/plain": [
       "StandardScaler()"
      ]
     },
     "execution_count": 16,
     "metadata": {},
     "output_type": "execute_result"
    }
   ],
   "source": [
    "scaler = StandardScaler()\n",
    "#fit only to the training data\n",
    "scaler.fit(X_train)"
   ]
  },
  {
   "cell_type": "code",
   "execution_count": 17,
   "id": "comprehensive-lambda",
   "metadata": {
    "executionInfo": {
     "elapsed": 8,
     "status": "ok",
     "timestamp": 1629621508902,
     "user": {
      "displayName": "Ali Hamza",
      "photoUrl": "https://lh3.googleusercontent.com/a-/AOh14GgTtc9bErtsdwKu3TR6igekmFPdDVDvs6sUKQoyCQ=s64",
      "userId": "04189544690877235856"
     },
     "user_tz": -300
    },
    "id": "comprehensive-lambda"
   },
   "outputs": [],
   "source": [
    "#Now apply the transformations to the data\n",
    "\n",
    "X_train = scaler.transform(X_train)\n",
    "X_test = scaler.transform(X_test)"
   ]
  },
  {
   "cell_type": "code",
   "execution_count": null,
   "id": "royal-continent",
   "metadata": {
    "executionInfo": {
     "elapsed": 12,
     "status": "ok",
     "timestamp": 1629621509543,
     "user": {
      "displayName": "Ali Hamza",
      "photoUrl": "https://lh3.googleusercontent.com/a-/AOh14GgTtc9bErtsdwKu3TR6igekmFPdDVDvs6sUKQoyCQ=s64",
      "userId": "04189544690877235856"
     },
     "user_tz": -300
    },
    "id": "royal-continent"
   },
   "outputs": [],
   "source": []
  },
  {
   "cell_type": "code",
   "execution_count": null,
   "id": "buried-afghanistan",
   "metadata": {},
   "outputs": [],
   "source": []
  },
  {
   "cell_type": "code",
   "execution_count": 18,
   "id": "sudden-customer",
   "metadata": {},
   "outputs": [],
   "source": [
    "# Data frame for evaluation metrics\n",
    "metrics = pd.DataFrame(index=['accuracy', 'precision' ,'recall'], \n",
    "                      columns=['LogisticReg', 'Bagging', 'RandomForest', 'Boosting','DecisionTree', 'Multilayer_Perceptron'])"
   ]
  },
  {
   "cell_type": "markdown",
   "id": "ready-bennett",
   "metadata": {
    "id": "ready-bennett"
   },
   "source": [
    "# Logistic Regression"
   ]
  },
  {
   "cell_type": "code",
   "execution_count": 19,
   "id": "constant-talent",
   "metadata": {
    "colab": {
     "base_uri": "https://localhost:8080/"
    },
    "executionInfo": {
     "elapsed": 451,
     "status": "ok",
     "timestamp": 1629621510743,
     "user": {
      "displayName": "Ali Hamza",
      "photoUrl": "https://lh3.googleusercontent.com/a-/AOh14GgTtc9bErtsdwKu3TR6igekmFPdDVDvs6sUKQoyCQ=s64",
      "userId": "04189544690877235856"
     },
     "user_tz": -300
    },
    "id": "constant-talent",
    "outputId": "b14fdd81-619a-4ea4-f994-b0246a37a90c"
   },
   "outputs": [
    {
     "data": {
      "text/plain": [
       "array([[13149,     5,   168],\n",
       "       [  256,    94,   307],\n",
       "       [  817,    54,   402]], dtype=int64)"
      ]
     },
     "execution_count": 19,
     "metadata": {},
     "output_type": "execute_result"
    }
   ],
   "source": [
    "# 1. Import the estimator object (model)\n",
    "from sklearn.linear_model import LogisticRegression\n",
    "\n",
    "# 2. Create an instance of the estimator\n",
    "logistic_regression = LogisticRegression(random_state=55)\n",
    "\n",
    "# 3. Use the trainning data to train the estimator\n",
    "logistic_regression.fit(X_train, y_train)\n",
    "\n",
    "# 4. Evaluate the model\n",
    "y_pred_LR = logistic_regression.predict(X_test)\n",
    "\n",
    "\n",
    "from sklearn.metrics import confusion_matrix\n",
    "\n",
    "confusion_matrix = confusion_matrix(y_test, y_pred_LR)\n",
    "confusion_matrix"
   ]
  },
  {
   "cell_type": "code",
   "execution_count": 20,
   "id": "powered-guess",
   "metadata": {
    "colab": {
     "base_uri": "https://localhost:8080/"
    },
    "executionInfo": {
     "elapsed": 28,
     "status": "ok",
     "timestamp": 1629621510748,
     "user": {
      "displayName": "Ali Hamza",
      "photoUrl": "https://lh3.googleusercontent.com/a-/AOh14GgTtc9bErtsdwKu3TR6igekmFPdDVDvs6sUKQoyCQ=s64",
      "userId": "04189544690877235856"
     },
     "user_tz": -300
    },
    "id": "powered-guess",
    "outputId": "157b4175-e795-4411-95fb-27acff4d4e33"
   },
   "outputs": [
    {
     "name": "stdout",
     "output_type": "stream",
     "text": [
      "0.8946367689483347\n"
     ]
    }
   ],
   "source": [
    "print(accuracy_score(y_test, y_pred_LR))"
   ]
  },
  {
   "cell_type": "code",
   "execution_count": null,
   "id": "prescribed-mechanism",
   "metadata": {
    "id": "iNu5vUxfl56a"
   },
   "outputs": [],
   "source": []
  },
  {
   "cell_type": "code",
   "execution_count": 21,
   "id": "blessed-accuracy",
   "metadata": {
    "colab": {
     "base_uri": "https://localhost:8080/"
    },
    "executionInfo": {
     "elapsed": 384,
     "status": "ok",
     "timestamp": 1629621511762,
     "user": {
      "displayName": "Ali Hamza",
      "photoUrl": "https://lh3.googleusercontent.com/a-/AOh14GgTtc9bErtsdwKu3TR6igekmFPdDVDvs6sUKQoyCQ=s64",
      "userId": "04189544690877235856"
     },
     "user_tz": -300
    },
    "id": "blessed-accuracy",
    "outputId": "346123a2-6202-40a7-8843-29ec7cfcd33b"
   },
   "outputs": [
    {
     "name": "stdout",
     "output_type": "stream",
     "text": [
      "              precision    recall  f1-score   support\n",
      "\n",
      "           0       0.92      0.99      0.95     13322\n",
      "           1       0.61      0.14      0.23       657\n",
      "           2       0.46      0.32      0.37      1273\n",
      "\n",
      "    accuracy                           0.89     15252\n",
      "   macro avg       0.67      0.48      0.52     15252\n",
      "weighted avg       0.87      0.89      0.88     15252\n",
      "\n"
     ]
    }
   ],
   "source": [
    "# Let's check the evaluation metrics of our default model\n",
    "\n",
    "# Importing classification report and confusion matrix from sklearn metrics\n",
    "from sklearn.metrics import classification_report, confusion_matrix, accuracy_score\n",
    "\n",
    "# Making predictions\n",
    "y_pred_LR = logistic_regression.predict(X_test)\n",
    "\n",
    "# Printing classification report\n",
    "print(classification_report(y_test, y_pred_LR))"
   ]
  },
  {
   "cell_type": "code",
   "execution_count": 22,
   "id": "whole-reminder",
   "metadata": {
    "colab": {
     "base_uri": "https://localhost:8080/",
     "height": 35
    },
    "executionInfo": {
     "elapsed": 448,
     "status": "ok",
     "timestamp": 1629622183170,
     "user": {
      "displayName": "Ali Hamza",
      "photoUrl": "https://lh3.googleusercontent.com/a-/AOh14GgTtc9bErtsdwKu3TR6igekmFPdDVDvs6sUKQoyCQ=s64",
      "userId": "04189544690877235856"
     },
     "user_tz": -300
    },
    "id": "whole-reminder",
    "outputId": "a90e0e00-b0de-420b-db37-cc6cb793f317"
   },
   "outputs": [
    {
     "data": {
      "text/plain": [
       "'\\n# predict probabilities\\ny_pred_proba =logistic_regression.predict_proba(X_test)\\nprint(y_pred_proba)\\n'"
      ]
     },
     "execution_count": 22,
     "metadata": {},
     "output_type": "execute_result"
    }
   ],
   "source": [
    "\"\"\"\n",
    "# predict probabilities\n",
    "y_pred_proba =logistic_regression.predict_proba(X_test)\n",
    "print(y_pred_proba)\n",
    "\"\"\""
   ]
  },
  {
   "cell_type": "code",
   "execution_count": 23,
   "id": "collective-connection",
   "metadata": {},
   "outputs": [],
   "source": [
    "\n",
    "# 4. Evaluate the model\n",
    "y_pred_LR = logistic_regression.predict(X_test)\n",
    "metrics.loc['accuracy','LogisticReg'] = accuracy_score(y_pred_LR, y_test)\n",
    "metrics.loc['precision','LogisticReg'] = precision_score(y_pred_LR, y_test, average='micro')\n",
    "metrics.loc['recall','LogisticReg'] = recall_score(y_pred_LR, y_test,  average= 'micro')"
   ]
  },
  {
   "cell_type": "markdown",
   "id": "intensive-italic",
   "metadata": {},
   "source": [
    "# Bagging model"
   ]
  },
  {
   "cell_type": "code",
   "execution_count": 24,
   "id": "played-reason",
   "metadata": {},
   "outputs": [
    {
     "data": {
      "text/plain": [
       "array([[13151,     4,   167],\n",
       "       [  256,    90,   311],\n",
       "       [  820,    49,   404]], dtype=int64)"
      ]
     },
     "execution_count": 24,
     "metadata": {},
     "output_type": "execute_result"
    }
   ],
   "source": [
    "# 1. Import the estimator object (model)\n",
    "from sklearn.ensemble import BaggingClassifier\n",
    "\n",
    "# 2. Create an instance of the estimator\n",
    "log_reg_for_bagging = LogisticRegression()\n",
    "bagging = BaggingClassifier(base_estimator=log_reg_for_bagging, n_estimators=10,\n",
    "                            random_state=55, n_jobs=-1)\n",
    "\n",
    "# 3. Use the trainning data to train the estimator\n",
    "bagging.fit(X_train, y_train)\n",
    "\n",
    "# 4. Evaluate the model\n",
    "y_pred_bagging = bagging.predict(X_test)\n",
    "\n",
    "\n",
    "from sklearn.metrics import confusion_matrix\n",
    "\n",
    "confusion_matrix = confusion_matrix(y_test, y_pred_bagging)\n",
    "confusion_matrix"
   ]
  },
  {
   "cell_type": "code",
   "execution_count": 25,
   "id": "scenic-description",
   "metadata": {},
   "outputs": [
    {
     "name": "stdout",
     "output_type": "stream",
     "text": [
      "0.8946367689483347\n"
     ]
    }
   ],
   "source": [
    "print(accuracy_score(y_test, y_pred_bagging))"
   ]
  },
  {
   "cell_type": "code",
   "execution_count": 26,
   "id": "mature-style",
   "metadata": {},
   "outputs": [
    {
     "name": "stdout",
     "output_type": "stream",
     "text": [
      "              precision    recall  f1-score   support\n",
      "\n",
      "           0       0.92      0.99      0.95     13322\n",
      "           1       0.63      0.14      0.22       657\n",
      "           2       0.46      0.32      0.37      1273\n",
      "\n",
      "    accuracy                           0.89     15252\n",
      "   macro avg       0.67      0.48      0.52     15252\n",
      "weighted avg       0.87      0.89      0.87     15252\n",
      "\n"
     ]
    }
   ],
   "source": [
    "# Let's check the evaluation metrics of our default model\n",
    "\n",
    "# Importing classification report and confusion matrix from sklearn metrics\n",
    "from sklearn.metrics import classification_report, confusion_matrix, accuracy_score\n",
    "\n",
    "# Making predictions\n",
    "y_pred_bagging = bagging.predict(X_test)\n",
    "\n",
    "# Printing classification report\n",
    "print(classification_report(y_test, y_pred_bagging))"
   ]
  },
  {
   "cell_type": "code",
   "execution_count": 27,
   "id": "bacterial-bread",
   "metadata": {},
   "outputs": [
    {
     "name": "stdout",
     "output_type": "stream",
     "text": [
      "[[0.95155507 0.00952713 0.0389178 ]\n",
      " [0.97466703 0.00439825 0.02093472]\n",
      " [0.96055368 0.00781988 0.03162644]\n",
      " ...\n",
      " [0.97281812 0.00506166 0.02212022]\n",
      " [0.96871016 0.00586    0.02542983]\n",
      " [0.9614036  0.00746983 0.03112657]]\n"
     ]
    }
   ],
   "source": [
    "# predict probabilities\n",
    "y_pred_proba =bagging.predict_proba(X_test)\n",
    "print(y_pred_proba)"
   ]
  },
  {
   "cell_type": "code",
   "execution_count": 28,
   "id": "bibliographic-denmark",
   "metadata": {},
   "outputs": [],
   "source": [
    "\n",
    "# 4. Evaluate the model\n",
    "y_pred_bagging = bagging.predict(X_test)\n",
    "metrics.loc['accuracy','Bagging'] = accuracy_score(y_pred_bagging, y_test)\n",
    "metrics.loc['precision','Bagging'] = precision_score(y_pred_bagging, y_test, average='micro')\n",
    "metrics.loc['recall','Bagging'] = recall_score(y_pred_bagging, y_test,  average= 'micro')"
   ]
  },
  {
   "cell_type": "markdown",
   "id": "special-pillow",
   "metadata": {},
   "source": [
    "# Random Forest"
   ]
  },
  {
   "cell_type": "code",
   "execution_count": 29,
   "id": "disturbed-medium",
   "metadata": {},
   "outputs": [
    {
     "data": {
      "text/plain": [
       "array([[13142,     8,   172],\n",
       "       [   35,   507,   115],\n",
       "       [  212,    89,   972]], dtype=int64)"
      ]
     },
     "execution_count": 29,
     "metadata": {},
     "output_type": "execute_result"
    }
   ],
   "source": [
    "# 1. Import the estimator object (model)\n",
    "from sklearn.ensemble import RandomForestClassifier\n",
    "\n",
    "# 2. Create an instance of the estimator\n",
    "RF = RandomForestClassifier(n_estimators=35, max_depth=20, random_state=55, max_features='sqrt',\n",
    "                            n_jobs=-1)\n",
    "\n",
    "# 3. Use the trainning data to train the estimator\n",
    "RF.fit(X_train, y_train)\n",
    "\n",
    "# 4. Evaluate the model\n",
    "y_pred_RF = RF.predict(X_test)\n",
    "\n",
    "\n",
    "from sklearn.metrics import confusion_matrix\n",
    "\n",
    "confusion_matrix = confusion_matrix(y_test, y_pred_RF)\n",
    "confusion_matrix"
   ]
  },
  {
   "cell_type": "code",
   "execution_count": 30,
   "id": "everyday-holiday",
   "metadata": {},
   "outputs": [
    {
     "name": "stdout",
     "output_type": "stream",
     "text": [
      "0.9586283766063467\n"
     ]
    }
   ],
   "source": [
    "print(accuracy_score(y_test, y_pred_RF))"
   ]
  },
  {
   "cell_type": "code",
   "execution_count": 31,
   "id": "casual-duplicate",
   "metadata": {},
   "outputs": [
    {
     "name": "stdout",
     "output_type": "stream",
     "text": [
      "              precision    recall  f1-score   support\n",
      "\n",
      "           0       0.98      0.99      0.98     13322\n",
      "           1       0.84      0.77      0.80       657\n",
      "           2       0.77      0.76      0.77      1273\n",
      "\n",
      "    accuracy                           0.96     15252\n",
      "   macro avg       0.86      0.84      0.85     15252\n",
      "weighted avg       0.96      0.96      0.96     15252\n",
      "\n"
     ]
    }
   ],
   "source": [
    "# Let's check the evaluation metrics of our default model\n",
    "\n",
    "# Importing classification report and confusion matrix from sklearn metrics\n",
    "from sklearn.metrics import classification_report, confusion_matrix, accuracy_score\n",
    "\n",
    "# Making predictions\n",
    "y_pred_RF = RF.predict(X_test)\n",
    "\n",
    "# Printing classification report\n",
    "print(classification_report(y_test, y_pred_RF))"
   ]
  },
  {
   "cell_type": "code",
   "execution_count": 32,
   "id": "historic-traveler",
   "metadata": {},
   "outputs": [
    {
     "name": "stdout",
     "output_type": "stream",
     "text": [
      "[[9.99694771e-01 1.45108832e-04 1.60120090e-04]\n",
      " [1.00000000e+00 0.00000000e+00 0.00000000e+00]\n",
      " [9.99858557e-01 2.59792743e-05 1.15463441e-04]\n",
      " ...\n",
      " [9.99781649e-01 2.59792743e-05 1.92371728e-04]\n",
      " [9.99469742e-01 1.71088106e-04 3.59170158e-04]\n",
      " [9.97809518e-01 3.40501350e-04 1.84998054e-03]]\n"
     ]
    }
   ],
   "source": [
    "# predict probabilities\n",
    "y_pred_proba =RF.predict_proba(X_test)\n",
    "print(y_pred_proba)"
   ]
  },
  {
   "cell_type": "code",
   "execution_count": 33,
   "id": "obvious-citizen",
   "metadata": {},
   "outputs": [],
   "source": [
    "\n",
    "# 4. Evaluate the model\n",
    "y_pred_RF = RF.predict(X_test)\n",
    "metrics.loc['accuracy','RandomForest'] = accuracy_score(y_pred_RF, y_test)\n",
    "metrics.loc['precision','RandomForest'] = precision_score(y_pred_RF, y_test, average='micro')\n",
    "metrics.loc['recall','RandomForest'] = recall_score(y_pred_RF, y_test,  average= 'micro')"
   ]
  },
  {
   "cell_type": "markdown",
   "id": "dramatic-vienna",
   "metadata": {},
   "source": [
    "# Boosting model"
   ]
  },
  {
   "cell_type": "code",
   "execution_count": 34,
   "id": "vital-newark",
   "metadata": {},
   "outputs": [
    {
     "data": {
      "text/plain": [
       "array([[13203,     5,   114],\n",
       "       [  282,    90,   285],\n",
       "       [  882,    51,   340]], dtype=int64)"
      ]
     },
     "execution_count": 34,
     "metadata": {},
     "output_type": "execute_result"
    }
   ],
   "source": [
    "# 1. Import the estimator object (model)\n",
    "from sklearn.ensemble import AdaBoostClassifier\n",
    "\n",
    "# 2. Create an instance of the estimator\n",
    "boosting = AdaBoostClassifier(n_estimators=50, learning_rate=0.1, random_state=55)    \n",
    "\n",
    "# 3. Use the trainning data to train the estimator\n",
    "boosting.fit(X_train, y_train)\n",
    "\n",
    "# 4. Evaluate the model\n",
    "y_pred_boosting = boosting.predict(X_test)\n",
    "\n",
    "\n",
    "from sklearn.metrics import confusion_matrix\n",
    "\n",
    "confusion_matrix = confusion_matrix(y_test, y_pred_boosting)\n",
    "confusion_matrix"
   ]
  },
  {
   "cell_type": "code",
   "execution_count": 35,
   "id": "seeing-child",
   "metadata": {},
   "outputs": [
    {
     "name": "stdout",
     "output_type": "stream",
     "text": [
      "0.8938499868869656\n"
     ]
    }
   ],
   "source": [
    "print(accuracy_score(y_test, y_pred_boosting))"
   ]
  },
  {
   "cell_type": "code",
   "execution_count": 36,
   "id": "million-angola",
   "metadata": {},
   "outputs": [
    {
     "name": "stdout",
     "output_type": "stream",
     "text": [
      "              precision    recall  f1-score   support\n",
      "\n",
      "           0       0.92      0.99      0.95     13322\n",
      "           1       0.62      0.14      0.22       657\n",
      "           2       0.46      0.27      0.34      1273\n",
      "\n",
      "    accuracy                           0.89     15252\n",
      "   macro avg       0.67      0.47      0.51     15252\n",
      "weighted avg       0.87      0.89      0.87     15252\n",
      "\n"
     ]
    }
   ],
   "source": [
    "# Let's check the evaluation metrics of our default model\n",
    "\n",
    "# Importing classification report and confusion matrix from sklearn metrics\n",
    "from sklearn.metrics import classification_report, confusion_matrix, accuracy_score\n",
    "\n",
    "# Making predictions\n",
    "y_pred_boosting = boosting.predict(X_test)\n",
    "\n",
    "# Printing classification report\n",
    "print(classification_report(y_test, y_pred_boosting))"
   ]
  },
  {
   "cell_type": "code",
   "execution_count": 37,
   "id": "known-giving",
   "metadata": {},
   "outputs": [],
   "source": [
    "\n",
    "# 4. Evaluate the model\n",
    "y_pred_boosting = boosting.predict(X_test)\n",
    "metrics.loc['accuracy','Boosting'] = accuracy_score(y_pred_boosting, y_test)\n",
    "metrics.loc['precision','Boosting'] = precision_score(y_pred_boosting, y_test, average='micro')\n",
    "metrics.loc['recall','Boosting'] = recall_score(y_pred_boosting, y_test,  average= 'micro')"
   ]
  },
  {
   "cell_type": "markdown",
   "id": "ruled-pregnancy",
   "metadata": {},
   "source": [
    "# Decision Tree"
   ]
  },
  {
   "cell_type": "code",
   "execution_count": 38,
   "id": "devoted-austria",
   "metadata": {},
   "outputs": [],
   "source": [
    "# Importing decision tree classifier from sklearn library\n",
    "from sklearn.tree import DecisionTreeClassifier\n",
    "\n",
    "# Fitting the decision tree with default hyperparameters, apart from\n",
    "# max_depth which is 5 so that we can plot and read the tree.\n",
    "DT = DecisionTreeClassifier(max_depth=5)\n",
    "DT.fit(X_train, y_train)\n",
    "\n",
    "#Evaluate the model\n",
    "y_pred_DT = DT.predict(X_test)"
   ]
  },
  {
   "cell_type": "code",
   "execution_count": 39,
   "id": "annual-universe",
   "metadata": {},
   "outputs": [
    {
     "name": "stdout",
     "output_type": "stream",
     "text": [
      "0.8989640702858641\n"
     ]
    }
   ],
   "source": [
    "print(accuracy_score(y_test, y_pred_DT))"
   ]
  },
  {
   "cell_type": "code",
   "execution_count": 40,
   "id": "prime-upper",
   "metadata": {},
   "outputs": [
    {
     "name": "stdout",
     "output_type": "stream",
     "text": [
      "              precision    recall  f1-score   support\n",
      "\n",
      "           0       0.94      0.97      0.96     13322\n",
      "           1       0.63      0.25      0.35       657\n",
      "           2       0.49      0.47      0.48      1273\n",
      "\n",
      "    accuracy                           0.90     15252\n",
      "   macro avg       0.69      0.56      0.60     15252\n",
      "weighted avg       0.89      0.90      0.89     15252\n",
      "\n"
     ]
    }
   ],
   "source": [
    "# Let's check the evaluation metrics of our default model\n",
    "\n",
    "# Importing classification report and confusion matrix from sklearn metrics\n",
    "from sklearn.metrics import classification_report, confusion_matrix, accuracy_score\n",
    "\n",
    "# Making predictions\n",
    "y_pred_DT = DT.predict(X_test)\n",
    "\n",
    "# Printing classification report\n",
    "print(classification_report(y_test, y_pred_DT))"
   ]
  },
  {
   "cell_type": "code",
   "execution_count": 41,
   "id": "prime-preliminary",
   "metadata": {},
   "outputs": [
    {
     "name": "stdout",
     "output_type": "stream",
     "text": [
      "[[12946     3   373]\n",
      " [  232   161   264]\n",
      " [  579    90   604]]\n",
      "0.8989640702858641\n"
     ]
    }
   ],
   "source": [
    "# Printing confusion matrix and accuracy\n",
    "print(confusion_matrix(y_test,y_pred_DT))\n",
    "print(accuracy_score(y_test,y_pred_DT))"
   ]
  },
  {
   "cell_type": "code",
   "execution_count": 42,
   "id": "applicable-aerospace",
   "metadata": {},
   "outputs": [],
   "source": [
    "\n",
    "# 4. Evaluate the model\n",
    "y_pred_DT = logistic_regression.predict(X_test)\n",
    "metrics.loc['accuracy','DecisionTree'] = accuracy_score(y_pred_DT, y_test)\n",
    "metrics.loc['precision','DecisionTree'] = precision_score(y_pred_DT, y_test, average='micro')\n",
    "metrics.loc['recall','DecisionTree'] = recall_score(y_pred_DT, y_test,  average= 'micro')"
   ]
  },
  {
   "cell_type": "markdown",
   "id": "identical-intervention",
   "metadata": {},
   "source": [
    "# Mulitlayer Perceptron"
   ]
  },
  {
   "cell_type": "code",
   "execution_count": 43,
   "id": "dated-wayne",
   "metadata": {},
   "outputs": [],
   "source": [
    "mlp = MLPClassifier(hidden_layer_sizes = (30,30,30))"
   ]
  },
  {
   "cell_type": "code",
   "execution_count": 44,
   "id": "friendly-pregnancy",
   "metadata": {},
   "outputs": [
    {
     "name": "stderr",
     "output_type": "stream",
     "text": [
      "c:\\users\\31950627\\keras\\lib\\site-packages\\sklearn\\neural_network\\_multilayer_perceptron.py:614: ConvergenceWarning: Stochastic Optimizer: Maximum iterations (200) reached and the optimization hasn't converged yet.\n",
      "  warnings.warn(\n"
     ]
    },
    {
     "data": {
      "text/plain": [
       "MLPClassifier(hidden_layer_sizes=(30, 30, 30))"
      ]
     },
     "execution_count": 44,
     "metadata": {},
     "output_type": "execute_result"
    }
   ],
   "source": [
    "mlp.fit(X_train, y_train)"
   ]
  },
  {
   "cell_type": "code",
   "execution_count": 45,
   "id": "reliable-nelson",
   "metadata": {},
   "outputs": [],
   "source": [
    "#predict video frame classification\n",
    "Y_pred = mlp.predict(X_test)"
   ]
  },
  {
   "cell_type": "code",
   "execution_count": 46,
   "id": "committed-jewelry",
   "metadata": {},
   "outputs": [
    {
     "data": {
      "text/plain": [
       "array([[13156,     3,   163],\n",
       "       [  236,   171,   250],\n",
       "       [  706,    42,   525]], dtype=int64)"
      ]
     },
     "execution_count": 46,
     "metadata": {},
     "output_type": "execute_result"
    }
   ],
   "source": [
    "from sklearn.metrics import confusion_matrix\n",
    "\n",
    "confusion_matrix = confusion_matrix(y_test, Y_pred)\n",
    "confusion_matrix"
   ]
  },
  {
   "cell_type": "code",
   "execution_count": 47,
   "id": "considered-richards",
   "metadata": {},
   "outputs": [
    {
     "name": "stdout",
     "output_type": "stream",
     "text": [
      "0.9082087595069499\n"
     ]
    }
   ],
   "source": [
    "print(accuracy_score(y_test, Y_pred))"
   ]
  },
  {
   "cell_type": "code",
   "execution_count": 48,
   "id": "smart-province",
   "metadata": {},
   "outputs": [
    {
     "name": "stdout",
     "output_type": "stream",
     "text": [
      "              precision    recall  f1-score   support\n",
      "\n",
      "           0       0.93      0.99      0.96     13322\n",
      "           1       0.79      0.26      0.39       657\n",
      "           2       0.56      0.41      0.47      1273\n",
      "\n",
      "    accuracy                           0.91     15252\n",
      "   macro avg       0.76      0.55      0.61     15252\n",
      "weighted avg       0.90      0.91      0.89     15252\n",
      "\n"
     ]
    }
   ],
   "source": [
    "# Let's check the evaluation metrics of our default model\n",
    "\n",
    "# Importing classification report and confusion matrix from sklearn metrics\n",
    "from sklearn.metrics import classification_report, confusion_matrix, accuracy_score\n",
    "\n",
    "# Making predictions\n",
    "y_pred_mlp = mlp.predict(X_test)\n",
    "\n",
    "# Printing classification report\n",
    "print(classification_report(y_test, y_pred_mlp))"
   ]
  },
  {
   "cell_type": "code",
   "execution_count": 49,
   "id": "decreased-marketing",
   "metadata": {},
   "outputs": [],
   "source": [
    "\n",
    "# 4. Evaluate the model\n",
    "y_pred_mlp = mlp.predict(X_test)\n",
    "metrics.loc['accuracy','Multilayer_Perceptron'] = accuracy_score(y_pred_mlp, y_test)\n",
    "metrics.loc['precision','Multilayer_Perceptron'] = precision_score(y_pred_mlp, y_test, average='micro')\n",
    "metrics.loc['recall','Multilayer_Perceptron'] = recall_score(y_pred_mlp, y_test,  average= 'micro')"
   ]
  },
  {
   "cell_type": "code",
   "execution_count": 50,
   "id": "severe-completion",
   "metadata": {},
   "outputs": [
    {
     "data": {
      "text/html": [
       "<div>\n",
       "<style scoped>\n",
       "    .dataframe tbody tr th:only-of-type {\n",
       "        vertical-align: middle;\n",
       "    }\n",
       "\n",
       "    .dataframe tbody tr th {\n",
       "        vertical-align: top;\n",
       "    }\n",
       "\n",
       "    .dataframe thead th {\n",
       "        text-align: right;\n",
       "    }\n",
       "</style>\n",
       "<table border=\"1\" class=\"dataframe\">\n",
       "  <thead>\n",
       "    <tr style=\"text-align: right;\">\n",
       "      <th></th>\n",
       "      <th>LogisticReg</th>\n",
       "      <th>Bagging</th>\n",
       "      <th>RandomForest</th>\n",
       "      <th>Boosting</th>\n",
       "      <th>DecisionTree</th>\n",
       "      <th>Multilayer_Perceptron</th>\n",
       "    </tr>\n",
       "  </thead>\n",
       "  <tbody>\n",
       "    <tr>\n",
       "      <th>accuracy</th>\n",
       "      <td>89.463677</td>\n",
       "      <td>89.463677</td>\n",
       "      <td>95.862838</td>\n",
       "      <td>89.384999</td>\n",
       "      <td>89.463677</td>\n",
       "      <td>90.820876</td>\n",
       "    </tr>\n",
       "    <tr>\n",
       "      <th>precision</th>\n",
       "      <td>89.463677</td>\n",
       "      <td>89.463677</td>\n",
       "      <td>95.862838</td>\n",
       "      <td>89.384999</td>\n",
       "      <td>89.463677</td>\n",
       "      <td>90.820876</td>\n",
       "    </tr>\n",
       "    <tr>\n",
       "      <th>recall</th>\n",
       "      <td>89.463677</td>\n",
       "      <td>89.463677</td>\n",
       "      <td>95.862838</td>\n",
       "      <td>89.384999</td>\n",
       "      <td>89.463677</td>\n",
       "      <td>90.820876</td>\n",
       "    </tr>\n",
       "  </tbody>\n",
       "</table>\n",
       "</div>"
      ],
      "text/plain": [
       "          LogisticReg    Bagging RandomForest   Boosting DecisionTree  \\\n",
       "accuracy    89.463677  89.463677    95.862838  89.384999    89.463677   \n",
       "precision   89.463677  89.463677    95.862838  89.384999    89.463677   \n",
       "recall      89.463677  89.463677    95.862838  89.384999    89.463677   \n",
       "\n",
       "          Multilayer_Perceptron  \n",
       "accuracy              90.820876  \n",
       "precision             90.820876  \n",
       "recall                90.820876  "
      ]
     },
     "execution_count": 50,
     "metadata": {},
     "output_type": "execute_result"
    }
   ],
   "source": [
    "100*metrics"
   ]
  },
  {
   "cell_type": "code",
   "execution_count": 51,
   "id": "executed-replacement",
   "metadata": {},
   "outputs": [
    {
     "data": {
      "image/png": "[encoded data removed]",
      "text/plain": [
       "<Figure size 576x360 with 1 Axes>"
      ]
     },
     "metadata": {
      "needs_background": "light"
     },
     "output_type": "display_data"
    }
   ],
   "source": [
    "fig, ax = plt.subplots(figsize=(8,5))\n",
    "metrics.plot(kind='barh', ax=ax)\n",
    "ax.grid();\n",
    "ax.set_title('Classification report')\n",
    "ax.set_xlabel('Percentage')\n",
    "ax.set_ylabel('Performance');"
   ]
  },
  {
   "cell_type": "code",
   "execution_count": null,
   "id": "worst-terrace",
   "metadata": {},
   "outputs": [],
   "source": []
  },
  {
   "cell_type": "code",
   "execution_count": null,
   "id": "massive-fifth",
   "metadata": {},
   "outputs": [],
   "source": []
  },
  {
   "cell_type": "markdown",
   "id": "liable-challenge",
   "metadata": {},
   "source": [
    "# Best performing model - Random Forest model"
   ]
  },
  {
   "cell_type": "code",
   "execution_count": 52,
   "id": "pursuant-split",
   "metadata": {},
   "outputs": [],
   "source": [
    "\n",
    "# 4. Evaluate the model\n",
    "y_pred_RF = RF.predict(X_test)"
   ]
  },
  {
   "cell_type": "code",
   "execution_count": 53,
   "id": "gTnlG7C8QbS0",
   "metadata": {
    "executionInfo": {
     "elapsed": 878,
     "status": "ok",
     "timestamp": 1629625679109,
     "user": {
      "displayName": "Ali Hamza",
      "photoUrl": "https://lh3.googleusercontent.com/a-/AOh14GgTtc9bErtsdwKu3TR6igekmFPdDVDvs6sUKQoyCQ=s64",
      "userId": "04189544690877235856"
     },
     "user_tz": -300
    },
    "id": "gTnlG7C8QbS0"
   },
   "outputs": [],
   "source": [
    "X_test=scaler.inverse_transform(X_test)"
   ]
  },
  {
   "cell_type": "code",
   "execution_count": 54,
   "id": "dress-briefing",
   "metadata": {
    "executionInfo": {
     "elapsed": 359,
     "status": "ok",
     "timestamp": 1629625690766,
     "user": {
      "displayName": "Ali Hamza",
      "photoUrl": "https://lh3.googleusercontent.com/a-/AOh14GgTtc9bErtsdwKu3TR6igekmFPdDVDvs6sUKQoyCQ=s64",
      "userId": "04189544690877235856"
     },
     "user_tz": -300
    },
    "id": "dress-briefing"
   },
   "outputs": [],
   "source": [
    "class_0=[]\n",
    "class_1=[]\n",
    "class_2=[]"
   ]
  },
  {
   "cell_type": "code",
   "execution_count": 55,
   "id": "polar-genetics",
   "metadata": {
    "executionInfo": {
     "elapsed": 8,
     "status": "ok",
     "timestamp": 1629625692410,
     "user": {
      "displayName": "Ali Hamza",
      "photoUrl": "https://lh3.googleusercontent.com/a-/AOh14GgTtc9bErtsdwKu3TR6igekmFPdDVDvs6sUKQoyCQ=s64",
      "userId": "04189544690877235856"
     },
     "user_tz": -300
    },
    "id": "polar-genetics"
   },
   "outputs": [],
   "source": [
    "for x,p in zip(X_test,y_pred_RF):\n",
    "  if p==0:\n",
    "    class_0.append(x[1])\n",
    "  elif p==1:\n",
    "    class_1.append(x[1])\n",
    "  else:\n",
    "    class_2.append(x[1])"
   ]
  },
  {
   "cell_type": "code",
   "execution_count": 56,
   "id": "hazardous-teacher",
   "metadata": {
    "colab": {
     "base_uri": "https://localhost:8080/"
    },
    "executionInfo": {
     "elapsed": 17,
     "status": "ok",
     "timestamp": 1629625693839,
     "user": {
      "displayName": "Ali Hamza",
      "photoUrl": "https://lh3.googleusercontent.com/a-/AOh14GgTtc9bErtsdwKu3TR6igekmFPdDVDvs6sUKQoyCQ=s64",
      "userId": "04189544690877235856"
     },
     "user_tz": -300
    },
    "id": "hazardous-teacher",
    "outputId": "b89e6de8-cc3c-4e2e-cfc3-6891ae7d9dfb"
   },
   "outputs": [
    {
     "name": "stdout",
     "output_type": "stream",
     "text": [
      "13389\n",
      "604\n",
      "1259\n"
     ]
    }
   ],
   "source": [
    "print(len(class_0))\n",
    "print(len(class_1))\n",
    "print(len(class_2))"
   ]
  },
  {
   "cell_type": "code",
   "execution_count": 57,
   "id": "orFBVF8-DefD",
   "metadata": {
    "executionInfo": {
     "elapsed": 9,
     "status": "ok",
     "timestamp": 1629625695209,
     "user": {
      "displayName": "Ali Hamza",
      "photoUrl": "https://lh3.googleusercontent.com/a-/AOh14GgTtc9bErtsdwKu3TR6igekmFPdDVDvs6sUKQoyCQ=s64",
      "userId": "04189544690877235856"
     },
     "user_tz": -300
    },
    "id": "orFBVF8-DefD"
   },
   "outputs": [],
   "source": [
    "df0=pd.DataFrame(class_0, columns =['class0_frameSize'])\n",
    "df1=pd.DataFrame(class_1, columns =['class1_frameSize'])\n",
    "df2=pd.DataFrame(class_2, columns =['class2_frameSize'])"
   ]
  },
  {
   "cell_type": "code",
   "execution_count": 58,
   "id": "behind-serve",
   "metadata": {
    "colab": {
     "base_uri": "https://localhost:8080/",
     "height": 35
    },
    "executionInfo": {
     "elapsed": 22,
     "status": "ok",
     "timestamp": 1629625696701,
     "user": {
      "displayName": "Ali Hamza",
      "photoUrl": "https://lh3.googleusercontent.com/a-/AOh14GgTtc9bErtsdwKu3TR6igekmFPdDVDvs6sUKQoyCQ=s64",
      "userId": "04189544690877235856"
     },
     "user_tz": -300
    },
    "id": "behind-serve",
    "outputId": "192ec843-035a-4449-d2b5-159ea232c8d5"
   },
   "outputs": [
    {
     "data": {
      "text/plain": [
       "'\\nmean_test = np.mean(test.frame_size)\\nprint(mean_test)\\npeak_frame_test = np.max(LR_test.frame_size)\\nprint(peak_frame_test)\\ntotal_LR = np.sum(test)\\nprint(total_test)\\n'"
      ]
     },
     "execution_count": 58,
     "metadata": {},
     "output_type": "execute_result"
    }
   ],
   "source": [
    "\"\"\"\n",
    "mean_test = np.mean(test.frame_size)\n",
    "print(mean_test)\n",
    "peak_frame_test = np.max(LR_test.frame_size)\n",
    "print(peak_frame_test)\n",
    "total_LR = np.sum(test)\n",
    "print(total_test)\n",
    "\"\"\""
   ]
  },
  {
   "cell_type": "code",
   "execution_count": 59,
   "id": "political-boost",
   "metadata": {
    "executionInfo": {
     "elapsed": 7,
     "status": "ok",
     "timestamp": 1629625697101,
     "user": {
      "displayName": "Ali Hamza",
      "photoUrl": "https://lh3.googleusercontent.com/a-/AOh14GgTtc9bErtsdwKu3TR6igekmFPdDVDvs6sUKQoyCQ=s64",
      "userId": "04189544690877235856"
     },
     "user_tz": -300
    },
    "id": "political-boost"
   },
   "outputs": [],
   "source": [
    "#test.shape[0]"
   ]
  },
  {
   "cell_type": "code",
   "execution_count": 60,
   "id": "nuclear-mineral",
   "metadata": {
    "executionInfo": {
     "elapsed": 6,
     "status": "ok",
     "timestamp": 1629625697464,
     "user": {
      "displayName": "Ali Hamza",
      "photoUrl": "https://lh3.googleusercontent.com/a-/AOh14GgTtc9bErtsdwKu3TR6igekmFPdDVDvs6sUKQoyCQ=s64",
      "userId": "04189544690877235856"
     },
     "user_tz": -300
    },
    "id": "nuclear-mineral"
   },
   "outputs": [],
   "source": [
    "def mean_max_sum(x):\n",
    "  \"\"\"\n",
    "  x is frameSize series\n",
    "  \"\"\"\n",
    "  mean_test = np.mean(x)\n",
    "  print(mean_test)\n",
    "  peak_frame_test = np.max(x)\n",
    "  print(peak_frame_test)\n",
    "  total_test = np.sum(x)\n",
    "  print(total_test)\n",
    "  return mean_test,peak_frame_test,total_test"
   ]
  },
  {
   "cell_type": "code",
   "execution_count": 61,
   "id": "impaired-alcohol",
   "metadata": {
    "executionInfo": {
     "elapsed": 9,
     "status": "ok",
     "timestamp": 1629625698749,
     "user": {
      "displayName": "Ali Hamza",
      "photoUrl": "https://lh3.googleusercontent.com/a-/AOh14GgTtc9bErtsdwKu3TR6igekmFPdDVDvs6sUKQoyCQ=s64",
      "userId": "04189544690877235856"
     },
     "user_tz": -300
    },
    "id": "impaired-alcohol"
   },
   "outputs": [],
   "source": [
    "def bucket_algo(df,frameSize,mean_test,peak_frame_test,total_test):\n",
    "  \"\"\"\n",
    "  df is dataframe for frame size of every class\n",
    "  frameSize is column of input df, this argument should be str type\n",
    "  \"\"\"\n",
    "  for m in range(20):\n",
    "      byte_sent = 0\n",
    "      deleted_bytes = 0\n",
    "      bucket_size = 0\n",
    "      marked_bytes = 0\n",
    "      j = 0\n",
    "      l = 0\n",
    "      max_bucket_size = m * peak_frame_test\n",
    "      \n",
    "      for i in range(df.shape[0]):\n",
    "          #print(i)\n",
    "          bucket_size += mean_test\n",
    "          if bucket_size > max_bucket_size:\n",
    "              bucket_size = max_bucket_size\n",
    "              l += 1\n",
    "          \n",
    "          if df.loc[i, frameSize] <= bucket_size:\n",
    "              byte_sent += df.loc[i, frameSize]\n",
    "              bucket_size = (bucket_size - df.loc[i, frameSize])\n",
    "              \n",
    "          else:\n",
    "              byte_sent += bucket_size\n",
    "              marked_bytes += (df.loc[i, frameSize] - bucket_size)\n",
    "              bucket_size = 0\n",
    "              \n",
    "      percent = marked_bytes * 100 / total_test\n",
    "      print(percent)"
   ]
  },
  {
   "cell_type": "code",
   "execution_count": 62,
   "id": "H5x1nfjZLmZN",
   "metadata": {
    "colab": {
     "base_uri": "https://localhost:8080/"
    },
    "executionInfo": {
     "elapsed": 391,
     "status": "ok",
     "timestamp": 1629625699705,
     "user": {
      "displayName": "Ali Hamza",
      "photoUrl": "https://lh3.googleusercontent.com/a-/AOh14GgTtc9bErtsdwKu3TR6igekmFPdDVDvs6sUKQoyCQ=s64",
      "userId": "04189544690877235856"
     },
     "user_tz": -300
    },
    "id": "H5x1nfjZLmZN",
    "outputId": "0c900a76-d872-45d3-e068-9005440c169c"
   },
   "outputs": [
    {
     "name": "stdout",
     "output_type": "stream",
     "text": [
      "1263.8587677750393\n",
      "2541.58333\n",
      "16921805.04174\n"
     ]
    }
   ],
   "source": [
    "class0_mean,class0_peakframe,class0_total=mean_max_sum(df0.class0_frameSize)"
   ]
  },
  {
   "cell_type": "code",
   "execution_count": 63,
   "id": "objective-tobacco",
   "metadata": {
    "colab": {
     "base_uri": "https://localhost:8080/"
    },
    "executionInfo": {
     "elapsed": 5263,
     "status": "ok",
     "timestamp": 1629625706598,
     "user": {
      "displayName": "Ali Hamza",
      "photoUrl": "https://lh3.googleusercontent.com/a-/AOh14GgTtc9bErtsdwKu3TR6igekmFPdDVDvs6sUKQoyCQ=s64",
      "userId": "04189544690877235856"
     },
     "user_tz": -300
    },
    "id": "objective-tobacco",
    "outputId": "3f4beaf3-39f8-48b4-8a8d-53bec3b7a722"
   },
   "outputs": [
    {
     "name": "stdout",
     "output_type": "stream",
     "text": [
      "99.99999999999993\n",
      "10.470613526327861\n",
      "4.730135288039848\n",
      "3.1600286941465234\n",
      "2.3705883787386073\n",
      "1.9598610399396534\n",
      "1.7069200058959064\n",
      "1.5380882767572688\n",
      "1.415204745277701\n",
      "1.31006771488339\n",
      "1.2049306844890777\n",
      "1.1108643503046067\n",
      "1.0357664714515247\n",
      "0.9788626619891371\n",
      "0.9454134993765662\n",
      "0.9153743478353333\n",
      "0.8853351962941005\n",
      "0.8552960447528679\n",
      "0.8252568932116358\n",
      "0.7952177416704043\n"
     ]
    }
   ],
   "source": [
    "# for class_0 \n",
    "#bucket_algo\n",
    "bucket_algo(df0,\"class0_frameSize\",class0_mean,class0_peakframe,class0_total)"
   ]
  },
  {
   "cell_type": "code",
   "execution_count": 64,
   "id": "Q21HsiKaNG08",
   "metadata": {
    "colab": {
     "base_uri": "https://localhost:8080/"
    },
    "executionInfo": {
     "elapsed": 39,
     "status": "ok",
     "timestamp": 1629625706601,
     "user": {
      "displayName": "Ali Hamza",
      "photoUrl": "https://lh3.googleusercontent.com/a-/AOh14GgTtc9bErtsdwKu3TR6igekmFPdDVDvs6sUKQoyCQ=s64",
      "userId": "04189544690877235856"
     },
     "user_tz": -300
    },
    "id": "Q21HsiKaNG08",
    "outputId": "b8be73a6-b025-430b-f287-9edb64237528"
   },
   "outputs": [
    {
     "name": "stdout",
     "output_type": "stream",
     "text": [
      "1263.8875551986755\n",
      "2540.0\n",
      "763388.08334\n"
     ]
    }
   ],
   "source": [
    "class1_mean,class1_peakframe,class1_total=mean_max_sum(df1.class1_frameSize)"
   ]
  },
  {
   "cell_type": "code",
   "execution_count": 65,
   "id": "occupational-courage",
   "metadata": {
    "colab": {
     "base_uri": "https://localhost:8080/"
    },
    "executionInfo": {
     "elapsed": 520,
     "status": "ok",
     "timestamp": 1629625710356,
     "user": {
      "displayName": "Ali Hamza",
      "photoUrl": "https://lh3.googleusercontent.com/a-/AOh14GgTtc9bErtsdwKu3TR6igekmFPdDVDvs6sUKQoyCQ=s64",
      "userId": "04189544690877235856"
     },
     "user_tz": -300
    },
    "id": "occupational-courage",
    "outputId": "e4c68633-684f-4741-bb4d-3bd3cda51c10"
   },
   "outputs": [
    {
     "name": "stdout",
     "output_type": "stream",
     "text": [
      "99.99999999999999\n",
      "9.967187750931481\n",
      "3.974920300249974\n",
      "2.278604589829756\n",
      "1.7365326679448714\n",
      "1.4587612286338292\n",
      "1.4587612286338292\n",
      "1.4587612286338292\n",
      "1.4587612286338292\n",
      "1.4587612286338292\n",
      "1.4587612286338292\n",
      "1.4587612286338292\n",
      "1.4587612286338292\n",
      "1.4587612286338292\n",
      "1.4587612286338292\n",
      "1.4587612286338292\n",
      "1.4587612286338292\n",
      "1.4587612286338292\n",
      "1.4587612286338292\n",
      "1.4587612286338292\n"
     ]
    }
   ],
   "source": [
    "#for class_1\n",
    "# bucket algo\n",
    "bucket_algo(df1,\"class1_frameSize\",class1_mean,class1_peakframe,class1_total)"
   ]
  },
  {
   "cell_type": "code",
   "execution_count": 66,
   "id": "DEvzzbNNNoPW",
   "metadata": {
    "colab": {
     "base_uri": "https://localhost:8080/"
    },
    "executionInfo": {
     "elapsed": 15,
     "status": "ok",
     "timestamp": 1629625712147,
     "user": {
      "displayName": "Ali Hamza",
      "photoUrl": "https://lh3.googleusercontent.com/a-/AOh14GgTtc9bErtsdwKu3TR6igekmFPdDVDvs6sUKQoyCQ=s64",
      "userId": "04189544690877235856"
     },
     "user_tz": -300
    },
    "id": "DEvzzbNNNoPW",
    "outputId": "5fce1b27-6104-48d5-b4ca-1f9a9c03a8c9"
   },
   "outputs": [
    {
     "name": "stdout",
     "output_type": "stream",
     "text": [
      "1257.078369030977\n",
      "2540.33333\n",
      "1582661.66661\n"
     ]
    }
   ],
   "source": [
    "class2_mean,class2_peakframe,class2_total=mean_max_sum(df2.class2_frameSize)"
   ]
  },
  {
   "cell_type": "code",
   "execution_count": 67,
   "id": "Da_eZv2vN47F",
   "metadata": {
    "colab": {
     "base_uri": "https://localhost:8080/"
    },
    "executionInfo": {
     "elapsed": 1374,
     "status": "ok",
     "timestamp": 1629625715262,
     "user": {
      "displayName": "Ali Hamza",
      "photoUrl": "https://lh3.googleusercontent.com/a-/AOh14GgTtc9bErtsdwKu3TR6igekmFPdDVDvs6sUKQoyCQ=s64",
      "userId": "04189544690877235856"
     },
     "user_tz": -300
    },
    "id": "Da_eZv2vN47F",
    "outputId": "aeaca5e5-73fb-4a94-906f-d4f3a13beb2c"
   },
   "outputs": [
    {
     "name": "stdout",
     "output_type": "stream",
     "text": [
      "100.0000000000001\n",
      "10.506653745225403\n",
      "4.3237455554712465\n",
      "2.6525408114333247\n",
      "1.8102170378001563\n",
      "1.168176257109161\n",
      "0.7229546228166172\n",
      "0.6849731074479064\n",
      "0.6849731074479064\n",
      "0.6849731074479064\n",
      "0.6849731074479064\n",
      "0.6849731074479064\n",
      "0.6849731074479064\n",
      "0.6849731074479064\n",
      "0.6849731074479064\n",
      "0.6849731074479064\n",
      "0.6849731074479064\n",
      "0.6849731074479064\n",
      "0.6849731074479064\n",
      "0.6849731074479064\n"
     ]
    }
   ],
   "source": [
    "# for class_2\n",
    "# bucket algo\n",
    "bucket_algo(df2,\"class2_frameSize\",class2_mean,class2_peakframe,class2_total)"
   ]
  },
  {
   "cell_type": "code",
   "execution_count": null,
   "id": "EGHJKy28ONoM",
   "metadata": {
    "executionInfo": {
     "elapsed": 11,
     "status": "ok",
     "timestamp": 1629625715263,
     "user": {
      "displayName": "Ali Hamza",
      "photoUrl": "https://lh3.googleusercontent.com/a-/AOh14GgTtc9bErtsdwKu3TR6igekmFPdDVDvs6sUKQoyCQ=s64",
      "userId": "04189544690877235856"
     },
     "user_tz": -300
    },
    "id": "EGHJKy28ONoM"
   },
   "outputs": [],
   "source": []
  },
  {
   "cell_type": "code",
   "execution_count": null,
   "id": "proud-veteran",
   "metadata": {},
   "outputs": [],
   "source": []
  },
  {
   "cell_type": "code",
   "execution_count": null,
   "id": "crazy-unknown",
   "metadata": {},
   "outputs": [],
   "source": []
  },
  {
   "cell_type": "code",
   "execution_count": null,
   "id": "ambient-clothing",
   "metadata": {},
   "outputs": [],
   "source": []
  }
 ],
 "metadata": {
  "colab": {
   "collapsed_sections": [],
   "name": "Shared Classification code (2).ipynb",
   "provenance": []
  },
  "kernelspec": {
   "display_name": "Python 3",
   "language": "python",
   "name": "python3"
  },
  "language_info": {
   "codemirror_mode": {
    "name": "ipython",
    "version": 3
   },
   "file_extension": ".py",
   "mimetype": "text/x-python",
   "name": "python",
   "nbconvert_exporter": "python",
   "pygments_lexer": "ipython3",
   "version": "3.8.5"
  }
 },
 "nbformat": 4,
 "nbformat_minor": 5
}
