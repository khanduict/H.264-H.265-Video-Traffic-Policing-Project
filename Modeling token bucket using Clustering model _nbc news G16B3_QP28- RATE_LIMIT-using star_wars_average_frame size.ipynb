{
 "cells": [
  {
   "cell_type": "code",
   "execution_count": null,
   "id": "inappropriate-vinyl",
   "metadata": {},
   "outputs": [],
   "source": []
  },
  {
   "cell_type": "code",
   "execution_count": 1,
   "id": "beneficial-colonial",
   "metadata": {},
   "outputs": [],
   "source": [
    "#import keras\n",
    "import tensorflow as tf\n",
    "import numpy as np\n",
    "import pandas as pd\n",
    "from sklearn.preprocessing import LabelEncoder\n",
    "\n",
    "\n",
    "from sklearn.preprocessing import RobustScaler\n",
    "from sklearn.cluster import KMeans\n",
    "\n",
    "import statistics\n",
    "from scipy.stats import norm\n",
    "from scipy import stats\n",
    "import seaborn as sns\n",
    "\n",
    "import matplotlib.pyplot as plt\n",
    "import scipy.stats as st\n",
    "from sklearn.preprocessing import RobustScaler\n",
    "\n",
    "\n",
    "# Importing libraries for clustering analysis\n",
    "\n",
    "import sklearn\n",
    "from sklearn.preprocessing import StandardScaler\n",
    "from sklearn.cluster import KMeans\n",
    "from sklearn.metrics import silhouette_score\n",
    "\n",
    "from scipy.cluster.hierarchy import linkage\n",
    "from scipy.cluster.hierarchy import dendrogram\n",
    "from scipy.cluster.hierarchy import cut_tree"
   ]
  },
  {
   "cell_type": "code",
   "execution_count": 2,
   "id": "intended-princess",
   "metadata": {},
   "outputs": [],
   "source": [
    "#import data\n",
    "data = pd.read_csv(\"../MODELING TOKEN BUCET USING CLUSTERING MODELS/H264-data/nbc_news_G16B3_QP28.csv\",infer_datetime_format=True,\n",
    "                  parse_dates=['arrival_time'], index_col='arrival_time', \n",
    "                   names=['decoded_frame','arrival_time', 'video_frame', \n",
    "                                         'frame_size', 'x', 'y', 'z'])"
   ]
  },
  {
   "cell_type": "code",
   "execution_count": 3,
   "id": "minus-costa",
   "metadata": {},
   "outputs": [
    {
     "data": {
      "text/html": [
       "<div>\n",
       "<style scoped>\n",
       "    .dataframe tbody tr th:only-of-type {\n",
       "        vertical-align: middle;\n",
       "    }\n",
       "\n",
       "    .dataframe tbody tr th {\n",
       "        vertical-align: top;\n",
       "    }\n",
       "\n",
       "    .dataframe thead th {\n",
       "        text-align: right;\n",
       "    }\n",
       "</style>\n",
       "<table border=\"1\" class=\"dataframe\">\n",
       "  <thead>\n",
       "    <tr style=\"text-align: right;\">\n",
       "      <th></th>\n",
       "      <th>decoded_frame</th>\n",
       "      <th>video_frame</th>\n",
       "      <th>frame_size</th>\n",
       "      <th>x</th>\n",
       "      <th>y</th>\n",
       "      <th>z</th>\n",
       "    </tr>\n",
       "    <tr>\n",
       "      <th>arrival_time</th>\n",
       "      <th></th>\n",
       "      <th></th>\n",
       "      <th></th>\n",
       "      <th></th>\n",
       "      <th></th>\n",
       "      <th></th>\n",
       "    </tr>\n",
       "  </thead>\n",
       "  <tbody>\n",
       "    <tr>\n",
       "      <th>0.00000</th>\n",
       "      <td>0</td>\n",
       "      <td>I</td>\n",
       "      <td>8728</td>\n",
       "      <td>40.361</td>\n",
       "      <td>46.336</td>\n",
       "      <td>47.536</td>\n",
       "    </tr>\n",
       "    <tr>\n",
       "      <th>133.33333</th>\n",
       "      <td>4</td>\n",
       "      <td>P</td>\n",
       "      <td>968</td>\n",
       "      <td>40.109</td>\n",
       "      <td>45.879</td>\n",
       "      <td>46.911</td>\n",
       "    </tr>\n",
       "    <tr>\n",
       "      <th>33.33333</th>\n",
       "      <td>1</td>\n",
       "      <td>B</td>\n",
       "      <td>128</td>\n",
       "      <td>40.090</td>\n",
       "      <td>45.961</td>\n",
       "      <td>46.157</td>\n",
       "    </tr>\n",
       "    <tr>\n",
       "      <th>66.66667</th>\n",
       "      <td>2</td>\n",
       "      <td>B</td>\n",
       "      <td>128</td>\n",
       "      <td>40.036</td>\n",
       "      <td>46.161</td>\n",
       "      <td>46.243</td>\n",
       "    </tr>\n",
       "    <tr>\n",
       "      <th>100.00000</th>\n",
       "      <td>3</td>\n",
       "      <td>B</td>\n",
       "      <td>128</td>\n",
       "      <td>40.047</td>\n",
       "      <td>45.989</td>\n",
       "      <td>46.723</td>\n",
       "    </tr>\n",
       "  </tbody>\n",
       "</table>\n",
       "</div>"
      ],
      "text/plain": [
       "              decoded_frame video_frame  frame_size       x       y       z\n",
       "arrival_time                                                               \n",
       "0.00000                   0           I        8728  40.361  46.336  47.536\n",
       "133.33333                 4           P         968  40.109  45.879  46.911\n",
       "33.33333                  1           B         128  40.090  45.961  46.157\n",
       "66.66667                  2           B         128  40.036  46.161  46.243\n",
       "100.00000                 3           B         128  40.047  45.989  46.723"
      ]
     },
     "execution_count": 3,
     "metadata": {},
     "output_type": "execute_result"
    }
   ],
   "source": [
    "data.head()"
   ]
  },
  {
   "cell_type": "code",
   "execution_count": 4,
   "id": "powerful-lingerie",
   "metadata": {},
   "outputs": [],
   "source": [
    "#drop decoded frame column\n",
    "data.drop(('decoded_frame'), axis=1, inplace=True)\n",
    "\n",
    "data.drop(('x'), axis=1, inplace=True)\n",
    "data.drop(('y'), axis=1, inplace=True)\n",
    "data.drop(('z'), axis=1, inplace=True)"
   ]
  },
  {
   "cell_type": "code",
   "execution_count": 5,
   "id": "earlier-closure",
   "metadata": {},
   "outputs": [
    {
     "name": "stdout",
     "output_type": "stream",
     "text": [
      "['B', 'I', 'P']\n"
     ]
    }
   ],
   "source": [
    "# Label encoding of species column numerically\n",
    "le = LabelEncoder()\n",
    "le.fit(data['video_frame'])\n",
    "print(list(le.classes_))\n",
    "data['video_frame'] = le.transform(data['video_frame'])"
   ]
  },
  {
   "cell_type": "code",
   "execution_count": 6,
   "id": "marked-scanner",
   "metadata": {},
   "outputs": [
    {
     "data": {
      "text/html": [
       "<div>\n",
       "<style scoped>\n",
       "    .dataframe tbody tr th:only-of-type {\n",
       "        vertical-align: middle;\n",
       "    }\n",
       "\n",
       "    .dataframe tbody tr th {\n",
       "        vertical-align: top;\n",
       "    }\n",
       "\n",
       "    .dataframe thead th {\n",
       "        text-align: right;\n",
       "    }\n",
       "</style>\n",
       "<table border=\"1\" class=\"dataframe\">\n",
       "  <thead>\n",
       "    <tr style=\"text-align: right;\">\n",
       "      <th></th>\n",
       "      <th>video_frame</th>\n",
       "      <th>frame_size</th>\n",
       "    </tr>\n",
       "    <tr>\n",
       "      <th>arrival_time</th>\n",
       "      <th></th>\n",
       "      <th></th>\n",
       "    </tr>\n",
       "  </thead>\n",
       "  <tbody>\n",
       "    <tr>\n",
       "      <th>0.00000</th>\n",
       "      <td>1</td>\n",
       "      <td>8728</td>\n",
       "    </tr>\n",
       "    <tr>\n",
       "      <th>133.33333</th>\n",
       "      <td>2</td>\n",
       "      <td>968</td>\n",
       "    </tr>\n",
       "    <tr>\n",
       "      <th>33.33333</th>\n",
       "      <td>0</td>\n",
       "      <td>128</td>\n",
       "    </tr>\n",
       "    <tr>\n",
       "      <th>66.66667</th>\n",
       "      <td>0</td>\n",
       "      <td>128</td>\n",
       "    </tr>\n",
       "    <tr>\n",
       "      <th>100.00000</th>\n",
       "      <td>0</td>\n",
       "      <td>128</td>\n",
       "    </tr>\n",
       "  </tbody>\n",
       "</table>\n",
       "</div>"
      ],
      "text/plain": [
       "              video_frame  frame_size\n",
       "arrival_time                         \n",
       "0.00000                 1        8728\n",
       "133.33333               2         968\n",
       "33.33333                0         128\n",
       "66.66667                0         128\n",
       "100.00000               0         128"
      ]
     },
     "execution_count": 6,
     "metadata": {},
     "output_type": "execute_result"
    }
   ],
   "source": [
    "data.head()"
   ]
  },
  {
   "cell_type": "code",
   "execution_count": 7,
   "id": "grand-tanzania",
   "metadata": {},
   "outputs": [],
   "source": [
    "#Drop NA values\n",
    "data.frame_size.dropna(0,inplace= True)"
   ]
  },
  {
   "cell_type": "code",
   "execution_count": 8,
   "id": "seventh-concern",
   "metadata": {},
   "outputs": [],
   "source": [
    "data.reset_index(inplace=True)"
   ]
  },
  {
   "cell_type": "code",
   "execution_count": 9,
   "id": "defined-handle",
   "metadata": {},
   "outputs": [
    {
     "data": {
      "text/html": [
       "<div>\n",
       "<style scoped>\n",
       "    .dataframe tbody tr th:only-of-type {\n",
       "        vertical-align: middle;\n",
       "    }\n",
       "\n",
       "    .dataframe tbody tr th {\n",
       "        vertical-align: top;\n",
       "    }\n",
       "\n",
       "    .dataframe thead th {\n",
       "        text-align: right;\n",
       "    }\n",
       "</style>\n",
       "<table border=\"1\" class=\"dataframe\">\n",
       "  <thead>\n",
       "    <tr style=\"text-align: right;\">\n",
       "      <th></th>\n",
       "      <th>arrival_time</th>\n",
       "      <th>video_frame</th>\n",
       "      <th>frame_size</th>\n",
       "    </tr>\n",
       "  </thead>\n",
       "  <tbody>\n",
       "    <tr>\n",
       "      <th>0</th>\n",
       "      <td>0.00000</td>\n",
       "      <td>1</td>\n",
       "      <td>8728</td>\n",
       "    </tr>\n",
       "    <tr>\n",
       "      <th>1</th>\n",
       "      <td>133.33333</td>\n",
       "      <td>2</td>\n",
       "      <td>968</td>\n",
       "    </tr>\n",
       "    <tr>\n",
       "      <th>2</th>\n",
       "      <td>33.33333</td>\n",
       "      <td>0</td>\n",
       "      <td>128</td>\n",
       "    </tr>\n",
       "    <tr>\n",
       "      <th>3</th>\n",
       "      <td>66.66667</td>\n",
       "      <td>0</td>\n",
       "      <td>128</td>\n",
       "    </tr>\n",
       "    <tr>\n",
       "      <th>4</th>\n",
       "      <td>100.00000</td>\n",
       "      <td>0</td>\n",
       "      <td>128</td>\n",
       "    </tr>\n",
       "  </tbody>\n",
       "</table>\n",
       "</div>"
      ],
      "text/plain": [
       "   arrival_time  video_frame  frame_size\n",
       "0       0.00000            1        8728\n",
       "1     133.33333            2         968\n",
       "2      33.33333            0         128\n",
       "3      66.66667            0         128\n",
       "4     100.00000            0         128"
      ]
     },
     "execution_count": 9,
     "metadata": {},
     "output_type": "execute_result"
    }
   ],
   "source": [
    "data.head()"
   ]
  },
  {
   "cell_type": "code",
   "execution_count": 10,
   "id": "taken-black",
   "metadata": {},
   "outputs": [],
   "source": [
    "#Sort the arrival time \n",
    "\n",
    "data.sort_values('arrival_time', inplace=True)\n",
    "data.reset_index(drop=True, inplace=True)"
   ]
  },
  {
   "cell_type": "code",
   "execution_count": 11,
   "id": "stone-convenience",
   "metadata": {},
   "outputs": [
    {
     "data": {
      "text/html": [
       "<div>\n",
       "<style scoped>\n",
       "    .dataframe tbody tr th:only-of-type {\n",
       "        vertical-align: middle;\n",
       "    }\n",
       "\n",
       "    .dataframe tbody tr th {\n",
       "        vertical-align: top;\n",
       "    }\n",
       "\n",
       "    .dataframe thead th {\n",
       "        text-align: right;\n",
       "    }\n",
       "</style>\n",
       "<table border=\"1\" class=\"dataframe\">\n",
       "  <thead>\n",
       "    <tr style=\"text-align: right;\">\n",
       "      <th></th>\n",
       "      <th>arrival_time</th>\n",
       "      <th>video_frame</th>\n",
       "      <th>frame_size</th>\n",
       "    </tr>\n",
       "  </thead>\n",
       "  <tbody>\n",
       "    <tr>\n",
       "      <th>0</th>\n",
       "      <td>0.00000</td>\n",
       "      <td>1</td>\n",
       "      <td>8728</td>\n",
       "    </tr>\n",
       "    <tr>\n",
       "      <th>1</th>\n",
       "      <td>33.33333</td>\n",
       "      <td>0</td>\n",
       "      <td>128</td>\n",
       "    </tr>\n",
       "    <tr>\n",
       "      <th>2</th>\n",
       "      <td>66.66667</td>\n",
       "      <td>0</td>\n",
       "      <td>128</td>\n",
       "    </tr>\n",
       "    <tr>\n",
       "      <th>3</th>\n",
       "      <td>100.00000</td>\n",
       "      <td>0</td>\n",
       "      <td>128</td>\n",
       "    </tr>\n",
       "    <tr>\n",
       "      <th>4</th>\n",
       "      <td>133.33333</td>\n",
       "      <td>2</td>\n",
       "      <td>968</td>\n",
       "    </tr>\n",
       "  </tbody>\n",
       "</table>\n",
       "</div>"
      ],
      "text/plain": [
       "   arrival_time  video_frame  frame_size\n",
       "0       0.00000            1        8728\n",
       "1      33.33333            0         128\n",
       "2      66.66667            0         128\n",
       "3     100.00000            0         128\n",
       "4     133.33333            2         968"
      ]
     },
     "execution_count": 11,
     "metadata": {},
     "output_type": "execute_result"
    }
   ],
   "source": [
    "data.head()"
   ]
  },
  {
   "cell_type": "code",
   "execution_count": 12,
   "id": "weekly-cincinnati",
   "metadata": {},
   "outputs": [
    {
     "data": {
      "text/plain": [
       "arrival_time    0\n",
       "video_frame     0\n",
       "frame_size      0\n",
       "dtype: int64"
      ]
     },
     "execution_count": 12,
     "metadata": {},
     "output_type": "execute_result"
    }
   ],
   "source": [
    "#Check for missing values\n",
    "\n",
    "data.isnull().sum()"
   ]
  },
  {
   "cell_type": "code",
   "execution_count": null,
   "id": "blessed-vaccine",
   "metadata": {},
   "outputs": [],
   "source": []
  },
  {
   "cell_type": "code",
   "execution_count": 13,
   "id": "eligible-trunk",
   "metadata": {},
   "outputs": [
    {
     "name": "stdout",
     "output_type": "stream",
     "text": [
      "(49521, 1)\n"
     ]
    }
   ],
   "source": [
    "data = pd.DataFrame(data.frame_size)\n",
    "print(data.shape)"
   ]
  },
  {
   "cell_type": "code",
   "execution_count": 14,
   "id": "applied-norfolk",
   "metadata": {},
   "outputs": [
    {
     "name": "stdout",
     "output_type": "stream",
     "text": [
      "14631.91922618687\n",
      "182520\n",
      "724587272\n"
     ]
    }
   ],
   "source": [
    "\n",
    "mean_frame = np.mean(data.frame_size)\n",
    "print(mean_frame)\n",
    "peak_frame = np.max(data.frame_size)\n",
    "print(peak_frame)\n",
    "total_frame = np.sum(data.frame_size)\n",
    "print(total_frame)"
   ]
  },
  {
   "cell_type": "code",
   "execution_count": null,
   "id": "agricultural-manchester",
   "metadata": {},
   "outputs": [],
   "source": []
  },
  {
   "cell_type": "code",
   "execution_count": 15,
   "id": "exposed-roulette",
   "metadata": {},
   "outputs": [
    {
     "name": "stdout",
     "output_type": "stream",
     "text": [
      "(39616, 1) (39616, 1) (9905, 1) (9905, 1)\n"
     ]
    }
   ],
   "source": [
    "test_split = int(len(data)*0.80)\n",
    "X_train = data[:test_split]\n",
    "y_train = data[:test_split]\n",
    "X_test = data[test_split:]\n",
    "y_test = data[test_split:]\n",
    "print(X_train.shape, y_train.shape, X_test.shape, y_test.shape)"
   ]
  },
  {
   "cell_type": "code",
   "execution_count": 16,
   "id": "accepted-college",
   "metadata": {},
   "outputs": [
    {
     "data": {
      "text/plain": [
       "StandardScaler()"
      ]
     },
     "execution_count": 16,
     "metadata": {},
     "output_type": "execute_result"
    }
   ],
   "source": [
    "scaler = StandardScaler()\n",
    "#fit only to the training data\n",
    "scaler.fit(X_train)"
   ]
  },
  {
   "cell_type": "code",
   "execution_count": 17,
   "id": "fleet-cylinder",
   "metadata": {},
   "outputs": [],
   "source": [
    "#Now apply the transformations to the data\n",
    "\n",
    "X_train = scaler.transform(X_train)\n",
    "X_test = scaler.transform(X_test)"
   ]
  },
  {
   "cell_type": "code",
   "execution_count": null,
   "id": "olive-pattern",
   "metadata": {},
   "outputs": [],
   "source": []
  },
  {
   "cell_type": "code",
   "execution_count": null,
   "id": "empirical-center",
   "metadata": {},
   "outputs": [],
   "source": []
  },
  {
   "cell_type": "code",
   "execution_count": null,
   "id": "initial-updating",
   "metadata": {},
   "outputs": [],
   "source": []
  },
  {
   "cell_type": "markdown",
   "id": "demonstrated-stanford",
   "metadata": {},
   "source": [
    "# Selecting k value using Elbow method"
   ]
  },
  {
   "cell_type": "code",
   "execution_count": 18,
   "id": "considered-attitude",
   "metadata": {},
   "outputs": [
    {
     "data": {
      "image/png": "[encoded data removed]",
      "text/plain": [
       "<Figure size 432x288 with 1 Axes>"
      ]
     },
     "metadata": {
      "needs_background": "light"
     },
     "output_type": "display_data"
    }
   ],
   "source": [
    "Error =[]\n",
    "for i in range(1, 11):\n",
    "    kmeans = KMeans(n_clusters = i).fit(X_train, y_train)\n",
    "    kmeans.fit(X_train, y_train)\n",
    "    Error.append(kmeans.inertia_)\n",
    "    \n",
    "    \n",
    "import matplotlib.pyplot as plt\n",
    "plt.plot(range(1, 11), Error)\n",
    "plt.title('Elbow method')\n",
    "plt.xlabel('No of clusters')\n",
    "plt.ylabel('Score')\n",
    "plt.show()"
   ]
  },
  {
   "cell_type": "markdown",
   "id": "respective-airline",
   "metadata": {},
   "source": [
    "# KMeans clustering model"
   ]
  },
  {
   "cell_type": "code",
   "execution_count": 19,
   "id": "divided-marina",
   "metadata": {},
   "outputs": [
    {
     "data": {
      "text/plain": [
       "KMeans(n_clusters=3)"
      ]
     },
     "execution_count": 19,
     "metadata": {},
     "output_type": "execute_result"
    }
   ],
   "source": [
    "# k means using 3 clusters and k-means++ initialization\n",
    "kmeans = KMeans(n_clusters = 3, init='k-means++')\n",
    "kmeans.fit(X_train, y_train)"
   ]
  },
  {
   "cell_type": "code",
   "execution_count": 20,
   "id": "olive-dating",
   "metadata": {},
   "outputs": [],
   "source": [
    "cluster_numbers = list(kmeans.labels_)"
   ]
  },
  {
   "cell_type": "code",
   "execution_count": 21,
   "id": "identical-wednesday",
   "metadata": {},
   "outputs": [
    {
     "data": {
      "text/plain": [
       "array([1, 0, 0, ..., 0, 0, 2])"
      ]
     },
     "execution_count": 21,
     "metadata": {},
     "output_type": "execute_result"
    }
   ],
   "source": [
    "#Prediction\n",
    "pred = kmeans.predict(X_test)\n",
    "pred"
   ]
  },
  {
   "cell_type": "code",
   "execution_count": 22,
   "id": "critical-niger",
   "metadata": {},
   "outputs": [],
   "source": [
    "# inverse scaling\n",
    "X_test=scaler.inverse_transform(X_test)"
   ]
  },
  {
   "cell_type": "code",
   "execution_count": null,
   "id": "demonstrated-industry",
   "metadata": {},
   "outputs": [],
   "source": []
  },
  {
   "cell_type": "markdown",
   "id": "large-sudan",
   "metadata": {},
   "source": [
    "# Selecting clusters"
   ]
  },
  {
   "cell_type": "code",
   "execution_count": 23,
   "id": "stylish-comfort",
   "metadata": {},
   "outputs": [],
   "source": [
    "cluster_0 = []\n",
    "cluster_1 = []\n",
    "cluster_2 = []"
   ]
  },
  {
   "cell_type": "code",
   "execution_count": 24,
   "id": "provincial-former",
   "metadata": {},
   "outputs": [],
   "source": [
    "for x,p in zip(X_test,pred):\n",
    "  if p==0:\n",
    "    cluster_0.append(x[0])\n",
    "  elif p==1:\n",
    "    cluster_1.append(x[0])\n",
    "  else:\n",
    "    cluster_2.append(x[0])"
   ]
  },
  {
   "cell_type": "code",
   "execution_count": 25,
   "id": "latest-tragedy",
   "metadata": {},
   "outputs": [
    {
     "name": "stdout",
     "output_type": "stream",
     "text": [
      "6753\n",
      "608\n",
      "2544\n"
     ]
    }
   ],
   "source": [
    "print(len(cluster_0))\n",
    "print(len(cluster_1))\n",
    "print(len(cluster_2))"
   ]
  },
  {
   "cell_type": "code",
   "execution_count": 26,
   "id": "prepared-plymouth",
   "metadata": {},
   "outputs": [],
   "source": [
    "df0=pd.DataFrame(cluster_0, columns =['cluster0_frameSize'])\n",
    "df1=pd.DataFrame(cluster_1, columns =['cluster1_frameSize'])\n",
    "df2=pd.DataFrame(cluster_2, columns =['cluster2_frameSize'])"
   ]
  },
  {
   "cell_type": "code",
   "execution_count": 27,
   "id": "aerial-volume",
   "metadata": {},
   "outputs": [
    {
     "name": "stdout",
     "output_type": "stream",
     "text": [
      "6363.2293795350215\n",
      "20600.0\n"
     ]
    }
   ],
   "source": [
    "print(np.mean(df0.cluster0_frameSize))\n",
    "print(np.max(df0.cluster0_frameSize))"
   ]
  },
  {
   "cell_type": "code",
   "execution_count": 28,
   "id": "modified-hardware",
   "metadata": {},
   "outputs": [
    {
     "name": "stdout",
     "output_type": "stream",
     "text": [
      "83492.69736842105\n",
      "156704.0\n"
     ]
    }
   ],
   "source": [
    "print(np.mean(df1.cluster1_frameSize))\n",
    "print(np.max(df1.cluster1_frameSize))"
   ]
  },
  {
   "cell_type": "code",
   "execution_count": 29,
   "id": "organized-feeding",
   "metadata": {},
   "outputs": [
    {
     "name": "stdout",
     "output_type": "stream",
     "text": [
      "35250.44968553459\n",
      "63064.0\n"
     ]
    }
   ],
   "source": [
    "print(np.mean(df2.cluster2_frameSize))\n",
    "print(np.max(df2.cluster2_frameSize))"
   ]
  },
  {
   "cell_type": "code",
   "execution_count": null,
   "id": "french-specification",
   "metadata": {},
   "outputs": [],
   "source": []
  },
  {
   "cell_type": "code",
   "execution_count": null,
   "id": "solar-mineral",
   "metadata": {},
   "outputs": [],
   "source": []
  },
  {
   "cell_type": "raw",
   "id": "through-toilet",
   "metadata": {},
   "source": [
    "def mean_max_sum(x):\n",
    "  \"\"\"\n",
    "  x is frameSize series\n",
    "  \"\"\"\n",
    "  mean_test = np.mean(x)\n",
    "  print(mean_test)\n",
    "  peak_frame_test = np.max(x)\n",
    "  print(peak_frame_test)\n",
    "  total_test = np.sum(x)\n",
    "  print(total_test)\n",
    "  return mean_test,peak_frame_test,total_test"
   ]
  },
  {
   "cell_type": "code",
   "execution_count": 30,
   "id": "unusual-intensity",
   "metadata": {},
   "outputs": [],
   "source": [
    "cluster0_mean = np.mean(df0.cluster0_frameSize)\n",
    "cluster0_peakframe = np.max(df0.cluster0_frameSize)\n",
    "cluster0_total = np.sum(df0.cluster0_frameSize)\n",
    "\n",
    "cluster1_mean = np.mean(df1.cluster1_frameSize)\n",
    "cluster1_peakframe = np.max(df1.cluster1_frameSize)\n",
    "cluster1_total = np.sum(df1.cluster1_frameSize)\n",
    "\n",
    "cluster2_mean = np.mean(df2.cluster2_frameSize)\n",
    "cluster2_peakframe = np.max(df2.cluster2_frameSize)\n",
    "cluster2_total = np.sum(df2.cluster2_frameSize)\n"
   ]
  },
  {
   "cell_type": "code",
   "execution_count": null,
   "id": "latter-barbados",
   "metadata": {},
   "outputs": [],
   "source": []
  },
  {
   "cell_type": "code",
   "execution_count": null,
   "id": "serious-length",
   "metadata": {},
   "outputs": [],
   "source": []
  },
  {
   "cell_type": "code",
   "execution_count": 31,
   "id": "unauthorized-holder",
   "metadata": {},
   "outputs": [],
   "source": [
    "def bucket_algo(df,frameSize,mean_test,peak_frame_test,total_test):\n",
    "  \"\"\"\n",
    "  df is dataframe for frame size of every class\n",
    "  frameSize is column of input df, this argument should be str type\n",
    "  \"\"\"\n",
    "  for m in range(20):\n",
    "      byte_sent = 0\n",
    "      deleted_bytes = 0\n",
    "      bucket_size = 0\n",
    "      marked_bytes = 0\n",
    "      j = 0\n",
    "      l = 0\n",
    "      max_bucket_size = m * peak_frame_test\n",
    "      \n",
    "      for i in range(df.shape[0]):\n",
    "          #print(i)\n",
    "          bucket_size += mean_test\n",
    "          if bucket_size > max_bucket_size:\n",
    "              bucket_size = max_bucket_size\n",
    "              l += 1\n",
    "          \n",
    "          if df.loc[i, frameSize] <= bucket_size:\n",
    "              byte_sent += df.loc[i, frameSize]\n",
    "              bucket_size = (bucket_size - df.loc[i, frameSize])\n",
    "              \n",
    "          else:\n",
    "              byte_sent += bucket_size\n",
    "              marked_bytes += (df.loc[i, frameSize] - bucket_size)\n",
    "              bucket_size = 0\n",
    "              \n",
    "      percent = marked_bytes * 100 / total_test\n",
    "      print(percent)"
   ]
  },
  {
   "cell_type": "raw",
   "id": "static-hotel",
   "metadata": {},
   "source": [
    "cluster0_mean,cluster0_peakframe,cluster0_total=mean_max_sum(df0.cluster0_frameSize)\n"
   ]
  },
  {
   "cell_type": "code",
   "execution_count": 32,
   "id": "clear-familiar",
   "metadata": {},
   "outputs": [
    {
     "name": "stdout",
     "output_type": "stream",
     "text": [
      "100.0\n",
      "30.072635742195967\n",
      "28.44290084049458\n",
      "27.6179553879014\n",
      "26.9233848661489\n",
      "26.300172239032566\n",
      "25.718428607016055\n",
      "25.152350801374965\n",
      "24.67272709158485\n",
      "24.242512877583405\n",
      "23.8589974147426\n",
      "23.532091230833778\n",
      "23.279141309975905\n",
      "23.039444145700397\n",
      "22.799746981424892\n",
      "22.560049817149384\n",
      "22.339771812239128\n",
      "22.182160694026308\n",
      "22.057889841032253\n",
      "21.962010975322055\n"
     ]
    }
   ],
   "source": [
    "# for class_0 \n",
    "#bucket_algo\n",
    "bucket_algo(df0,\"cluster0_frameSize\",cluster0_mean,cluster0_peakframe,cluster0_total)\n"
   ]
  },
  {
   "cell_type": "raw",
   "id": "alpha-ideal",
   "metadata": {},
   "source": [
    "cluster1_mean,cluster1_peakframe,cluster1_total=mean_max_sum(df1.cluster1_frameSize)\n"
   ]
  },
  {
   "cell_type": "code",
   "execution_count": 33,
   "id": "indie-ottawa",
   "metadata": {},
   "outputs": [
    {
     "name": "stdout",
     "output_type": "stream",
     "text": [
      "100.0\n",
      "3.7858455688334343\n",
      "2.2146276104147766\n",
      "1.5972398621953843\n",
      "0.9798521139759957\n",
      "0.550601652051199\n",
      "0.5296051879900079\n",
      "0.5296051879900079\n",
      "0.5296051879900079\n",
      "0.5296051879900079\n",
      "0.5296051879900079\n",
      "0.5296051879900079\n",
      "0.5296051879900079\n",
      "0.5296051879900079\n",
      "0.5296051879900079\n",
      "0.5296051879900079\n",
      "0.5296051879900079\n",
      "0.5296051879900079\n",
      "0.5296051879900079\n",
      "0.5296051879900079\n"
     ]
    }
   ],
   "source": [
    "#for class_1\n",
    "# bucket algo\n",
    "bucket_algo(df1,\"cluster1_frameSize\",cluster1_mean,cluster1_peakframe,cluster1_total)\n"
   ]
  },
  {
   "cell_type": "raw",
   "id": "eligible-happiness",
   "metadata": {},
   "source": [
    "cluster2_mean,cluster2_peakframe,cluster2_total=mean_max_sum(df2.cluster2_frameSize)\n"
   ]
  },
  {
   "cell_type": "code",
   "execution_count": 34,
   "id": "favorite-magnitude",
   "metadata": {},
   "outputs": [
    {
     "name": "stdout",
     "output_type": "stream",
     "text": [
      "100.0\n",
      "6.08777481589995\n",
      "3.7936769010889484\n",
      "3.207629969282781\n",
      "2.9560862010115727\n",
      "2.745116056824107\n",
      "2.6071853931600035\n",
      "2.6071853931600035\n",
      "2.6071853931600035\n",
      "2.6071853931600035\n",
      "2.6071853931600035\n",
      "2.6071853931600035\n",
      "2.6071853931600035\n",
      "2.6071853931600035\n",
      "2.6071853931600035\n",
      "2.6071853931600035\n",
      "2.6071853931600035\n",
      "2.6071853931600035\n",
      "2.6071853931600035\n",
      "2.6071853931600035\n"
     ]
    }
   ],
   "source": [
    "# for class_2\n",
    "# bucket algo\n",
    "bucket_algo(df2,\"cluster2_frameSize\",cluster2_mean,cluster2_peakframe,cluster2_total)\n"
   ]
  },
  {
   "cell_type": "code",
   "execution_count": null,
   "id": "acquired-lincoln",
   "metadata": {},
   "outputs": [],
   "source": []
  },
  {
   "cell_type": "code",
   "execution_count": null,
   "id": "proprietary-caution",
   "metadata": {},
   "outputs": [],
   "source": []
  },
  {
   "cell_type": "code",
   "execution_count": 35,
   "id": "above-roman",
   "metadata": {},
   "outputs": [],
   "source": [
    "cluster0_mean = np.mean(df0.cluster0_frameSize)\n",
    "cluster0_peakframe2 = 38538.66\n",
    "cluster0_total = np.sum(df0.cluster0_frameSize)\n",
    "\n",
    "cluster1_mean = np.mean(df1.cluster1_frameSize)\n",
    "cluster1_peakframe2 = 95549.33\n",
    "cluster1_total = np.sum(df1.cluster1_frameSize)\n",
    "\n",
    "cluster2_mean = np.mean(df2.cluster2_frameSize)\n",
    "cluster2_peakframe2 = 110058.67\n",
    "cluster2_total = np.sum(df2.cluster2_frameSize)\n"
   ]
  },
  {
   "cell_type": "code",
   "execution_count": 36,
   "id": "imperial-support",
   "metadata": {},
   "outputs": [],
   "source": [
    "def bucket_algo2(df,frameSize,mean_test,peak_frame_test,total_test):\n",
    "  \"\"\"\n",
    "  df is dataframe for frame size of every class\n",
    "  frameSize is column of input df, this argument should be str type\n",
    "  \"\"\"\n",
    "  for m in range(20):\n",
    "      byte_sent = 0\n",
    "      deleted_bytes = 0\n",
    "      bucket_size = 0\n",
    "      marked_bytes = 0\n",
    "      j = 0\n",
    "      l = 0\n",
    "      max_bucket_size = m * peak_frame_test\n",
    "      \n",
    "      for i in range(df.shape[0]):\n",
    "          #print(i)\n",
    "          bucket_size += mean_test\n",
    "          if bucket_size > max_bucket_size:\n",
    "              bucket_size = max_bucket_size\n",
    "              l += 1\n",
    "          \n",
    "          if df.loc[i, frameSize] <= bucket_size:\n",
    "              byte_sent += df.loc[i, frameSize]\n",
    "              bucket_size = (bucket_size - df.loc[i, frameSize])\n",
    "              \n",
    "          else:\n",
    "              byte_sent += bucket_size\n",
    "              marked_bytes += (df.loc[i, frameSize] - bucket_size)\n",
    "              bucket_size = 0\n",
    "              \n",
    "      percent = marked_bytes * 100 / total_test\n",
    "      print(percent)"
   ]
  },
  {
   "cell_type": "code",
   "execution_count": 37,
   "id": "compressed-exception",
   "metadata": {},
   "outputs": [
    {
     "name": "stdout",
     "output_type": "stream",
     "text": [
      "100.0\n",
      "28.578022902499548\n",
      "27.09211360273525\n",
      "25.94138941713476\n",
      "24.92046132505009\n",
      "24.106731648207827\n",
      "23.46741544382188\n",
      "23.01651443570697\n",
      "22.56808688633911\n",
      "22.205563003050035\n",
      "21.989999226344466\n",
      "21.858590651454005\n",
      "21.76890514158043\n",
      "21.67921963170686\n",
      "21.58953412183329\n",
      "21.499848611959713\n",
      "21.410163102086145\n",
      "21.320477592212573\n",
      "21.230792082339\n",
      "21.141106572465425\n"
     ]
    }
   ],
   "source": [
    "# for class_0 \n",
    "#bucket_algo\n",
    "bucket_algo2(df0,\"cluster0_frameSize\",cluster0_mean,cluster0_peakframe2,cluster0_total)\n"
   ]
  },
  {
   "cell_type": "code",
   "execution_count": 38,
   "id": "starting-albany",
   "metadata": {},
   "outputs": [
    {
     "name": "stdout",
     "output_type": "stream",
     "text": [
      "100.0\n",
      "5.79566540706716\n",
      "3.3100931175620283\n",
      "2.3514636773639204\n",
      "1.943609108166314\n",
      "1.5671606084945013\n",
      "1.190712108822691\n",
      "0.8142636091508842\n",
      "0.5882770239124308\n",
      "0.5296051879900079\n",
      "0.5296051879900079\n",
      "0.5296051879900079\n",
      "0.5296051879900079\n",
      "0.5296051879900079\n",
      "0.5296051879900079\n",
      "0.5296051879900079\n",
      "0.5296051879900079\n",
      "0.5296051879900079\n",
      "0.5296051879900079\n",
      "0.5296051879900079\n"
     ]
    }
   ],
   "source": [
    "#for class_1\n",
    "# bucket algo\n",
    "bucket_algo2(df1,\"cluster1_frameSize\",cluster1_mean,cluster1_peakframe2,cluster1_total)\n"
   ]
  },
  {
   "cell_type": "code",
   "execution_count": 39,
   "id": "honey-sharp",
   "metadata": {},
   "outputs": [
    {
     "name": "stdout",
     "output_type": "stream",
     "text": [
      "100.0\n",
      "4.162273435458578\n",
      "3.0636007534375524\n",
      "2.69541774127561\n",
      "2.6071853931600035\n",
      "2.6071853931600035\n",
      "2.6071853931600035\n",
      "2.6071853931600035\n",
      "2.6071853931600035\n",
      "2.6071853931600035\n",
      "2.6071853931600035\n",
      "2.6071853931600035\n",
      "2.6071853931600035\n",
      "2.6071853931600035\n",
      "2.6071853931600035\n",
      "2.6071853931600035\n",
      "2.6071853931600035\n",
      "2.6071853931600035\n",
      "2.6071853931600035\n",
      "2.6071853931600035\n"
     ]
    }
   ],
   "source": [
    "# for class_2\n",
    "# bucket algo\n",
    "bucket_algo2(df2,\"cluster2_frameSize\",cluster2_mean,cluster2_peakframe2,cluster2_total)\n"
   ]
  },
  {
   "cell_type": "code",
   "execution_count": null,
   "id": "latest-clarity",
   "metadata": {},
   "outputs": [],
   "source": []
  },
  {
   "cell_type": "code",
   "execution_count": null,
   "id": "cross-satisfaction",
   "metadata": {},
   "outputs": [],
   "source": []
  }
 ],
 "metadata": {
  "kernelspec": {
   "display_name": "Python 3",
   "language": "python",
   "name": "python3"
  },
  "language_info": {
   "codemirror_mode": {
    "name": "ipython",
    "version": 3
   },
   "file_extension": ".py",
   "mimetype": "text/x-python",
   "name": "python",
   "nbconvert_exporter": "python",
   "pygments_lexer": "ipython3",
   "version": "3.8.5"
  }
 },
 "nbformat": 4,
 "nbformat_minor": 5
}
