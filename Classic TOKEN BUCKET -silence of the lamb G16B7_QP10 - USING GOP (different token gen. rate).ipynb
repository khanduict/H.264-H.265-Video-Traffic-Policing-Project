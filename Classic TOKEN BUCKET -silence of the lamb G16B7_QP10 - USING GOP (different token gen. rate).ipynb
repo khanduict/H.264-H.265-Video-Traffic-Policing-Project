{
 "cells": [
  {
   "cell_type": "code",
   "execution_count": null,
   "id": "c9ba02c3",
   "metadata": {},
   "outputs": [],
   "source": []
  },
  {
   "cell_type": "code",
   "execution_count": 1,
   "id": "1c1b08cc",
   "metadata": {},
   "outputs": [],
   "source": [
    "#import keras\n",
    "import tensorflow as tf\n",
    "import numpy as np\n",
    "import pandas as pd\n",
    "from sklearn.preprocessing import LabelEncoder\n",
    "\n",
    "\n",
    "from scipy.stats.distributions import gamma\n",
    "from scipy.stats.distributions import poisson\n",
    "from scipy.stats.distributions import expon\n",
    "\n",
    "import statistics\n",
    "from scipy.stats import norm\n",
    "from scipy import stats\n",
    "import scipy.stats\n",
    "\n",
    "import matplotlib.pyplot as plt\n",
    "\n"
   ]
  },
  {
   "cell_type": "code",
   "execution_count": 2,
   "id": "5e7c87fb",
   "metadata": {},
   "outputs": [],
   "source": [
    "#import data\n",
    "data = pd.read_csv(\"../TOKEN BUCKET ALGORITHM/H264-data/silence_of_the_lamb_G16B7_QP10.csv\",infer_datetime_format=True,\n",
    "                  parse_dates=['arrival_time'], index_col='arrival_time', \n",
    "                   names=['decoded_frame','arrival_time', 'video_frame', \n",
    "                                         'frame_size', 'x', 'y', 'z'])"
   ]
  },
  {
   "cell_type": "code",
   "execution_count": 3,
   "id": "4142f9de",
   "metadata": {},
   "outputs": [
    {
     "data": {
      "text/html": [
       "<div>\n",
       "<style scoped>\n",
       "    .dataframe tbody tr th:only-of-type {\n",
       "        vertical-align: middle;\n",
       "    }\n",
       "\n",
       "    .dataframe tbody tr th {\n",
       "        vertical-align: top;\n",
       "    }\n",
       "\n",
       "    .dataframe thead th {\n",
       "        text-align: right;\n",
       "    }\n",
       "</style>\n",
       "<table border=\"1\" class=\"dataframe\">\n",
       "  <thead>\n",
       "    <tr style=\"text-align: right;\">\n",
       "      <th></th>\n",
       "      <th>decoded_frame</th>\n",
       "      <th>video_frame</th>\n",
       "      <th>frame_size</th>\n",
       "      <th>x</th>\n",
       "      <th>y</th>\n",
       "      <th>z</th>\n",
       "    </tr>\n",
       "    <tr>\n",
       "      <th>arrival_time</th>\n",
       "      <th></th>\n",
       "      <th></th>\n",
       "      <th></th>\n",
       "      <th></th>\n",
       "      <th></th>\n",
       "      <th></th>\n",
       "    </tr>\n",
       "  </thead>\n",
       "  <tbody>\n",
       "    <tr>\n",
       "      <th>0.00000</th>\n",
       "      <td>0</td>\n",
       "      <td>I</td>\n",
       "      <td>536</td>\n",
       "      <td>98.19</td>\n",
       "      <td>92.17</td>\n",
       "      <td>92.17</td>\n",
       "    </tr>\n",
       "    <tr>\n",
       "      <th>266.66667</th>\n",
       "      <td>8</td>\n",
       "      <td>P</td>\n",
       "      <td>152</td>\n",
       "      <td>98.19</td>\n",
       "      <td>92.17</td>\n",
       "      <td>92.17</td>\n",
       "    </tr>\n",
       "    <tr>\n",
       "      <th>33.33333</th>\n",
       "      <td>1</td>\n",
       "      <td>B</td>\n",
       "      <td>136</td>\n",
       "      <td>98.19</td>\n",
       "      <td>92.17</td>\n",
       "      <td>92.17</td>\n",
       "    </tr>\n",
       "    <tr>\n",
       "      <th>66.66667</th>\n",
       "      <td>2</td>\n",
       "      <td>B</td>\n",
       "      <td>136</td>\n",
       "      <td>98.19</td>\n",
       "      <td>92.17</td>\n",
       "      <td>92.17</td>\n",
       "    </tr>\n",
       "    <tr>\n",
       "      <th>100.00000</th>\n",
       "      <td>3</td>\n",
       "      <td>B</td>\n",
       "      <td>136</td>\n",
       "      <td>98.19</td>\n",
       "      <td>92.17</td>\n",
       "      <td>92.17</td>\n",
       "    </tr>\n",
       "  </tbody>\n",
       "</table>\n",
       "</div>"
      ],
      "text/plain": [
       "              decoded_frame video_frame  frame_size      x      y      z\n",
       "arrival_time                                                            \n",
       "0.00000                   0           I         536  98.19  92.17  92.17\n",
       "266.66667                 8           P         152  98.19  92.17  92.17\n",
       "33.33333                  1           B         136  98.19  92.17  92.17\n",
       "66.66667                  2           B         136  98.19  92.17  92.17\n",
       "100.00000                 3           B         136  98.19  92.17  92.17"
      ]
     },
     "execution_count": 3,
     "metadata": {},
     "output_type": "execute_result"
    }
   ],
   "source": [
    "data.head()"
   ]
  },
  {
   "cell_type": "code",
   "execution_count": 4,
   "id": "841316a0",
   "metadata": {},
   "outputs": [],
   "source": [
    "#drop decoded frame column\n",
    "data.drop(('decoded_frame'), axis=1, inplace=True)\n",
    "\n",
    "data.drop(('x'), axis=1, inplace=True)\n",
    "data.drop(('y'), axis=1, inplace=True)\n",
    "data.drop(('z'), axis=1, inplace=True)"
   ]
  },
  {
   "cell_type": "code",
   "execution_count": 5,
   "id": "9fc0740c",
   "metadata": {},
   "outputs": [
    {
     "name": "stdout",
     "output_type": "stream",
     "text": [
      "['B', 'I', 'P']\n"
     ]
    }
   ],
   "source": [
    "# Label encoding of species column numerically\n",
    "le = LabelEncoder()\n",
    "le.fit(data['video_frame'])\n",
    "print(list(le.classes_))\n",
    "data['video_frame'] = le.transform(data['video_frame'])"
   ]
  },
  {
   "cell_type": "code",
   "execution_count": 6,
   "id": "3e1acaf3",
   "metadata": {},
   "outputs": [
    {
     "data": {
      "text/html": [
       "<div>\n",
       "<style scoped>\n",
       "    .dataframe tbody tr th:only-of-type {\n",
       "        vertical-align: middle;\n",
       "    }\n",
       "\n",
       "    .dataframe tbody tr th {\n",
       "        vertical-align: top;\n",
       "    }\n",
       "\n",
       "    .dataframe thead th {\n",
       "        text-align: right;\n",
       "    }\n",
       "</style>\n",
       "<table border=\"1\" class=\"dataframe\">\n",
       "  <thead>\n",
       "    <tr style=\"text-align: right;\">\n",
       "      <th></th>\n",
       "      <th>video_frame</th>\n",
       "      <th>frame_size</th>\n",
       "    </tr>\n",
       "    <tr>\n",
       "      <th>arrival_time</th>\n",
       "      <th></th>\n",
       "      <th></th>\n",
       "    </tr>\n",
       "  </thead>\n",
       "  <tbody>\n",
       "    <tr>\n",
       "      <th>0.00000</th>\n",
       "      <td>1</td>\n",
       "      <td>536</td>\n",
       "    </tr>\n",
       "    <tr>\n",
       "      <th>266.66667</th>\n",
       "      <td>2</td>\n",
       "      <td>152</td>\n",
       "    </tr>\n",
       "    <tr>\n",
       "      <th>33.33333</th>\n",
       "      <td>0</td>\n",
       "      <td>136</td>\n",
       "    </tr>\n",
       "    <tr>\n",
       "      <th>66.66667</th>\n",
       "      <td>0</td>\n",
       "      <td>136</td>\n",
       "    </tr>\n",
       "    <tr>\n",
       "      <th>100.00000</th>\n",
       "      <td>0</td>\n",
       "      <td>136</td>\n",
       "    </tr>\n",
       "  </tbody>\n",
       "</table>\n",
       "</div>"
      ],
      "text/plain": [
       "              video_frame  frame_size\n",
       "arrival_time                         \n",
       "0.00000                 1         536\n",
       "266.66667               2         152\n",
       "33.33333                0         136\n",
       "66.66667                0         136\n",
       "100.00000               0         136"
      ]
     },
     "execution_count": 6,
     "metadata": {},
     "output_type": "execute_result"
    }
   ],
   "source": [
    "data.head()"
   ]
  },
  {
   "cell_type": "code",
   "execution_count": 7,
   "id": "15ac87b9",
   "metadata": {},
   "outputs": [],
   "source": [
    "#Drop NA values\n",
    "data.frame_size.dropna(0,inplace= True)"
   ]
  },
  {
   "cell_type": "code",
   "execution_count": 8,
   "id": "5e463bbe",
   "metadata": {},
   "outputs": [],
   "source": [
    "data.reset_index(inplace=True)"
   ]
  },
  {
   "cell_type": "code",
   "execution_count": 9,
   "id": "b5381ffc",
   "metadata": {},
   "outputs": [
    {
     "data": {
      "text/html": [
       "<div>\n",
       "<style scoped>\n",
       "    .dataframe tbody tr th:only-of-type {\n",
       "        vertical-align: middle;\n",
       "    }\n",
       "\n",
       "    .dataframe tbody tr th {\n",
       "        vertical-align: top;\n",
       "    }\n",
       "\n",
       "    .dataframe thead th {\n",
       "        text-align: right;\n",
       "    }\n",
       "</style>\n",
       "<table border=\"1\" class=\"dataframe\">\n",
       "  <thead>\n",
       "    <tr style=\"text-align: right;\">\n",
       "      <th></th>\n",
       "      <th>arrival_time</th>\n",
       "      <th>video_frame</th>\n",
       "      <th>frame_size</th>\n",
       "    </tr>\n",
       "  </thead>\n",
       "  <tbody>\n",
       "    <tr>\n",
       "      <th>0</th>\n",
       "      <td>0.00000</td>\n",
       "      <td>1</td>\n",
       "      <td>536</td>\n",
       "    </tr>\n",
       "    <tr>\n",
       "      <th>1</th>\n",
       "      <td>266.66667</td>\n",
       "      <td>2</td>\n",
       "      <td>152</td>\n",
       "    </tr>\n",
       "    <tr>\n",
       "      <th>2</th>\n",
       "      <td>33.33333</td>\n",
       "      <td>0</td>\n",
       "      <td>136</td>\n",
       "    </tr>\n",
       "    <tr>\n",
       "      <th>3</th>\n",
       "      <td>66.66667</td>\n",
       "      <td>0</td>\n",
       "      <td>136</td>\n",
       "    </tr>\n",
       "    <tr>\n",
       "      <th>4</th>\n",
       "      <td>100.00000</td>\n",
       "      <td>0</td>\n",
       "      <td>136</td>\n",
       "    </tr>\n",
       "  </tbody>\n",
       "</table>\n",
       "</div>"
      ],
      "text/plain": [
       "   arrival_time  video_frame  frame_size\n",
       "0       0.00000            1         536\n",
       "1     266.66667            2         152\n",
       "2      33.33333            0         136\n",
       "3      66.66667            0         136\n",
       "4     100.00000            0         136"
      ]
     },
     "execution_count": 9,
     "metadata": {},
     "output_type": "execute_result"
    }
   ],
   "source": [
    "data.head()"
   ]
  },
  {
   "cell_type": "code",
   "execution_count": 10,
   "id": "23d637d2",
   "metadata": {},
   "outputs": [],
   "source": [
    "#Sort the arrival time \n",
    "\n",
    "data.sort_values('arrival_time', inplace=True)\n",
    "data.reset_index(drop=True, inplace=True)"
   ]
  },
  {
   "cell_type": "code",
   "execution_count": 11,
   "id": "c57cd471",
   "metadata": {},
   "outputs": [
    {
     "data": {
      "text/html": [
       "<div>\n",
       "<style scoped>\n",
       "    .dataframe tbody tr th:only-of-type {\n",
       "        vertical-align: middle;\n",
       "    }\n",
       "\n",
       "    .dataframe tbody tr th {\n",
       "        vertical-align: top;\n",
       "    }\n",
       "\n",
       "    .dataframe thead th {\n",
       "        text-align: right;\n",
       "    }\n",
       "</style>\n",
       "<table border=\"1\" class=\"dataframe\">\n",
       "  <thead>\n",
       "    <tr style=\"text-align: right;\">\n",
       "      <th></th>\n",
       "      <th>arrival_time</th>\n",
       "      <th>video_frame</th>\n",
       "      <th>frame_size</th>\n",
       "    </tr>\n",
       "  </thead>\n",
       "  <tbody>\n",
       "    <tr>\n",
       "      <th>0</th>\n",
       "      <td>0.00000</td>\n",
       "      <td>1</td>\n",
       "      <td>536</td>\n",
       "    </tr>\n",
       "    <tr>\n",
       "      <th>1</th>\n",
       "      <td>33.33333</td>\n",
       "      <td>0</td>\n",
       "      <td>136</td>\n",
       "    </tr>\n",
       "    <tr>\n",
       "      <th>2</th>\n",
       "      <td>66.66667</td>\n",
       "      <td>0</td>\n",
       "      <td>136</td>\n",
       "    </tr>\n",
       "    <tr>\n",
       "      <th>3</th>\n",
       "      <td>100.00000</td>\n",
       "      <td>0</td>\n",
       "      <td>136</td>\n",
       "    </tr>\n",
       "    <tr>\n",
       "      <th>4</th>\n",
       "      <td>133.33333</td>\n",
       "      <td>0</td>\n",
       "      <td>136</td>\n",
       "    </tr>\n",
       "    <tr>\n",
       "      <th>5</th>\n",
       "      <td>166.66667</td>\n",
       "      <td>0</td>\n",
       "      <td>136</td>\n",
       "    </tr>\n",
       "    <tr>\n",
       "      <th>6</th>\n",
       "      <td>200.00000</td>\n",
       "      <td>0</td>\n",
       "      <td>136</td>\n",
       "    </tr>\n",
       "    <tr>\n",
       "      <th>7</th>\n",
       "      <td>233.33333</td>\n",
       "      <td>0</td>\n",
       "      <td>136</td>\n",
       "    </tr>\n",
       "    <tr>\n",
       "      <th>8</th>\n",
       "      <td>266.66667</td>\n",
       "      <td>2</td>\n",
       "      <td>152</td>\n",
       "    </tr>\n",
       "    <tr>\n",
       "      <th>9</th>\n",
       "      <td>300.00000</td>\n",
       "      <td>0</td>\n",
       "      <td>136</td>\n",
       "    </tr>\n",
       "    <tr>\n",
       "      <th>10</th>\n",
       "      <td>333.33333</td>\n",
       "      <td>0</td>\n",
       "      <td>136</td>\n",
       "    </tr>\n",
       "    <tr>\n",
       "      <th>11</th>\n",
       "      <td>366.66667</td>\n",
       "      <td>0</td>\n",
       "      <td>136</td>\n",
       "    </tr>\n",
       "    <tr>\n",
       "      <th>12</th>\n",
       "      <td>400.00000</td>\n",
       "      <td>0</td>\n",
       "      <td>136</td>\n",
       "    </tr>\n",
       "    <tr>\n",
       "      <th>13</th>\n",
       "      <td>433.33333</td>\n",
       "      <td>0</td>\n",
       "      <td>136</td>\n",
       "    </tr>\n",
       "    <tr>\n",
       "      <th>14</th>\n",
       "      <td>466.66667</td>\n",
       "      <td>0</td>\n",
       "      <td>136</td>\n",
       "    </tr>\n",
       "    <tr>\n",
       "      <th>15</th>\n",
       "      <td>500.00000</td>\n",
       "      <td>0</td>\n",
       "      <td>136</td>\n",
       "    </tr>\n",
       "    <tr>\n",
       "      <th>16</th>\n",
       "      <td>533.33333</td>\n",
       "      <td>1</td>\n",
       "      <td>528</td>\n",
       "    </tr>\n",
       "    <tr>\n",
       "      <th>17</th>\n",
       "      <td>566.66667</td>\n",
       "      <td>0</td>\n",
       "      <td>136</td>\n",
       "    </tr>\n",
       "    <tr>\n",
       "      <th>18</th>\n",
       "      <td>600.00000</td>\n",
       "      <td>0</td>\n",
       "      <td>136</td>\n",
       "    </tr>\n",
       "    <tr>\n",
       "      <th>19</th>\n",
       "      <td>633.33333</td>\n",
       "      <td>0</td>\n",
       "      <td>136</td>\n",
       "    </tr>\n",
       "  </tbody>\n",
       "</table>\n",
       "</div>"
      ],
      "text/plain": [
       "    arrival_time  video_frame  frame_size\n",
       "0        0.00000            1         536\n",
       "1       33.33333            0         136\n",
       "2       66.66667            0         136\n",
       "3      100.00000            0         136\n",
       "4      133.33333            0         136\n",
       "5      166.66667            0         136\n",
       "6      200.00000            0         136\n",
       "7      233.33333            0         136\n",
       "8      266.66667            2         152\n",
       "9      300.00000            0         136\n",
       "10     333.33333            0         136\n",
       "11     366.66667            0         136\n",
       "12     400.00000            0         136\n",
       "13     433.33333            0         136\n",
       "14     466.66667            0         136\n",
       "15     500.00000            0         136\n",
       "16     533.33333            1         528\n",
       "17     566.66667            0         136\n",
       "18     600.00000            0         136\n",
       "19     633.33333            0         136"
      ]
     },
     "execution_count": 11,
     "metadata": {},
     "output_type": "execute_result"
    }
   ],
   "source": [
    "data.head(20)\n",
    "#I = 1, P=2, B= 0"
   ]
  },
  {
   "cell_type": "code",
   "execution_count": 12,
   "id": "23290013",
   "metadata": {},
   "outputs": [
    {
     "data": {
      "text/plain": [
       "arrival_time    0\n",
       "video_frame     0\n",
       "frame_size      0\n",
       "dtype: int64"
      ]
     },
     "execution_count": 12,
     "metadata": {},
     "output_type": "execute_result"
    }
   ],
   "source": [
    "#Check for missing values\n",
    "\n",
    "data.isnull().sum()"
   ]
  },
  {
   "cell_type": "code",
   "execution_count": null,
   "id": "twelve-empire",
   "metadata": {},
   "outputs": [],
   "source": []
  },
  {
   "cell_type": "markdown",
   "id": "determined-sheet",
   "metadata": {},
   "source": [
    "***Define the parameters***"
   ]
  },
  {
   "cell_type": "code",
   "execution_count": 13,
   "id": "mineral-tobago",
   "metadata": {},
   "outputs": [],
   "source": [
    "peak_frame_i = max(data[data[\"video_frame\"]==1].frame_size)\n",
    "peak_frame_b = max(data[data[\"video_frame\"]==0].frame_size)\n",
    "peak_frame_p = max(data[data[\"video_frame\"]==2].frame_size)"
   ]
  },
  {
   "cell_type": "code",
   "execution_count": 14,
   "id": "upper-absorption",
   "metadata": {},
   "outputs": [],
   "source": [
    "mean_frame_i = np.ceil(np.mean(data[data[\"video_frame\"]== 1].frame_size))\n",
    "mean_frame_b = np.ceil(np.mean(data[data[\"video_frame\"]== 0].frame_size))\n",
    "mean_frame_p = np.ceil(np.mean(data[data[\"video_frame\"]== 2].frame_size))"
   ]
  },
  {
   "cell_type": "code",
   "execution_count": 15,
   "id": "geological-driver",
   "metadata": {},
   "outputs": [
    {
     "name": "stdout",
     "output_type": "stream",
     "text": [
      "peak_frame i = 668960, peak_frame b = 393200, peak_frame p = 533048\n",
      "\n",
      "mean_frame i = 189430.0, mean_frame b = 47503.0, mean_frame p = 132013.0\n"
     ]
    }
   ],
   "source": [
    "print ('peak_frame i = {}, peak_frame b = {}, peak_frame p = {}'.format( peak_frame_i,peak_frame_b,peak_frame_p))\n",
    "print ('\\nmean_frame i = {}, mean_frame b = {}, mean_frame p = {}'.format(mean_frame_i,mean_frame_b,mean_frame_p))"
   ]
  },
  {
   "cell_type": "code",
   "execution_count": 16,
   "id": "plastic-myrtle",
   "metadata": {},
   "outputs": [
    {
     "data": {
      "text/plain": [
       "53993"
      ]
     },
     "execution_count": 16,
     "metadata": {},
     "output_type": "execute_result"
    }
   ],
   "source": [
    "len(data.frame_size)"
   ]
  },
  {
   "cell_type": "code",
   "execution_count": 17,
   "id": "similar-marking",
   "metadata": {
    "scrolled": true
   },
   "outputs": [
    {
     "name": "stdout",
     "output_type": "stream",
     "text": [
      "peak_frame 668960\n",
      "mean_frame 61657.0\n",
      "53993\n",
      "3329032160\n"
     ]
    }
   ],
   "source": [
    "peak_frame = max(data.frame_size)\n",
    "print ('peak_frame', peak_frame)\n",
    "\n",
    "mean_frame = np.mean(data.frame_size)\n",
    "mean_frame = np.ceil(mean_frame)\n",
    "print('mean_frame', mean_frame)\n",
    "\n",
    "num_of_frames = data.shape[0]\n",
    "total = np.sum(data.frame_size)\n",
    "print(num_of_frames)\n",
    "print(total)"
   ]
  },
  {
   "cell_type": "code",
   "execution_count": null,
   "id": "minute-algorithm",
   "metadata": {},
   "outputs": [],
   "source": []
  },
  {
   "cell_type": "markdown",
   "id": "congressional-bahamas",
   "metadata": {},
   "source": [
    "***Problem statement***"
   ]
  },
  {
   "cell_type": "code",
   "execution_count": 18,
   "id": "controversial-identity",
   "metadata": {},
   "outputs": [
    {
     "name": "stdout",
     "output_type": "stream",
     "text": [
      "I rate 4.0\n",
      "P rate 528052.0\n",
      "B rate 190012.0\n"
     ]
    }
   ],
   "source": [
    "\n",
    "#Calculate the following token generation rate for each frame type (I, P and B):\n",
    "\n",
    "#I-frame (token generation of I-frame)\n",
    "I = peak_frame_i/ mean_frame_i\n",
    "I= np.ceil(I)\n",
    "print('I rate', I)\n",
    "\n",
    "# P-frame (token generation rate of P-frame)\n",
    "P = I * mean_frame_p\n",
    "P = np.ceil(P)\n",
    "print ('P rate', P)\n",
    "\n",
    "# B-frame (token generation rate of B-frame)\n",
    "B = I * mean_frame_b\n",
    "B = np.ceil(B)\n",
    "print('B rate', B)"
   ]
  },
  {
   "cell_type": "raw",
   "id": "comprehensive-colombia",
   "metadata": {},
   "source": [
    "•\tDepending on the type of the video frame, which is expected to arrive at any given instance (this is known from the data arrival pattern), the respective token bucket is activated. \n",
    "\n",
    "•\tThe mechanism  be implemented with one token bucket, which uses the above different token generation rates depending on the expected video frame arrival.\n"
   ]
  },
  {
   "cell_type": "code",
   "execution_count": null,
   "id": "civil-greensboro",
   "metadata": {},
   "outputs": [],
   "source": []
  },
  {
   "cell_type": "code",
   "execution_count": 19,
   "id": "controlled-gregory",
   "metadata": {},
   "outputs": [],
   "source": [
    "def token_generation_rate(video_frame):\n",
    "    if video_frame == 0: #B= 0\n",
    "        token_generation_rate = mean_frame_b\n",
    "    elif video_frame == 1: #I =1\n",
    "        token_generation_rate = mean_frame_i\n",
    "    else: #P=2\n",
    "        token_generation_rate = mean_frame_p\n"
   ]
  },
  {
   "cell_type": "code",
   "execution_count": 20,
   "id": "recreational-thesis",
   "metadata": {},
   "outputs": [
    {
     "name": "stdout",
     "output_type": "stream",
     "text": [
      "100.0\n",
      "1.8784663227765273\n",
      "1.692951383203219\n",
      "1.6125724661067857\n",
      "1.5486863905814596\n",
      "1.4961154355444857\n",
      "1.4559259769962691\n",
      "1.4157365184480524\n",
      "1.3755470598998358\n",
      "1.3353576013516193\n"
     ]
    }
   ],
   "source": [
    "#Token Bucket algorithm using mean token generation rate\n",
    "\n",
    "for m in range(10):  # \n",
    "    byte_sent = 0   # incoming packet forwarded \n",
    "    deleted_bytes = 0\n",
    "    bucket_size = 0  #  token bucket_size\n",
    "    marked_bytes = 0  # non conforming packets marked\n",
    "    j = 0\n",
    "    l = 0\n",
    "    max_bucket_size = m * peak_frame  # maximum bucket size - we increased the bucket size to 2,3,4.. \n",
    "                                       \n",
    "    \n",
    "    for i in range(data.shape[0]):\n",
    "        video_frame = data.loc[i,\"video_frame\"]\n",
    "        \n",
    "        if video_frame == 0: #B= 0\n",
    "            token_generation_rate = B\n",
    "        elif video_frame == 1: #I =1\n",
    "            token_generation_rate = I\n",
    "        else: #P=2\n",
    "            token_generation_rate = P\n",
    "        \n",
    "        #video_frame = data.loc[i,\"video_frame\"]\n",
    "        #frame_type = data[\"video_frame\"].iloc[i]\n",
    "        #token_rate = token_generation_rate(frame_type)\n",
    "        \n",
    "        \n",
    "        bucket_size += token_generation_rate  # Finally assign the above solution HERE (token generation rate)\n",
    "            \n",
    "            \n",
    "        if bucket_size > max_bucket_size: \n",
    "            bucket_size = max_bucket_size \n",
    "            #l += 1\n",
    "        \n",
    "        if data.loc[i, 'frame_size'] <= bucket_size:  \n",
    "                                                        \n",
    "            byte_sent += data.loc[i, 'frame_size']\n",
    "            bucket_size = (bucket_size - data.loc[i, 'frame_size'])  \n",
    "                                                                      \n",
    "            \n",
    "        else:\n",
    "            byte_sent += bucket_size \n",
    "            marked_bytes += (data.loc[i, 'frame_size'] - bucket_size)  \n",
    "            bucket_size = 0  \n",
    "            \n",
    "    percent = marked_bytes * 100 / total\n",
    "    print(percent)\n",
    "            \n"
   ]
  },
  {
   "cell_type": "code",
   "execution_count": null,
   "id": "neutral-nomination",
   "metadata": {},
   "outputs": [],
   "source": []
  },
  {
   "cell_type": "code",
   "execution_count": null,
   "id": "metric-serve",
   "metadata": {},
   "outputs": [],
   "source": []
  },
  {
   "cell_type": "code",
   "execution_count": null,
   "id": "comparable-vision",
   "metadata": {},
   "outputs": [],
   "source": []
  }
 ],
 "metadata": {
  "kernelspec": {
   "display_name": "Python 3",
   "language": "python",
   "name": "python3"
  },
  "language_info": {
   "codemirror_mode": {
    "name": "ipython",
    "version": 3
   },
   "file_extension": ".py",
   "mimetype": "text/x-python",
   "name": "python",
   "nbconvert_exporter": "python",
   "pygments_lexer": "ipython3",
   "version": "3.8.5"
  }
 },
 "nbformat": 4,
 "nbformat_minor": 5
}
