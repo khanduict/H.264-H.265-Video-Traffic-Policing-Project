{
 "cells": [
  {
   "cell_type": "code",
   "execution_count": null,
   "id": "tight-olympus",
   "metadata": {},
   "outputs": [],
   "source": []
  },
  {
   "cell_type": "code",
   "execution_count": 1,
   "id": "1c1b08cc",
   "metadata": {},
   "outputs": [],
   "source": [
    "#import keras\n",
    "import tensorflow as tf\n",
    "import numpy as np\n",
    "import pandas as pd\n",
    "from sklearn.preprocessing import LabelEncoder\n",
    "\n",
    "\n",
    "from scipy.stats.distributions import gamma\n",
    "from scipy.stats.distributions import poisson\n",
    "from scipy.stats.distributions import expon\n",
    "\n",
    "import statistics\n",
    "from scipy.stats import norm\n",
    "from scipy import stats\n",
    "import scipy.stats\n",
    "\n",
    "import matplotlib.pyplot as plt\n",
    "\n"
   ]
  },
  {
   "cell_type": "code",
   "execution_count": 2,
   "id": "5e7c87fb",
   "metadata": {},
   "outputs": [],
   "source": [
    "#import data\n",
    "data = pd.read_csv(\"../JUMPING WINDOW ALGORITHM/H265-data/BigBuckBunny/bigbuckbunny-QP 10.csv\",infer_datetime_format=True,\n",
    "                  parse_dates=['arrival_time'], index_col='arrival_time', \n",
    "                   names=['decoded_frame','arrival_time', 'video_frame', \n",
    "                                         'frame_size', 'x', 'y', 'z'])"
   ]
  },
  {
   "cell_type": "code",
   "execution_count": 3,
   "id": "4142f9de",
   "metadata": {},
   "outputs": [
    {
     "data": {
      "text/html": [
       "<div>\n",
       "<style scoped>\n",
       "    .dataframe tbody tr th:only-of-type {\n",
       "        vertical-align: middle;\n",
       "    }\n",
       "\n",
       "    .dataframe tbody tr th {\n",
       "        vertical-align: top;\n",
       "    }\n",
       "\n",
       "    .dataframe thead th {\n",
       "        text-align: right;\n",
       "    }\n",
       "</style>\n",
       "<table border=\"1\" class=\"dataframe\">\n",
       "  <thead>\n",
       "    <tr style=\"text-align: right;\">\n",
       "      <th></th>\n",
       "      <th>decoded_frame</th>\n",
       "      <th>video_frame</th>\n",
       "      <th>frame_size</th>\n",
       "      <th>x</th>\n",
       "      <th>y</th>\n",
       "      <th>z</th>\n",
       "    </tr>\n",
       "    <tr>\n",
       "      <th>arrival_time</th>\n",
       "      <th></th>\n",
       "      <th></th>\n",
       "      <th></th>\n",
       "      <th></th>\n",
       "      <th></th>\n",
       "      <th></th>\n",
       "    </tr>\n",
       "  </thead>\n",
       "  <tbody>\n",
       "    <tr>\n",
       "      <th>0.00000</th>\n",
       "      <td>0</td>\n",
       "      <td>I</td>\n",
       "      <td>686.0</td>\n",
       "      <td>99.9900</td>\n",
       "      <td>99.9900</td>\n",
       "      <td>99.9900</td>\n",
       "    </tr>\n",
       "    <tr>\n",
       "      <th>0.04167</th>\n",
       "      <td>1</td>\n",
       "      <td>B</td>\n",
       "      <td>29.0</td>\n",
       "      <td>99.9900</td>\n",
       "      <td>99.9900</td>\n",
       "      <td>99.9900</td>\n",
       "    </tr>\n",
       "    <tr>\n",
       "      <th>0.08333</th>\n",
       "      <td>2</td>\n",
       "      <td>B</td>\n",
       "      <td>29.0</td>\n",
       "      <td>99.9900</td>\n",
       "      <td>99.9900</td>\n",
       "      <td>99.9900</td>\n",
       "    </tr>\n",
       "    <tr>\n",
       "      <th>0.12500</th>\n",
       "      <td>3</td>\n",
       "      <td>B</td>\n",
       "      <td>29.0</td>\n",
       "      <td>53.5502</td>\n",
       "      <td>99.9900</td>\n",
       "      <td>99.9900</td>\n",
       "    </tr>\n",
       "    <tr>\n",
       "      <th>0.16667</th>\n",
       "      <td>4</td>\n",
       "      <td>B</td>\n",
       "      <td>1210.0</td>\n",
       "      <td>56.6828</td>\n",
       "      <td>100.5062</td>\n",
       "      <td>92.7247</td>\n",
       "    </tr>\n",
       "  </tbody>\n",
       "</table>\n",
       "</div>"
      ],
      "text/plain": [
       "             decoded_frame video_frame  frame_size        x         y        z\n",
       "arrival_time                                                                  \n",
       "0.00000                  0           I       686.0  99.9900   99.9900  99.9900\n",
       "0.04167                  1           B        29.0  99.9900   99.9900  99.9900\n",
       "0.08333                  2           B        29.0  99.9900   99.9900  99.9900\n",
       "0.12500                  3           B        29.0  53.5502   99.9900  99.9900\n",
       "0.16667                  4           B      1210.0  56.6828  100.5062  92.7247"
      ]
     },
     "execution_count": 3,
     "metadata": {},
     "output_type": "execute_result"
    }
   ],
   "source": [
    "data.head()"
   ]
  },
  {
   "cell_type": "code",
   "execution_count": null,
   "id": "published-alaska",
   "metadata": {},
   "outputs": [],
   "source": []
  },
  {
   "cell_type": "code",
   "execution_count": 4,
   "id": "southwest-canada",
   "metadata": {},
   "outputs": [],
   "source": [
    "data.dropna(0,inplace= True)"
   ]
  },
  {
   "cell_type": "code",
   "execution_count": 5,
   "id": "841316a0",
   "metadata": {},
   "outputs": [],
   "source": [
    "#drop decoded frame column\n",
    "data.drop(('decoded_frame'), axis=1, inplace=True)\n",
    "\n",
    "data.drop(('x'), axis=1, inplace=True)\n",
    "data.drop(('y'), axis=1, inplace=True)\n",
    "data.drop(('z'), axis=1, inplace=True)"
   ]
  },
  {
   "cell_type": "code",
   "execution_count": 6,
   "id": "9fc0740c",
   "metadata": {},
   "outputs": [
    {
     "name": "stdout",
     "output_type": "stream",
     "text": [
      "['B', 'I', 'P']\n"
     ]
    }
   ],
   "source": [
    "# Label encoding of species column numerically\n",
    "le = LabelEncoder()\n",
    "le.fit(data['video_frame'])\n",
    "print(list(le.classes_))\n",
    "data['video_frame'] = le.transform(data['video_frame'])"
   ]
  },
  {
   "cell_type": "code",
   "execution_count": 7,
   "id": "3e1acaf3",
   "metadata": {},
   "outputs": [
    {
     "data": {
      "text/html": [
       "<div>\n",
       "<style scoped>\n",
       "    .dataframe tbody tr th:only-of-type {\n",
       "        vertical-align: middle;\n",
       "    }\n",
       "\n",
       "    .dataframe tbody tr th {\n",
       "        vertical-align: top;\n",
       "    }\n",
       "\n",
       "    .dataframe thead th {\n",
       "        text-align: right;\n",
       "    }\n",
       "</style>\n",
       "<table border=\"1\" class=\"dataframe\">\n",
       "  <thead>\n",
       "    <tr style=\"text-align: right;\">\n",
       "      <th></th>\n",
       "      <th>video_frame</th>\n",
       "      <th>frame_size</th>\n",
       "    </tr>\n",
       "    <tr>\n",
       "      <th>arrival_time</th>\n",
       "      <th></th>\n",
       "      <th></th>\n",
       "    </tr>\n",
       "  </thead>\n",
       "  <tbody>\n",
       "    <tr>\n",
       "      <th>0.00000</th>\n",
       "      <td>1</td>\n",
       "      <td>686.0</td>\n",
       "    </tr>\n",
       "    <tr>\n",
       "      <th>0.04167</th>\n",
       "      <td>0</td>\n",
       "      <td>29.0</td>\n",
       "    </tr>\n",
       "    <tr>\n",
       "      <th>0.08333</th>\n",
       "      <td>0</td>\n",
       "      <td>29.0</td>\n",
       "    </tr>\n",
       "    <tr>\n",
       "      <th>0.12500</th>\n",
       "      <td>0</td>\n",
       "      <td>29.0</td>\n",
       "    </tr>\n",
       "    <tr>\n",
       "      <th>0.16667</th>\n",
       "      <td>0</td>\n",
       "      <td>1210.0</td>\n",
       "    </tr>\n",
       "  </tbody>\n",
       "</table>\n",
       "</div>"
      ],
      "text/plain": [
       "              video_frame  frame_size\n",
       "arrival_time                         \n",
       "0.00000                 1       686.0\n",
       "0.04167                 0        29.0\n",
       "0.08333                 0        29.0\n",
       "0.12500                 0        29.0\n",
       "0.16667                 0      1210.0"
      ]
     },
     "execution_count": 7,
     "metadata": {},
     "output_type": "execute_result"
    }
   ],
   "source": [
    "data.head()"
   ]
  },
  {
   "cell_type": "code",
   "execution_count": 8,
   "id": "15ac87b9",
   "metadata": {},
   "outputs": [],
   "source": [
    "data.frame_size.dropna(0,inplace= True)"
   ]
  },
  {
   "cell_type": "code",
   "execution_count": 9,
   "id": "5e463bbe",
   "metadata": {},
   "outputs": [],
   "source": [
    "data.reset_index(inplace=True)"
   ]
  },
  {
   "cell_type": "code",
   "execution_count": 10,
   "id": "b5381ffc",
   "metadata": {},
   "outputs": [
    {
     "data": {
      "text/html": [
       "<div>\n",
       "<style scoped>\n",
       "    .dataframe tbody tr th:only-of-type {\n",
       "        vertical-align: middle;\n",
       "    }\n",
       "\n",
       "    .dataframe tbody tr th {\n",
       "        vertical-align: top;\n",
       "    }\n",
       "\n",
       "    .dataframe thead th {\n",
       "        text-align: right;\n",
       "    }\n",
       "</style>\n",
       "<table border=\"1\" class=\"dataframe\">\n",
       "  <thead>\n",
       "    <tr style=\"text-align: right;\">\n",
       "      <th></th>\n",
       "      <th>arrival_time</th>\n",
       "      <th>video_frame</th>\n",
       "      <th>frame_size</th>\n",
       "    </tr>\n",
       "  </thead>\n",
       "  <tbody>\n",
       "    <tr>\n",
       "      <th>0</th>\n",
       "      <td>0.00000</td>\n",
       "      <td>1</td>\n",
       "      <td>686.0</td>\n",
       "    </tr>\n",
       "    <tr>\n",
       "      <th>1</th>\n",
       "      <td>0.04167</td>\n",
       "      <td>0</td>\n",
       "      <td>29.0</td>\n",
       "    </tr>\n",
       "    <tr>\n",
       "      <th>2</th>\n",
       "      <td>0.08333</td>\n",
       "      <td>0</td>\n",
       "      <td>29.0</td>\n",
       "    </tr>\n",
       "    <tr>\n",
       "      <th>3</th>\n",
       "      <td>0.12500</td>\n",
       "      <td>0</td>\n",
       "      <td>29.0</td>\n",
       "    </tr>\n",
       "    <tr>\n",
       "      <th>4</th>\n",
       "      <td>0.16667</td>\n",
       "      <td>0</td>\n",
       "      <td>1210.0</td>\n",
       "    </tr>\n",
       "  </tbody>\n",
       "</table>\n",
       "</div>"
      ],
      "text/plain": [
       "   arrival_time  video_frame  frame_size\n",
       "0       0.00000            1       686.0\n",
       "1       0.04167            0        29.0\n",
       "2       0.08333            0        29.0\n",
       "3       0.12500            0        29.0\n",
       "4       0.16667            0      1210.0"
      ]
     },
     "execution_count": 10,
     "metadata": {},
     "output_type": "execute_result"
    }
   ],
   "source": [
    "data.head()"
   ]
  },
  {
   "cell_type": "code",
   "execution_count": 11,
   "id": "23d637d2",
   "metadata": {},
   "outputs": [],
   "source": [
    "#Sort the arrival time\n",
    "\n",
    "data.sort_values('arrival_time', inplace=True)\n",
    "data.reset_index(drop=True, inplace=True)"
   ]
  },
  {
   "cell_type": "code",
   "execution_count": 12,
   "id": "c57cd471",
   "metadata": {},
   "outputs": [
    {
     "data": {
      "text/html": [
       "<div>\n",
       "<style scoped>\n",
       "    .dataframe tbody tr th:only-of-type {\n",
       "        vertical-align: middle;\n",
       "    }\n",
       "\n",
       "    .dataframe tbody tr th {\n",
       "        vertical-align: top;\n",
       "    }\n",
       "\n",
       "    .dataframe thead th {\n",
       "        text-align: right;\n",
       "    }\n",
       "</style>\n",
       "<table border=\"1\" class=\"dataframe\">\n",
       "  <thead>\n",
       "    <tr style=\"text-align: right;\">\n",
       "      <th></th>\n",
       "      <th>arrival_time</th>\n",
       "      <th>video_frame</th>\n",
       "      <th>frame_size</th>\n",
       "    </tr>\n",
       "  </thead>\n",
       "  <tbody>\n",
       "    <tr>\n",
       "      <th>0</th>\n",
       "      <td>0.00000</td>\n",
       "      <td>1</td>\n",
       "      <td>686.0</td>\n",
       "    </tr>\n",
       "    <tr>\n",
       "      <th>1</th>\n",
       "      <td>0.04167</td>\n",
       "      <td>0</td>\n",
       "      <td>29.0</td>\n",
       "    </tr>\n",
       "    <tr>\n",
       "      <th>2</th>\n",
       "      <td>0.08333</td>\n",
       "      <td>0</td>\n",
       "      <td>29.0</td>\n",
       "    </tr>\n",
       "    <tr>\n",
       "      <th>3</th>\n",
       "      <td>0.12500</td>\n",
       "      <td>0</td>\n",
       "      <td>29.0</td>\n",
       "    </tr>\n",
       "    <tr>\n",
       "      <th>4</th>\n",
       "      <td>0.16667</td>\n",
       "      <td>0</td>\n",
       "      <td>1210.0</td>\n",
       "    </tr>\n",
       "  </tbody>\n",
       "</table>\n",
       "</div>"
      ],
      "text/plain": [
       "   arrival_time  video_frame  frame_size\n",
       "0       0.00000            1       686.0\n",
       "1       0.04167            0        29.0\n",
       "2       0.08333            0        29.0\n",
       "3       0.12500            0        29.0\n",
       "4       0.16667            0      1210.0"
      ]
     },
     "execution_count": 12,
     "metadata": {},
     "output_type": "execute_result"
    }
   ],
   "source": [
    "data.head()"
   ]
  },
  {
   "cell_type": "code",
   "execution_count": 13,
   "id": "23290013",
   "metadata": {},
   "outputs": [
    {
     "data": {
      "text/plain": [
       "arrival_time    0\n",
       "video_frame     0\n",
       "frame_size      0\n",
       "dtype: int64"
      ]
     },
     "execution_count": 13,
     "metadata": {},
     "output_type": "execute_result"
    }
   ],
   "source": [
    "#Check missing values\n",
    "\n",
    "data.isnull().sum()"
   ]
  },
  {
   "cell_type": "code",
   "execution_count": 14,
   "id": "convertible-plain",
   "metadata": {},
   "outputs": [
    {
     "name": "stdout",
     "output_type": "stream",
     "text": [
      "peak_frame 1116494.0\n",
      "mean 65774.43886554622\n",
      "burstiness 16.974587989755374\n",
      "14280\n",
      "939258987.0\n"
     ]
    }
   ],
   "source": [
    "#Define the parameters\n",
    "\n",
    "peak_frame = max(data.frame_size)\n",
    "print ('peak_frame', peak_frame)\n",
    "\n",
    "#Comitted Information rate (CIR) - MEAN\n",
    "mean_frame = np.mean(data.frame_size)\n",
    "print('mean', mean_frame)\n",
    "\n",
    "#Calculating the burstiness of frame size\n",
    "burstiness = peak_frame/mean_frame\n",
    "print('burstiness', burstiness)\n",
    "\n",
    "num_of_frames = data.shape[0]\n",
    "total = np.sum(data.frame_size)\n",
    "print(num_of_frames)\n",
    "print(total)"
   ]
  },
  {
   "cell_type": "code",
   "execution_count": 15,
   "id": "least-morrison",
   "metadata": {},
   "outputs": [],
   "source": [
    "upper_bound = 1116494.0\n"
   ]
  },
  {
   "cell_type": "code",
   "execution_count": null,
   "id": "pleasant-statement",
   "metadata": {},
   "outputs": [],
   "source": []
  },
  {
   "cell_type": "raw",
   "id": "loose-astronomy",
   "metadata": {},
   "source": [
    "Committed burst size (CBS) is defined by the maximum number of bytes that can be transmitted into the network.\n",
    "Time interval (T) defines the time per burst\n",
    "\n",
    "token generation rate = CBS/time interval\n",
    "\n",
    "Assume that the traffic needs to be sent into the network at a mean rate CIR of 2.4 Mbps. If a burst for a duration of 10 millisec (= 0.01 sec) needs to be sustained, CBS can be calculated using the token bucket definition as\n",
    "\n",
    "CBS=2,400,000 bits/sec × 0.01undefinedsec  / 8 undefinedbits/byte,\n",
    " which yields 3000 bytes.\n",
    "\n",
    "Thus, the token rate is 300,000 (= 2,400,000/8) bytes per sec, the committed burst size is 3000 bytes, and the token interval (T) is 10 millisec. Therefore, the token generator credits the token bucket with 3000 bytes worth of tokens every 10 millisec. This indicates that the conforming traffic will, in the worst case, come in 100 bursts per sec of 3000 bytes each and at a committed information rate not exceeding 2.4 Mbps.\n"
   ]
  },
  {
   "cell_type": "code",
   "execution_count": 16,
   "id": "focal-retrieval",
   "metadata": {},
   "outputs": [
    {
     "data": {
      "text/plain": [
       "14280"
      ]
     },
     "execution_count": 16,
     "metadata": {},
     "output_type": "execute_result"
    }
   ],
   "source": [
    "len(data.frame_size)"
   ]
  },
  {
   "cell_type": "code",
   "execution_count": 17,
   "id": "proper-supplier",
   "metadata": {},
   "outputs": [
    {
     "data": {
      "text/plain": [
       "14280"
      ]
     },
     "execution_count": 17,
     "metadata": {},
     "output_type": "execute_result"
    }
   ],
   "source": [
    "data.shape[0]"
   ]
  },
  {
   "cell_type": "code",
   "execution_count": null,
   "id": "median-bargain",
   "metadata": {},
   "outputs": [],
   "source": []
  },
  {
   "cell_type": "markdown",
   "id": "neutral-correlation",
   "metadata": {},
   "source": [
    "***window size = 5***"
   ]
  },
  {
   "cell_type": "code",
   "execution_count": 18,
   "id": "eastern-monkey",
   "metadata": {},
   "outputs": [
    {
     "name": "stdout",
     "output_type": "stream",
     "text": [
      "16.15507374431969\n"
     ]
    }
   ],
   "source": [
    "#Final Jumping window algorithm\n",
    "\n",
    "windowSize = 5\n",
    "addition =0\n",
    "max_frame= 0\n",
    "\n",
    "for i in range(0, len(data['frame_size']),  windowSize):\n",
    "    byte_sent = 0\n",
    "    deleted_bytes = 0\n",
    "    bucket_size = 0\n",
    "    marked_bytes = 0\n",
    "    #j = 0\n",
    "    #l = 0\n",
    "    \n",
    "    max_frame_bytes = list(data.frame_size[i:i+ windowSize])\n",
    "    mean_frame1 = np.mean(max_frame_bytes)    \n",
    "    \n",
    "    max_bucket_size = windowSize * upper_bound\n",
    "    \n",
    "    for j in range(i, i+windowSize):\n",
    "        \n",
    "        bucket_size += mean_frame1\n",
    "        \n",
    "        if bucket_size > max_bucket_size:\n",
    "            bucket_size = max_bucket_size\n",
    "        \n",
    "        \n",
    "        if data.loc[i, 'frame_size'] <= bucket_size:            \n",
    "            byte_sent += data.loc[i, 'frame_size']\n",
    "            bucket_size = (bucket_size - data.loc[i, 'frame_size'])\n",
    "            \n",
    "        else:\n",
    "            byte_sent += bucket_size\n",
    "            marked_bytes += (data.loc[i, 'frame_size'] - bucket_size)\n",
    "        \n",
    "            \n",
    "    addition += abs(marked_bytes)        \n",
    "            \n",
    "percent = addition * 100 / total\n",
    "print(percent)"
   ]
  },
  {
   "cell_type": "code",
   "execution_count": null,
   "id": "expressed-anime",
   "metadata": {},
   "outputs": [],
   "source": []
  },
  {
   "cell_type": "markdown",
   "id": "similar-blair",
   "metadata": {},
   "source": [
    "***window size = 10***"
   ]
  },
  {
   "cell_type": "code",
   "execution_count": 19,
   "id": "czech-leadership",
   "metadata": {},
   "outputs": [
    {
     "name": "stdout",
     "output_type": "stream",
     "text": [
      "32.755591030613196\n"
     ]
    }
   ],
   "source": [
    "#Final Jumping window algorithm\n",
    "\n",
    "windowSize = 10\n",
    "addition =0\n",
    "max_frame= 0\n",
    "\n",
    "for i in range(0, len(data['frame_size']),  windowSize):\n",
    "    byte_sent = 0\n",
    "    deleted_bytes = 0\n",
    "    bucket_size = 0\n",
    "    marked_bytes = 0\n",
    "    #j = 0\n",
    "    #l = 0\n",
    "    \n",
    "    max_frame_bytes = list(data.frame_size[i:i+ windowSize])\n",
    "    mean_frame1 = np.mean(max_frame_bytes)    \n",
    "    \n",
    "    max_bucket_size = windowSize * upper_bound\n",
    "    \n",
    "    for j in range(i, i+windowSize):\n",
    "        \n",
    "        bucket_size += mean_frame1\n",
    "        \n",
    "        if bucket_size > max_bucket_size:\n",
    "            bucket_size = max_bucket_size\n",
    "        \n",
    "        \n",
    "        if data.loc[i, 'frame_size'] <= bucket_size:            \n",
    "            byte_sent += data.loc[i, 'frame_size']\n",
    "            bucket_size = (bucket_size - data.loc[i, 'frame_size'])\n",
    "            \n",
    "        else:\n",
    "            byte_sent += bucket_size\n",
    "            marked_bytes += (data.loc[i, 'frame_size'] - bucket_size)\n",
    "        \n",
    "            \n",
    "    addition += abs(marked_bytes)        \n",
    "            \n",
    "percent = addition * 100 / total\n",
    "print(percent)"
   ]
  },
  {
   "cell_type": "markdown",
   "id": "hearing-berkeley",
   "metadata": {},
   "source": [
    "***window size = 20***"
   ]
  },
  {
   "cell_type": "code",
   "execution_count": 20,
   "id": "conventional-square",
   "metadata": {},
   "outputs": [
    {
     "name": "stdout",
     "output_type": "stream",
     "text": [
      "64.62651629651116\n"
     ]
    }
   ],
   "source": [
    "#Final Jumping window algorithm\n",
    "\n",
    "windowSize = 20\n",
    "addition =0\n",
    "max_frame= 0\n",
    "\n",
    "for i in range(0, len(data['frame_size']),  windowSize):\n",
    "    byte_sent = 0\n",
    "    deleted_bytes = 0\n",
    "    bucket_size = 0\n",
    "    marked_bytes = 0\n",
    "    #j = 0\n",
    "    #l = 0\n",
    "    \n",
    "    max_frame_bytes = list(data.frame_size[i:i+ windowSize])\n",
    "    mean_frame1 = np.mean(max_frame_bytes)    \n",
    "    \n",
    "    max_bucket_size = windowSize * upper_bound\n",
    "    \n",
    "    for j in range(i, i+windowSize):\n",
    "        \n",
    "        bucket_size += mean_frame1\n",
    "        \n",
    "        if bucket_size > max_bucket_size:\n",
    "            bucket_size = max_bucket_size\n",
    "        \n",
    "        \n",
    "        if data.loc[i, 'frame_size'] <= bucket_size:            \n",
    "            byte_sent += data.loc[i, 'frame_size']\n",
    "            bucket_size = (bucket_size - data.loc[i, 'frame_size'])\n",
    "            \n",
    "        else:\n",
    "            byte_sent += bucket_size\n",
    "            marked_bytes += (data.loc[i, 'frame_size'] - bucket_size)\n",
    "        \n",
    "            \n",
    "    addition += abs(marked_bytes)        \n",
    "            \n",
    "percent = addition * 100 / total\n",
    "print(percent)"
   ]
  },
  {
   "cell_type": "code",
   "execution_count": null,
   "id": "faced-parameter",
   "metadata": {},
   "outputs": [],
   "source": []
  },
  {
   "cell_type": "code",
   "execution_count": null,
   "id": "4fb2652e",
   "metadata": {},
   "outputs": [],
   "source": []
  }
 ],
 "metadata": {
  "kernelspec": {
   "display_name": "Python 3",
   "language": "python",
   "name": "python3"
  },
  "language_info": {
   "codemirror_mode": {
    "name": "ipython",
    "version": 3
   },
   "file_extension": ".py",
   "mimetype": "text/x-python",
   "name": "python",
   "nbconvert_exporter": "python",
   "pygments_lexer": "ipython3",
   "version": "3.8.5"
  }
 },
 "nbformat": 4,
 "nbformat_minor": 5
}
