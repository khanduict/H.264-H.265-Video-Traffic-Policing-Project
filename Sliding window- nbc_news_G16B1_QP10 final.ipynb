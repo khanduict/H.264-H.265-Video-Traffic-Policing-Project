{
 "cells": [
  {
   "cell_type": "code",
   "execution_count": 27,
   "id": "c9ba02c3",
   "metadata": {},
   "outputs": [
    {
     "name": "stdout",
     "output_type": "stream",
     "text": [
      "[5, 9, 8, 9]\n"
     ]
    }
   ],
   "source": [
    "#Example\n",
    "windowsize =3\n",
    "listA = [3,2,5,9,4,6,3,8,7,9]\n",
    "listB=[max(listA[i:i+ windowsize]) for i in range(0,len(listA), windowsize)]\n",
    "print (listB)\n"
   ]
  },
  {
   "cell_type": "code",
   "execution_count": 28,
   "id": "trained-garbage",
   "metadata": {},
   "outputs": [
    {
     "name": "stdout",
     "output_type": "stream",
     "text": [
      "[5, 9, 8, 9]\n"
     ]
    }
   ],
   "source": [
    "#Example\n",
    "max1 = [max(listA[i:i+ windowsize]) for i in range(0, len(listA), windowsize)]\n",
    "print(max1)"
   ]
  },
  {
   "cell_type": "code",
   "execution_count": 29,
   "id": "noted-university",
   "metadata": {},
   "outputs": [
    {
     "name": "stdout",
     "output_type": "stream",
     "text": [
      "sliding window [3, 2, 5, 9, 4]\n",
      "max_frame 23\n",
      "sliding window [2, 5, 9, 4, 6]\n",
      "max_frame 26\n",
      "sliding window [5, 9, 4, 6, 3]\n",
      "max_frame 27\n",
      "sliding window [9, 4, 6, 3, 8]\n",
      "max_frame 30\n",
      "sliding window [4, 6, 3, 8, 7]\n",
      "max_frame 28\n",
      "sliding window [6, 3, 8, 7, 9]\n",
      "max_frame 33\n"
     ]
    }
   ],
   "source": [
    "\n",
    "#use this\n",
    "max_frame = 0\n",
    "windowsize = 5\n",
    "\n",
    "for i in range(0, len(listA)-windowsize+1):\n",
    "    max_frame_sliding = list(listA[i:windowsize+i])\n",
    "    #max_frame1 = max(max_frame)\n",
    "    print('sliding window', max_frame_sliding)\n",
    "    max_fame0 = sum(max_frame_sliding)\n",
    "    if max_fame0>max_frame:\n",
    "        max_frame_final = max_fame0\n",
    "        print('max_frame', max_frame_final)\n",
    "        "
   ]
  },
  {
   "cell_type": "code",
   "execution_count": 30,
   "id": "thrown-essence",
   "metadata": {},
   "outputs": [
    {
     "name": "stdout",
     "output_type": "stream",
     "text": [
      "sliding window [3, 2, 5, 9, 4]\n",
      "max_frame 9\n",
      "sliding window [2, 5, 9, 4, 6]\n",
      "max_frame 9\n",
      "sliding window [5, 9, 4, 6, 3]\n",
      "max_frame 9\n",
      "sliding window [9, 4, 6, 3, 8]\n",
      "max_frame 9\n",
      "sliding window [4, 6, 3, 8, 7]\n",
      "max_frame 8\n",
      "sliding window [6, 3, 8, 7, 9]\n",
      "max_frame 9\n"
     ]
    }
   ],
   "source": [
    "#use this\n",
    "max_frame = 0\n",
    "windowsize = 5\n",
    "\n",
    "for i in range(0, len(listA)-windowsize+1):\n",
    "    max_frame_sliding = list(listA[i:windowsize+i])\n",
    "    #max_frame1 = max(max_frame)\n",
    "    print('sliding window', max_frame_sliding)\n",
    "    max_frame0 = max(max_frame_sliding)\n",
    "    print('max_frame', max_frame0)\n",
    "        "
   ]
  },
  {
   "cell_type": "code",
   "execution_count": 31,
   "id": "indirect-polyester",
   "metadata": {},
   "outputs": [
    {
     "name": "stdout",
     "output_type": "stream",
     "text": [
      "Window 0:  [1, 3, -1, 3]\n",
      "max_frame :  6\n",
      "Window 1:  [3, 4, 1, -2]\n",
      "max_frame :  6\n",
      "Window 2:  [-2, 3, 4, 1]\n",
      "max_frame :  6\n",
      "Window 3:  [1, 2, 5, -6]\n",
      "max_frame :  6\n",
      "Window 4:  [-6, 1, 6, 2]\n",
      "max_frame :  6\n",
      "Window 5:  [2, 9, 1]\n",
      "max_frame :  12\n",
      "Window 6:  []\n",
      "max_frame :  12\n",
      "Window 7:  []\n",
      "max_frame :  12\n",
      "Window 8:  []\n",
      "max_frame :  12\n",
      "Window 9:  []\n",
      "max_frame :  12\n",
      "Window 10:  []\n",
      "max_frame :  12\n",
      "Window 11:  []\n",
      "max_frame :  12\n",
      "Window 12:  []\n",
      "max_frame :  12\n",
      "Window 13:  []\n",
      "max_frame :  12\n",
      "Window 14:  []\n",
      "max_frame :  12\n"
     ]
    }
   ],
   "source": [
    "#dunt use  step\n",
    "windowsize=4\n",
    "#frame = [1,2,3,4,5,6,7,8,9,10,11,12,13,14,15,16,17,18,19,20]\n",
    "frame = [1,3,-1,3,4,1,-2,3,4,1,2,5,-6,1,6,2,9,1]\n",
    "#frame = ['a','b','c','d','e','f','g','h','i','j','k']\n",
    "sliding = []\n",
    "step_size = 3\n",
    "start_point = 0\n",
    "max_frame = 0\n",
    "for i in range(len(frame)-windowsize+1):\n",
    "    print(f'Window {i}: ',frame[start_point:windowsize+start_point])\n",
    "    sum_frame = sum(frame[start_point:windowsize+start_point])\n",
    "    if sum_frame > max_frame:\n",
    "        max_frame = sum_frame\n",
    "    print('max_frame : ',max_frame)\n",
    "    sliding.append(frame[start_point:windowsize+start_point])\n",
    "    start_point+=step_size\n",
    "    #print()"
   ]
  },
  {
   "cell_type": "code",
   "execution_count": null,
   "id": "widespread-oracle",
   "metadata": {},
   "outputs": [],
   "source": []
  },
  {
   "cell_type": "code",
   "execution_count": null,
   "id": "changing-track",
   "metadata": {},
   "outputs": [],
   "source": []
  },
  {
   "cell_type": "code",
   "execution_count": null,
   "id": "formal-insured",
   "metadata": {},
   "outputs": [],
   "source": []
  },
  {
   "cell_type": "code",
   "execution_count": null,
   "id": "tight-olympus",
   "metadata": {},
   "outputs": [],
   "source": []
  },
  {
   "cell_type": "code",
   "execution_count": 1,
   "id": "1c1b08cc",
   "metadata": {},
   "outputs": [],
   "source": [
    "#import keras\n",
    "import tensorflow as tf\n",
    "import numpy as np\n",
    "import pandas as pd\n",
    "from sklearn.preprocessing import LabelEncoder\n",
    "\n",
    "\n",
    "from scipy.stats.distributions import gamma\n",
    "from scipy.stats.distributions import poisson\n",
    "from scipy.stats.distributions import expon\n",
    "\n",
    "import statistics\n",
    "from scipy.stats import norm\n",
    "from scipy import stats\n",
    "import scipy.stats\n",
    "\n",
    "import matplotlib.pyplot as plt\n",
    "\n"
   ]
  },
  {
   "cell_type": "code",
   "execution_count": 2,
   "id": "5e7c87fb",
   "metadata": {},
   "outputs": [],
   "source": [
    "#import data\n",
    "data = pd.read_csv(\"../SLIDING WINDOW/H264-data/nbc_news_G16B1_QP10.csv\",infer_datetime_format=True,\n",
    "                  parse_dates=['arrival_time'], index_col='arrival_time', \n",
    "                   names=['decoded_frame','arrival_time', 'video_frame', \n",
    "                                         'frame_size', 'x', 'y', 'z'])"
   ]
  },
  {
   "cell_type": "code",
   "execution_count": 3,
   "id": "4142f9de",
   "metadata": {},
   "outputs": [
    {
     "data": {
      "text/html": [
       "<div>\n",
       "<style scoped>\n",
       "    .dataframe tbody tr th:only-of-type {\n",
       "        vertical-align: middle;\n",
       "    }\n",
       "\n",
       "    .dataframe tbody tr th {\n",
       "        vertical-align: top;\n",
       "    }\n",
       "\n",
       "    .dataframe thead th {\n",
       "        text-align: right;\n",
       "    }\n",
       "</style>\n",
       "<table border=\"1\" class=\"dataframe\">\n",
       "  <thead>\n",
       "    <tr style=\"text-align: right;\">\n",
       "      <th></th>\n",
       "      <th>decoded_frame</th>\n",
       "      <th>video_frame</th>\n",
       "      <th>frame_size</th>\n",
       "      <th>x</th>\n",
       "      <th>y</th>\n",
       "      <th>z</th>\n",
       "    </tr>\n",
       "    <tr>\n",
       "      <th>arrival_time</th>\n",
       "      <th></th>\n",
       "      <th></th>\n",
       "      <th></th>\n",
       "      <th></th>\n",
       "      <th></th>\n",
       "      <th></th>\n",
       "    </tr>\n",
       "  </thead>\n",
       "  <tbody>\n",
       "    <tr>\n",
       "      <th>0.00000</th>\n",
       "      <td>0</td>\n",
       "      <td>I</td>\n",
       "      <td>277192</td>\n",
       "      <td>52.340</td>\n",
       "      <td>52.340</td>\n",
       "      <td>52.568</td>\n",
       "    </tr>\n",
       "    <tr>\n",
       "      <th>66.66667</th>\n",
       "      <td>2</td>\n",
       "      <td>P</td>\n",
       "      <td>257984</td>\n",
       "      <td>50.030</td>\n",
       "      <td>50.897</td>\n",
       "      <td>51.285</td>\n",
       "    </tr>\n",
       "    <tr>\n",
       "      <th>33.33333</th>\n",
       "      <td>1</td>\n",
       "      <td>B</td>\n",
       "      <td>182048</td>\n",
       "      <td>47.967</td>\n",
       "      <td>49.606</td>\n",
       "      <td>50.288</td>\n",
       "    </tr>\n",
       "    <tr>\n",
       "      <th>133.33333</th>\n",
       "      <td>4</td>\n",
       "      <td>P</td>\n",
       "      <td>257248</td>\n",
       "      <td>50.063</td>\n",
       "      <td>50.856</td>\n",
       "      <td>51.186</td>\n",
       "    </tr>\n",
       "    <tr>\n",
       "      <th>100.00000</th>\n",
       "      <td>3</td>\n",
       "      <td>B</td>\n",
       "      <td>180624</td>\n",
       "      <td>48.031</td>\n",
       "      <td>49.683</td>\n",
       "      <td>50.401</td>\n",
       "    </tr>\n",
       "  </tbody>\n",
       "</table>\n",
       "</div>"
      ],
      "text/plain": [
       "              decoded_frame video_frame  frame_size       x       y       z\n",
       "arrival_time                                                               \n",
       "0.00000                   0           I      277192  52.340  52.340  52.568\n",
       "66.66667                  2           P      257984  50.030  50.897  51.285\n",
       "33.33333                  1           B      182048  47.967  49.606  50.288\n",
       "133.33333                 4           P      257248  50.063  50.856  51.186\n",
       "100.00000                 3           B      180624  48.031  49.683  50.401"
      ]
     },
     "execution_count": 3,
     "metadata": {},
     "output_type": "execute_result"
    }
   ],
   "source": [
    "data.head()"
   ]
  },
  {
   "cell_type": "code",
   "execution_count": 4,
   "id": "841316a0",
   "metadata": {},
   "outputs": [],
   "source": [
    "#drop decoded frame column\n",
    "data.drop(('decoded_frame'), axis=1, inplace=True)\n",
    "\n",
    "data.drop(('x'), axis=1, inplace=True)\n",
    "data.drop(('y'), axis=1, inplace=True)\n",
    "data.drop(('z'), axis=1, inplace=True)"
   ]
  },
  {
   "cell_type": "code",
   "execution_count": 5,
   "id": "9fc0740c",
   "metadata": {},
   "outputs": [
    {
     "name": "stdout",
     "output_type": "stream",
     "text": [
      "['B', 'I', 'P']\n"
     ]
    }
   ],
   "source": [
    "# Label encoding of species column numerically\n",
    "le = LabelEncoder()\n",
    "le.fit(data['video_frame'])\n",
    "print(list(le.classes_))\n",
    "data['video_frame'] = le.transform(data['video_frame'])"
   ]
  },
  {
   "cell_type": "code",
   "execution_count": 6,
   "id": "3e1acaf3",
   "metadata": {},
   "outputs": [
    {
     "data": {
      "text/html": [
       "<div>\n",
       "<style scoped>\n",
       "    .dataframe tbody tr th:only-of-type {\n",
       "        vertical-align: middle;\n",
       "    }\n",
       "\n",
       "    .dataframe tbody tr th {\n",
       "        vertical-align: top;\n",
       "    }\n",
       "\n",
       "    .dataframe thead th {\n",
       "        text-align: right;\n",
       "    }\n",
       "</style>\n",
       "<table border=\"1\" class=\"dataframe\">\n",
       "  <thead>\n",
       "    <tr style=\"text-align: right;\">\n",
       "      <th></th>\n",
       "      <th>video_frame</th>\n",
       "      <th>frame_size</th>\n",
       "    </tr>\n",
       "    <tr>\n",
       "      <th>arrival_time</th>\n",
       "      <th></th>\n",
       "      <th></th>\n",
       "    </tr>\n",
       "  </thead>\n",
       "  <tbody>\n",
       "    <tr>\n",
       "      <th>0.00000</th>\n",
       "      <td>1</td>\n",
       "      <td>277192</td>\n",
       "    </tr>\n",
       "    <tr>\n",
       "      <th>66.66667</th>\n",
       "      <td>2</td>\n",
       "      <td>257984</td>\n",
       "    </tr>\n",
       "    <tr>\n",
       "      <th>33.33333</th>\n",
       "      <td>0</td>\n",
       "      <td>182048</td>\n",
       "    </tr>\n",
       "    <tr>\n",
       "      <th>133.33333</th>\n",
       "      <td>2</td>\n",
       "      <td>257248</td>\n",
       "    </tr>\n",
       "    <tr>\n",
       "      <th>100.00000</th>\n",
       "      <td>0</td>\n",
       "      <td>180624</td>\n",
       "    </tr>\n",
       "  </tbody>\n",
       "</table>\n",
       "</div>"
      ],
      "text/plain": [
       "              video_frame  frame_size\n",
       "arrival_time                         \n",
       "0.00000                 1      277192\n",
       "66.66667                2      257984\n",
       "33.33333                0      182048\n",
       "133.33333               2      257248\n",
       "100.00000               0      180624"
      ]
     },
     "execution_count": 6,
     "metadata": {},
     "output_type": "execute_result"
    }
   ],
   "source": [
    "data.head()"
   ]
  },
  {
   "cell_type": "code",
   "execution_count": 7,
   "id": "15ac87b9",
   "metadata": {},
   "outputs": [],
   "source": [
    "data.frame_size.dropna(0,inplace= True)"
   ]
  },
  {
   "cell_type": "code",
   "execution_count": 8,
   "id": "5e463bbe",
   "metadata": {},
   "outputs": [],
   "source": [
    "data.reset_index(inplace=True)"
   ]
  },
  {
   "cell_type": "code",
   "execution_count": 9,
   "id": "b5381ffc",
   "metadata": {},
   "outputs": [
    {
     "data": {
      "text/html": [
       "<div>\n",
       "<style scoped>\n",
       "    .dataframe tbody tr th:only-of-type {\n",
       "        vertical-align: middle;\n",
       "    }\n",
       "\n",
       "    .dataframe tbody tr th {\n",
       "        vertical-align: top;\n",
       "    }\n",
       "\n",
       "    .dataframe thead th {\n",
       "        text-align: right;\n",
       "    }\n",
       "</style>\n",
       "<table border=\"1\" class=\"dataframe\">\n",
       "  <thead>\n",
       "    <tr style=\"text-align: right;\">\n",
       "      <th></th>\n",
       "      <th>arrival_time</th>\n",
       "      <th>video_frame</th>\n",
       "      <th>frame_size</th>\n",
       "    </tr>\n",
       "  </thead>\n",
       "  <tbody>\n",
       "    <tr>\n",
       "      <th>0</th>\n",
       "      <td>0.00000</td>\n",
       "      <td>1</td>\n",
       "      <td>277192</td>\n",
       "    </tr>\n",
       "    <tr>\n",
       "      <th>1</th>\n",
       "      <td>66.66667</td>\n",
       "      <td>2</td>\n",
       "      <td>257984</td>\n",
       "    </tr>\n",
       "    <tr>\n",
       "      <th>2</th>\n",
       "      <td>33.33333</td>\n",
       "      <td>0</td>\n",
       "      <td>182048</td>\n",
       "    </tr>\n",
       "    <tr>\n",
       "      <th>3</th>\n",
       "      <td>133.33333</td>\n",
       "      <td>2</td>\n",
       "      <td>257248</td>\n",
       "    </tr>\n",
       "    <tr>\n",
       "      <th>4</th>\n",
       "      <td>100.00000</td>\n",
       "      <td>0</td>\n",
       "      <td>180624</td>\n",
       "    </tr>\n",
       "  </tbody>\n",
       "</table>\n",
       "</div>"
      ],
      "text/plain": [
       "   arrival_time  video_frame  frame_size\n",
       "0       0.00000            1      277192\n",
       "1      66.66667            2      257984\n",
       "2      33.33333            0      182048\n",
       "3     133.33333            2      257248\n",
       "4     100.00000            0      180624"
      ]
     },
     "execution_count": 9,
     "metadata": {},
     "output_type": "execute_result"
    }
   ],
   "source": [
    "data.head()"
   ]
  },
  {
   "cell_type": "code",
   "execution_count": 10,
   "id": "23d637d2",
   "metadata": {},
   "outputs": [],
   "source": [
    "#Sort the arrival time\n",
    "\n",
    "data.sort_values('arrival_time', inplace=True)\n",
    "data.reset_index(drop=True, inplace=True)"
   ]
  },
  {
   "cell_type": "code",
   "execution_count": 11,
   "id": "c57cd471",
   "metadata": {},
   "outputs": [
    {
     "data": {
      "text/html": [
       "<div>\n",
       "<style scoped>\n",
       "    .dataframe tbody tr th:only-of-type {\n",
       "        vertical-align: middle;\n",
       "    }\n",
       "\n",
       "    .dataframe tbody tr th {\n",
       "        vertical-align: top;\n",
       "    }\n",
       "\n",
       "    .dataframe thead th {\n",
       "        text-align: right;\n",
       "    }\n",
       "</style>\n",
       "<table border=\"1\" class=\"dataframe\">\n",
       "  <thead>\n",
       "    <tr style=\"text-align: right;\">\n",
       "      <th></th>\n",
       "      <th>arrival_time</th>\n",
       "      <th>video_frame</th>\n",
       "      <th>frame_size</th>\n",
       "    </tr>\n",
       "  </thead>\n",
       "  <tbody>\n",
       "    <tr>\n",
       "      <th>0</th>\n",
       "      <td>0.00000</td>\n",
       "      <td>1</td>\n",
       "      <td>277192</td>\n",
       "    </tr>\n",
       "    <tr>\n",
       "      <th>1</th>\n",
       "      <td>33.33333</td>\n",
       "      <td>0</td>\n",
       "      <td>182048</td>\n",
       "    </tr>\n",
       "    <tr>\n",
       "      <th>2</th>\n",
       "      <td>66.66667</td>\n",
       "      <td>2</td>\n",
       "      <td>257984</td>\n",
       "    </tr>\n",
       "    <tr>\n",
       "      <th>3</th>\n",
       "      <td>100.00000</td>\n",
       "      <td>0</td>\n",
       "      <td>180624</td>\n",
       "    </tr>\n",
       "    <tr>\n",
       "      <th>4</th>\n",
       "      <td>133.33333</td>\n",
       "      <td>2</td>\n",
       "      <td>257248</td>\n",
       "    </tr>\n",
       "  </tbody>\n",
       "</table>\n",
       "</div>"
      ],
      "text/plain": [
       "   arrival_time  video_frame  frame_size\n",
       "0       0.00000            1      277192\n",
       "1      33.33333            0      182048\n",
       "2      66.66667            2      257984\n",
       "3     100.00000            0      180624\n",
       "4     133.33333            2      257248"
      ]
     },
     "execution_count": 11,
     "metadata": {},
     "output_type": "execute_result"
    }
   ],
   "source": [
    "data.head()"
   ]
  },
  {
   "cell_type": "code",
   "execution_count": 12,
   "id": "23290013",
   "metadata": {},
   "outputs": [
    {
     "data": {
      "text/plain": [
       "arrival_time    0\n",
       "video_frame     0\n",
       "frame_size      0\n",
       "dtype: int64"
      ]
     },
     "execution_count": 12,
     "metadata": {},
     "output_type": "execute_result"
    }
   ],
   "source": [
    "#Check missing values\n",
    "\n",
    "data.isnull().sum()"
   ]
  },
  {
   "cell_type": "code",
   "execution_count": 13,
   "id": "convertible-plain",
   "metadata": {},
   "outputs": [
    {
     "name": "stdout",
     "output_type": "stream",
     "text": [
      "peak_frame 1650733.333\n",
      "mean_val 232865.09799487106\n",
      "var_val 6157025485.4571705\n",
      "alpha 8.807199838987595\n",
      "beta 26440.31045645484\n"
     ]
    }
   ],
   "source": [
    "#Define the parameters\n",
    "\n",
    "peak_frame = max(data.arrival_time)\n",
    "print ('peak_frame', peak_frame)\n",
    "\n",
    "mean_val = np.mean(data.frame_size)\n",
    "var_val = np.var(data.frame_size)\n",
    "print('mean_val', mean_val)\n",
    "print('var_val', var_val)\n",
    "\n",
    "alpha = mean_val**2 / var_val\n",
    "beta = var_val / mean_val\n",
    "print('alpha', alpha)\n",
    "print('beta', beta)"
   ]
  },
  {
   "cell_type": "code",
   "execution_count": 14,
   "id": "superior-solid",
   "metadata": {},
   "outputs": [
    {
     "name": "stdout",
     "output_type": "stream",
     "text": [
      "mean_frame 232866.0\n",
      "49523\n",
      "11532178248\n"
     ]
    }
   ],
   "source": [
    "mean_frame = np.mean(data.frame_size)\n",
    "mean_frame = np.ceil(mean_frame)\n",
    "print('mean_frame', mean_frame)\n",
    "\n",
    "num_of_frames = data.shape[0]\n",
    "total = np.sum(data.frame_size)\n",
    "print(num_of_frames)\n",
    "print(total)"
   ]
  },
  {
   "cell_type": "code",
   "execution_count": 15,
   "id": "focal-retrieval",
   "metadata": {},
   "outputs": [
    {
     "data": {
      "text/plain": [
       "49523"
      ]
     },
     "execution_count": 15,
     "metadata": {},
     "output_type": "execute_result"
    }
   ],
   "source": [
    "len(data.frame_size)"
   ]
  },
  {
   "cell_type": "code",
   "execution_count": 16,
   "id": "proper-supplier",
   "metadata": {},
   "outputs": [
    {
     "data": {
      "text/plain": [
       "49523"
      ]
     },
     "execution_count": 16,
     "metadata": {},
     "output_type": "execute_result"
    }
   ],
   "source": [
    "data.shape[0]"
   ]
  },
  {
   "cell_type": "code",
   "execution_count": null,
   "id": "median-bargain",
   "metadata": {},
   "outputs": [],
   "source": []
  },
  {
   "cell_type": "markdown",
   "id": "neutral-correlation",
   "metadata": {},
   "source": [
    "***window size = 5***"
   ]
  },
  {
   "cell_type": "code",
   "execution_count": 17,
   "id": "dominican-appraisal",
   "metadata": {},
   "outputs": [
    {
     "name": "stdout",
     "output_type": "stream",
     "text": [
      "21.940998513778784\n"
     ]
    }
   ],
   "source": [
    "#Final sliding window algorithm\n",
    "\n",
    "length = len(data.frame_size) \n",
    "windowsize= 5\n",
    "addition =0\n",
    "max_frame= 0\n",
    "\n",
    "#for i in range(data.shape[0]-windowsize+1):\n",
    "#for i in range(0, length -windowsize+1):\n",
    "    \n",
    "for i in range(0, len(data['frame_size'])-windowsize+1):\n",
    "    \n",
    "    byte_sent = 0\n",
    "    deleted_bytes = 0\n",
    "    bucket_size = 0\n",
    "    marked_bytes = 0\n",
    "    #j = 0\n",
    "    l = 0\n",
    "\n",
    "    max_frame_sliding = list(data.frame_size[i:windowsize+i])\n",
    "    max_frame_sum = sum(max_frame_sliding)\n",
    "    if max_frame_sum > max_frame:\n",
    "        max_frame_final = max_frame_sum    \n",
    "\n",
    "    max_bucket_size = windowsize * max_frame_final\n",
    "    \n",
    "    for j in range(i,windowsize+i):\n",
    "        bucket_size += mean_frame\n",
    "        \n",
    "        if bucket_size > max_bucket_size:\n",
    "            bucket_size = max_bucket_size\n",
    "    \n",
    "        \n",
    "        if data.loc[j, 'frame_size'] <= bucket_size:            \n",
    "            byte_sent += data.loc[j, 'frame_size']\n",
    "            bucket_size = (bucket_size - data.loc[j, 'frame_size'])\n",
    "            \n",
    "        else:\n",
    "            byte_sent += bucket_size\n",
    "            marked_bytes += (data.loc[j, 'frame_size'] - bucket_size)\n",
    "            \n",
    "    \n",
    "    addition  += abs(marked_bytes)\n",
    "     \n",
    "percent = addition * 100 / total\n",
    "print(percent)\n"
   ]
  },
  {
   "cell_type": "markdown",
   "id": "injured-receiver",
   "metadata": {},
   "source": [
    "***Window size= 10***"
   ]
  },
  {
   "cell_type": "code",
   "execution_count": 18,
   "id": "ultimate-participation",
   "metadata": {},
   "outputs": [
    {
     "name": "stdout",
     "output_type": "stream",
     "text": [
      "29.47224644736518\n"
     ]
    }
   ],
   "source": [
    "#Final sliding window algorithm\n",
    "\n",
    "length = len(data.frame_size) \n",
    "windowsize= 10\n",
    "addition =0\n",
    "max_frame= 0\n",
    "\n",
    "#for i in range(data.shape[0]-windowsize+1):\n",
    "#for i in range(0, length -windowsize+1):\n",
    "    \n",
    "for i in range(0, len(data['frame_size'])-windowsize+1):\n",
    "    \n",
    "    byte_sent = 0\n",
    "    deleted_bytes = 0\n",
    "    bucket_size = 0\n",
    "    marked_bytes = 0\n",
    "    #j = 0\n",
    "    l = 0\n",
    "\n",
    "    max_frame_sliding = list(data.frame_size[i:windowsize+i])\n",
    "    max_frame_sum = sum(max_frame_sliding)\n",
    "    if max_frame_sum > max_frame:\n",
    "        max_frame_final = max_frame_sum    \n",
    "\n",
    "    max_bucket_size = windowsize * max_frame_final\n",
    "    \n",
    "    for j in range(i,windowsize+i):\n",
    "        bucket_size += mean_frame\n",
    "        \n",
    "        if bucket_size > max_bucket_size:\n",
    "            bucket_size = max_bucket_size\n",
    "    \n",
    "        \n",
    "        if data.loc[j, 'frame_size'] <= bucket_size:            \n",
    "            byte_sent += data.loc[j, 'frame_size']\n",
    "            bucket_size = (bucket_size - data.loc[j, 'frame_size'])\n",
    "            \n",
    "        else:\n",
    "            byte_sent += bucket_size\n",
    "            marked_bytes += (data.loc[j, 'frame_size'] - bucket_size)\n",
    "            \n",
    "    \n",
    "    addition  += abs(marked_bytes)\n",
    "     \n",
    "percent = addition * 100 / total\n",
    "print(percent)\n"
   ]
  },
  {
   "cell_type": "code",
   "execution_count": null,
   "id": "black-tuner",
   "metadata": {},
   "outputs": [],
   "source": []
  },
  {
   "cell_type": "markdown",
   "id": "dedicated-genre",
   "metadata": {},
   "source": [
    "***Window size = 15***"
   ]
  },
  {
   "cell_type": "code",
   "execution_count": 19,
   "id": "electoral-factory",
   "metadata": {},
   "outputs": [
    {
     "name": "stdout",
     "output_type": "stream",
     "text": [
      "36.62131556744214\n"
     ]
    }
   ],
   "source": [
    "#Final sliding window algorithm\n",
    "\n",
    "length = len(data.frame_size) \n",
    "windowsize= 15\n",
    "addition =0\n",
    "max_frame= 0\n",
    "\n",
    "#for i in range(data.shape[0]-windowsize+1):\n",
    "#for i in range(0, length -windowsize+1):\n",
    "    \n",
    "for i in range(0, len(data['frame_size'])-windowsize+1):\n",
    "    \n",
    "    byte_sent = 0\n",
    "    deleted_bytes = 0\n",
    "    bucket_size = 0\n",
    "    marked_bytes = 0\n",
    "    #j = 0\n",
    "    l = 0\n",
    "\n",
    "    max_frame_sliding = list(data.frame_size[i:windowsize+i])\n",
    "    max_frame_sum = sum(max_frame_sliding)\n",
    "    if max_frame_sum > max_frame:\n",
    "        max_frame_final = max_frame_sum    \n",
    "\n",
    "    max_bucket_size = windowsize * max_frame_final\n",
    "    \n",
    "    for j in range(i,windowsize+i):\n",
    "        bucket_size += mean_frame\n",
    "        \n",
    "        if bucket_size > max_bucket_size:\n",
    "            bucket_size = max_bucket_size\n",
    "    \n",
    "        \n",
    "        if data.loc[j, 'frame_size'] <= bucket_size:            \n",
    "            byte_sent += data.loc[j, 'frame_size']\n",
    "            bucket_size = (bucket_size - data.loc[j, 'frame_size'])\n",
    "            \n",
    "        else:\n",
    "            byte_sent += bucket_size\n",
    "            marked_bytes += (data.loc[j, 'frame_size'] - bucket_size)\n",
    "            \n",
    "    \n",
    "    addition  += abs(marked_bytes)\n",
    "     \n",
    "percent = addition * 100 / total\n",
    "print(percent)\n"
   ]
  },
  {
   "cell_type": "markdown",
   "id": "viral-compiler",
   "metadata": {},
   "source": [
    "***Window size = 20***"
   ]
  },
  {
   "cell_type": "code",
   "execution_count": 20,
   "id": "durable-helen",
   "metadata": {},
   "outputs": [
    {
     "name": "stdout",
     "output_type": "stream",
     "text": [
      "43.723687941386736\n"
     ]
    }
   ],
   "source": [
    "#Final sliding window algorithm\n",
    "\n",
    "length = len(data.frame_size) \n",
    "windowsize= 20\n",
    "addition =0\n",
    "max_frame= 0\n",
    "\n",
    "#for i in range(data.shape[0]-windowsize+1):\n",
    "#for i in range(0, length -windowsize+1):\n",
    "    \n",
    "for i in range(0, len(data['frame_size'])-windowsize+1):\n",
    "    \n",
    "    byte_sent = 0\n",
    "    deleted_bytes = 0\n",
    "    bucket_size = 0\n",
    "    marked_bytes = 0\n",
    "    #j = 0\n",
    "    l = 0\n",
    "\n",
    "    max_frame_sliding = list(data.frame_size[i:windowsize+i])\n",
    "    max_frame_sum = sum(max_frame_sliding)\n",
    "    if max_frame_sum > max_frame:\n",
    "        max_frame_final = max_frame_sum    \n",
    "\n",
    "    max_bucket_size = windowsize * max_frame_final\n",
    "    \n",
    "    for j in range(i,windowsize+i):\n",
    "        bucket_size += mean_frame\n",
    "        \n",
    "        if bucket_size > max_bucket_size:\n",
    "            bucket_size = max_bucket_size\n",
    "    \n",
    "        \n",
    "        if data.loc[j, 'frame_size'] <= bucket_size:            \n",
    "            byte_sent += data.loc[j, 'frame_size']\n",
    "            bucket_size = (bucket_size - data.loc[j, 'frame_size'])\n",
    "            \n",
    "        else:\n",
    "            byte_sent += bucket_size\n",
    "            marked_bytes += (data.loc[j, 'frame_size'] - bucket_size)\n",
    "            \n",
    "    \n",
    "    addition  += abs(marked_bytes)\n",
    "     \n",
    "percent = addition * 100 / total\n",
    "print(percent)\n"
   ]
  },
  {
   "cell_type": "markdown",
   "id": "ceramic-leisure",
   "metadata": {},
   "source": [
    "***Window size = 25***"
   ]
  },
  {
   "cell_type": "code",
   "execution_count": 21,
   "id": "growing-making",
   "metadata": {},
   "outputs": [
    {
     "name": "stdout",
     "output_type": "stream",
     "text": [
      "50.702998516468995\n"
     ]
    }
   ],
   "source": [
    "#Final sliding window algorithm\n",
    "\n",
    "length = len(data.frame_size) \n",
    "windowsize= 25\n",
    "addition =0\n",
    "max_frame= 0\n",
    "\n",
    "#for i in range(data.shape[0]-windowsize+1):\n",
    "#for i in range(0, length -windowsize+1):\n",
    "    \n",
    "for i in range(0, len(data['frame_size'])-windowsize+1):\n",
    "    \n",
    "    byte_sent = 0\n",
    "    deleted_bytes = 0\n",
    "    bucket_size = 0\n",
    "    marked_bytes = 0\n",
    "    #j = 0\n",
    "    l = 0\n",
    "\n",
    "    max_frame_sliding = list(data.frame_size[i:windowsize+i])\n",
    "    max_frame_sum = sum(max_frame_sliding)\n",
    "    if max_frame_sum > max_frame:\n",
    "        max_frame_final = max_frame_sum    \n",
    "\n",
    "    max_bucket_size = windowsize * max_frame_final\n",
    "    \n",
    "    for j in range(i,windowsize+i):\n",
    "        bucket_size += mean_frame\n",
    "        \n",
    "        if bucket_size > max_bucket_size:\n",
    "            bucket_size = max_bucket_size\n",
    "    \n",
    "        \n",
    "        if data.loc[j, 'frame_size'] <= bucket_size:            \n",
    "            byte_sent += data.loc[j, 'frame_size']\n",
    "            bucket_size = (bucket_size - data.loc[j, 'frame_size'])\n",
    "            \n",
    "        else:\n",
    "            byte_sent += bucket_size\n",
    "            marked_bytes += (data.loc[j, 'frame_size'] - bucket_size)\n",
    "            \n",
    "    \n",
    "    addition  += abs(marked_bytes)\n",
    "     \n",
    "percent = addition * 100 / total\n",
    "print(percent)\n"
   ]
  },
  {
   "cell_type": "markdown",
   "id": "moving-avenue",
   "metadata": {},
   "source": [
    "***Window size = 30***"
   ]
  },
  {
   "cell_type": "code",
   "execution_count": 22,
   "id": "tired-machinery",
   "metadata": {},
   "outputs": [
    {
     "name": "stdout",
     "output_type": "stream",
     "text": [
      "57.55527883165616\n"
     ]
    }
   ],
   "source": [
    "#Final sliding window algorithm\n",
    "\n",
    "length = len(data.frame_size) \n",
    "windowsize= 30\n",
    "addition =0\n",
    "max_frame= 0\n",
    "\n",
    "#for i in range(data.shape[0]-windowsize+1):\n",
    "#for i in range(0, length -windowsize+1):\n",
    "    \n",
    "for i in range(0, len(data['frame_size'])-windowsize+1):\n",
    "    \n",
    "    byte_sent = 0\n",
    "    deleted_bytes = 0\n",
    "    bucket_size = 0\n",
    "    marked_bytes = 0\n",
    "    #j = 0\n",
    "    l = 0\n",
    "\n",
    "    max_frame_sliding = list(data.frame_size[i:windowsize+i])\n",
    "    max_frame_sum = sum(max_frame_sliding)\n",
    "    if max_frame_sum > max_frame:\n",
    "        max_frame_final = max_frame_sum    \n",
    "\n",
    "    max_bucket_size = windowsize * max_frame_final\n",
    "    \n",
    "    for j in range(i,windowsize+i):\n",
    "        bucket_size += mean_frame\n",
    "        \n",
    "        if bucket_size > max_bucket_size:\n",
    "            bucket_size = max_bucket_size\n",
    "    \n",
    "        \n",
    "        if data.loc[j, 'frame_size'] <= bucket_size:            \n",
    "            byte_sent += data.loc[j, 'frame_size']\n",
    "            bucket_size = (bucket_size - data.loc[j, 'frame_size'])\n",
    "            \n",
    "        else:\n",
    "            byte_sent += bucket_size\n",
    "            marked_bytes += (data.loc[j, 'frame_size'] - bucket_size)\n",
    "            \n",
    "    \n",
    "    addition  += abs(marked_bytes)\n",
    "     \n",
    "percent = addition * 100 / total\n",
    "print(percent)\n"
   ]
  },
  {
   "cell_type": "markdown",
   "id": "special-district",
   "metadata": {},
   "source": [
    "***Window size = 35***"
   ]
  },
  {
   "cell_type": "code",
   "execution_count": 23,
   "id": "organic-sacrifice",
   "metadata": {},
   "outputs": [
    {
     "name": "stdout",
     "output_type": "stream",
     "text": [
      "64.41324662396946\n"
     ]
    }
   ],
   "source": [
    "#Final sliding window algorithm\n",
    "\n",
    "length = len(data.frame_size) \n",
    "windowsize= 35\n",
    "addition =0\n",
    "max_frame= 0\n",
    "\n",
    "#for i in range(data.shape[0]-windowsize+1):\n",
    "#for i in range(0, length -windowsize+1):\n",
    "    \n",
    "for i in range(0, len(data['frame_size'])-windowsize+1):\n",
    "    \n",
    "    byte_sent = 0\n",
    "    deleted_bytes = 0\n",
    "    bucket_size = 0\n",
    "    marked_bytes = 0\n",
    "    #j = 0\n",
    "    l = 0\n",
    "\n",
    "    max_frame_sliding = list(data.frame_size[i:windowsize+i])\n",
    "    max_frame_sum = sum(max_frame_sliding)\n",
    "    if max_frame_sum > max_frame:\n",
    "        max_frame_final = max_frame_sum    \n",
    "\n",
    "    max_bucket_size = windowsize * max_frame_final\n",
    "    \n",
    "    for j in range(i,windowsize+i):\n",
    "        bucket_size += mean_frame\n",
    "        \n",
    "        if bucket_size > max_bucket_size:\n",
    "            bucket_size = max_bucket_size\n",
    "    \n",
    "        \n",
    "        if data.loc[j, 'frame_size'] <= bucket_size:            \n",
    "            byte_sent += data.loc[j, 'frame_size']\n",
    "            bucket_size = (bucket_size - data.loc[j, 'frame_size'])\n",
    "            \n",
    "        else:\n",
    "            byte_sent += bucket_size\n",
    "            marked_bytes += (data.loc[j, 'frame_size'] - bucket_size)\n",
    "            \n",
    "    \n",
    "    addition  += abs(marked_bytes)\n",
    "     \n",
    "percent = addition * 100 / total\n",
    "print(percent)\n"
   ]
  },
  {
   "cell_type": "markdown",
   "id": "satisfactory-lindsay",
   "metadata": {},
   "source": [
    "***Window size = 40***"
   ]
  },
  {
   "cell_type": "code",
   "execution_count": 24,
   "id": "vital-punishment",
   "metadata": {},
   "outputs": [
    {
     "name": "stdout",
     "output_type": "stream",
     "text": [
      "71.22350717588388\n"
     ]
    }
   ],
   "source": [
    "#Final sliding window algorithm\n",
    "\n",
    "length = len(data.frame_size) \n",
    "windowsize= 40\n",
    "addition =0\n",
    "max_frame= 0\n",
    "\n",
    "#for i in range(data.shape[0]-windowsize+1):\n",
    "#for i in range(0, length -windowsize+1):\n",
    "    \n",
    "for i in range(0, len(data['frame_size'])-windowsize+1):\n",
    "    \n",
    "    byte_sent = 0\n",
    "    deleted_bytes = 0\n",
    "    bucket_size = 0\n",
    "    marked_bytes = 0\n",
    "    #j = 0\n",
    "    l = 0\n",
    "\n",
    "    max_frame_sliding = list(data.frame_size[i:windowsize+i])\n",
    "    max_frame_sum = sum(max_frame_sliding)\n",
    "    if max_frame_sum > max_frame:\n",
    "        max_frame_final = max_frame_sum    \n",
    "\n",
    "    max_bucket_size = windowsize * max_frame_final\n",
    "    \n",
    "    for j in range(i,windowsize+i):\n",
    "        bucket_size += mean_frame\n",
    "        \n",
    "        if bucket_size > max_bucket_size:\n",
    "            bucket_size = max_bucket_size\n",
    "    \n",
    "        \n",
    "        if data.loc[j, 'frame_size'] <= bucket_size:            \n",
    "            byte_sent += data.loc[j, 'frame_size']\n",
    "            bucket_size = (bucket_size - data.loc[j, 'frame_size'])\n",
    "            \n",
    "        else:\n",
    "            byte_sent += bucket_size\n",
    "            marked_bytes += (data.loc[j, 'frame_size'] - bucket_size)\n",
    "            \n",
    "    \n",
    "    addition  += abs(marked_bytes)\n",
    "     \n",
    "percent = addition * 100 / total\n",
    "print(percent)\n"
   ]
  },
  {
   "cell_type": "markdown",
   "id": "promising-shock",
   "metadata": {},
   "source": [
    "***Window size = 45***"
   ]
  },
  {
   "cell_type": "code",
   "execution_count": 25,
   "id": "frozen-conflict",
   "metadata": {},
   "outputs": [
    {
     "name": "stdout",
     "output_type": "stream",
     "text": [
      "77.99749867341801\n"
     ]
    }
   ],
   "source": [
    "#Final sliding window algorithm\n",
    "\n",
    "length = len(data.frame_size) \n",
    "windowsize= 45\n",
    "addition =0\n",
    "max_frame= 0\n",
    "\n",
    "#for i in range(data.shape[0]-windowsize+1):\n",
    "#for i in range(0, length -windowsize+1):\n",
    "    \n",
    "for i in range(0, len(data['frame_size'])-windowsize+1):\n",
    "    \n",
    "    byte_sent = 0\n",
    "    deleted_bytes = 0\n",
    "    bucket_size = 0\n",
    "    marked_bytes = 0\n",
    "    #j = 0\n",
    "    l = 0\n",
    "\n",
    "    max_frame_sliding = list(data.frame_size[i:windowsize+i])\n",
    "    max_frame_sum = sum(max_frame_sliding)\n",
    "    if max_frame_sum > max_frame:\n",
    "        max_frame_final = max_frame_sum    \n",
    "\n",
    "    max_bucket_size = windowsize * max_frame_final\n",
    "    \n",
    "    for j in range(i,windowsize+i):\n",
    "        bucket_size += mean_frame\n",
    "        \n",
    "        if bucket_size > max_bucket_size:\n",
    "            bucket_size = max_bucket_size\n",
    "    \n",
    "        \n",
    "        if data.loc[j, 'frame_size'] <= bucket_size:            \n",
    "            byte_sent += data.loc[j, 'frame_size']\n",
    "            bucket_size = (bucket_size - data.loc[j, 'frame_size'])\n",
    "            \n",
    "        else:\n",
    "            byte_sent += bucket_size\n",
    "            marked_bytes += (data.loc[j, 'frame_size'] - bucket_size)\n",
    "            \n",
    "    \n",
    "    addition  += abs(marked_bytes)\n",
    "     \n",
    "percent = addition * 100 / total\n",
    "print(percent)\n"
   ]
  },
  {
   "cell_type": "markdown",
   "id": "minimal-tanzania",
   "metadata": {},
   "source": [
    "***Window size = 50***"
   ]
  },
  {
   "cell_type": "code",
   "execution_count": 26,
   "id": "homeless-swedish",
   "metadata": {},
   "outputs": [
    {
     "name": "stdout",
     "output_type": "stream",
     "text": [
      "84.74248434110746\n"
     ]
    }
   ],
   "source": [
    "#Final sliding window algorithm\n",
    "\n",
    "length = len(data.frame_size) \n",
    "windowsize= 50\n",
    "addition =0\n",
    "max_frame= 0\n",
    "\n",
    "#for i in range(data.shape[0]-windowsize+1):\n",
    "#for i in range(0, length -windowsize+1):\n",
    "    \n",
    "for i in range(0, len(data['frame_size'])-windowsize+1):\n",
    "    \n",
    "    byte_sent = 0\n",
    "    deleted_bytes = 0\n",
    "    bucket_size = 0\n",
    "    marked_bytes = 0\n",
    "    #j = 0\n",
    "    l = 0\n",
    "\n",
    "    max_frame_sliding = list(data.frame_size[i:windowsize+i])\n",
    "    max_frame_sum = sum(max_frame_sliding)\n",
    "    if max_frame_sum > max_frame:\n",
    "        max_frame_final = max_frame_sum    \n",
    "\n",
    "    max_bucket_size = windowsize * max_frame_final\n",
    "    \n",
    "    for j in range(i,windowsize+i):\n",
    "        bucket_size += mean_frame\n",
    "        \n",
    "        if bucket_size > max_bucket_size:\n",
    "            bucket_size = max_bucket_size\n",
    "    \n",
    "        \n",
    "        if data.loc[j, 'frame_size'] <= bucket_size:            \n",
    "            byte_sent += data.loc[j, 'frame_size']\n",
    "            bucket_size = (bucket_size - data.loc[j, 'frame_size'])\n",
    "            \n",
    "        else:\n",
    "            byte_sent += bucket_size\n",
    "            marked_bytes += (data.loc[j, 'frame_size'] - bucket_size)\n",
    "            \n",
    "    \n",
    "    addition  += abs(marked_bytes)\n",
    "     \n",
    "percent = addition * 100 / total\n",
    "print(percent)\n"
   ]
  },
  {
   "cell_type": "code",
   "execution_count": null,
   "id": "downtown-accused",
   "metadata": {},
   "outputs": [],
   "source": []
  },
  {
   "cell_type": "code",
   "execution_count": null,
   "id": "leading-planner",
   "metadata": {},
   "outputs": [],
   "source": []
  },
  {
   "cell_type": "code",
   "execution_count": null,
   "id": "capital-march",
   "metadata": {},
   "outputs": [],
   "source": []
  }
 ],
 "metadata": {
  "kernelspec": {
   "display_name": "Python 3",
   "language": "python",
   "name": "python3"
  },
  "language_info": {
   "codemirror_mode": {
    "name": "ipython",
    "version": 3
   },
   "file_extension": ".py",
   "mimetype": "text/x-python",
   "name": "python",
   "nbconvert_exporter": "python",
   "pygments_lexer": "ipython3",
   "version": "3.8.5"
  }
 },
 "nbformat": 4,
 "nbformat_minor": 5
}
